{
 "cells": [
  {
   "cell_type": "markdown",
   "metadata": {},
   "source": [
    "# Bigmac index\n",
    "by Juan Pablo NAVARRO RUEDA"
   ]
  },
  {
   "cell_type": "code",
   "execution_count": 139,
   "metadata": {},
   "outputs": [],
   "source": [
    "import pandas as pd\n",
    "import numpy as np\n",
    "import plotly.graph_objects as go\n",
    "import plotly.express as px\n",
    "from plotly.subplots import make_subplots\n",
    "import datetime as dt\n",
    "from sklearn.preprocessing import PolynomialFeatures\n",
    "from sklearn import linear_model"
   ]
  },
  {
   "cell_type": "code",
   "execution_count": 140,
   "metadata": {},
   "outputs": [],
   "source": [
    "url = 'https://raw.githubusercontent.com/TheEconomist/big-mac-data/master/output-data/big-mac-full-index.csv'\n",
    "data = pd.read_csv(url, index_col=1)"
   ]
  },
  {
   "cell_type": "code",
   "execution_count": 141,
   "metadata": {},
   "outputs": [
    {
     "name": "stdout",
     "output_type": "stream",
     "text": [
      "<class 'pandas.core.frame.DataFrame'>\n",
      "Index: 1577 entries, ARG to ZAF\n",
      "Data columns (total 18 columns):\n",
      " #   Column         Non-Null Count  Dtype  \n",
      "---  ------         --------------  -----  \n",
      " 0   date           1577 non-null   object \n",
      " 1   currency_code  1577 non-null   object \n",
      " 2   name           1577 non-null   object \n",
      " 3   local_price    1577 non-null   float64\n",
      " 4   dollar_ex      1577 non-null   float64\n",
      " 5   dollar_price   1577 non-null   float64\n",
      " 6   USD_raw        1577 non-null   float64\n",
      " 7   EUR_raw        1577 non-null   float64\n",
      " 8   GBP_raw        1577 non-null   float64\n",
      " 9   JPY_raw        1577 non-null   float64\n",
      " 10  CNY_raw        1577 non-null   float64\n",
      " 11  GDP_dollar     867 non-null    float64\n",
      " 12  adj_price      867 non-null    float64\n",
      " 13  USD_adjusted   867 non-null    float64\n",
      " 14  EUR_adjusted   867 non-null    float64\n",
      " 15  GBP_adjusted   867 non-null    float64\n",
      " 16  JPY_adjusted   867 non-null    float64\n",
      " 17  CNY_adjusted   867 non-null    float64\n",
      "dtypes: float64(15), object(3)\n",
      "memory usage: 234.1+ KB\n"
     ]
    }
   ],
   "source": [
    "data.info()"
   ]
  },
  {
   "cell_type": "code",
   "execution_count": 142,
   "metadata": {},
   "outputs": [
    {
     "data": {
      "text/plain": [
       "date               0\n",
       "currency_code      0\n",
       "name               0\n",
       "local_price        0\n",
       "dollar_ex          0\n",
       "dollar_price       0\n",
       "USD_raw            0\n",
       "EUR_raw            0\n",
       "GBP_raw            0\n",
       "JPY_raw            0\n",
       "CNY_raw            0\n",
       "GDP_dollar       710\n",
       "adj_price        710\n",
       "USD_adjusted     710\n",
       "EUR_adjusted     710\n",
       "GBP_adjusted     710\n",
       "JPY_adjusted     710\n",
       "CNY_adjusted     710\n",
       "dtype: int64"
      ]
     },
     "execution_count": 142,
     "metadata": {},
     "output_type": "execute_result"
    }
   ],
   "source": [
    "data.isnull().sum()"
   ]
  },
  {
   "cell_type": "code",
   "execution_count": 143,
   "metadata": {},
   "outputs": [],
   "source": [
    "bigmac_Col=data[data['name']=='Colombia']\n",
    "bigmac_AU=data[data['name']=='Australia']"
   ]
  },
  {
   "cell_type": "code",
   "execution_count": 144,
   "metadata": {},
   "outputs": [
    {
     "data": {
      "text/plain": [
       "9"
      ]
     },
     "execution_count": 144,
     "metadata": {},
     "output_type": "execute_result"
    }
   ],
   "source": [
    "bigmac_Col['GDP_dollar'].isnull().sum()"
   ]
  },
  {
   "cell_type": "code",
   "execution_count": 145,
   "metadata": {},
   "outputs": [],
   "source": [
    "bigmac_Col_adj_filtered = bigmac_Col.dropna()"
   ]
  },
  {
   "cell_type": "code",
   "execution_count": 146,
   "metadata": {},
   "outputs": [
    {
     "data": {
      "application/vnd.plotly.v1+json": {
       "config": {
        "plotlyServerURL": "https://plot.ly"
       },
       "data": [
        {
         "hovertemplate": "date=%{x}<br>USD_adjusted=%{y}<extra></extra>",
         "legendgroup": "",
         "line": {
          "color": "#636efa",
          "dash": "solid"
         },
         "marker": {
          "symbol": "circle"
         },
         "mode": "lines",
         "name": "",
         "orientation": "v",
         "showlegend": false,
         "type": "scatter",
         "x": [
          "2011-07-01",
          "2012-01-01",
          "2012-07-01",
          "2013-01-01",
          "2013-07-01",
          "2014-01-01",
          "2014-07-01",
          "2015-01-01",
          "2015-07-01",
          "2016-01-01",
          "2016-07-01",
          "2017-01-01",
          "2017-07-01",
          "2018-01-01",
          "2018-07-01",
          "2019-01-01",
          "2019-07-09",
          "2020-01-14",
          "2020-07-01",
          "2021-01-01",
          "2021-07-01",
          "2022-01-01"
         ],
         "xaxis": "x",
         "y": [
          1.07889,
          0.79665,
          0.77858,
          0.7632,
          0.56608,
          0.55666,
          0.55709,
          0.12726,
          -0.03991,
          -0.1824,
          0.02415,
          0.12274,
          0.038,
          0.25681,
          0.33318,
          0.21538,
          0.09901,
          0.10187,
          0.03394,
          0.16367,
          0.03829,
          -0.04801
         ],
         "yaxis": "y2"
        },
        {
         "alignmentgroup": "True",
         "hovertemplate": "date=%{x}<br>GDP_dollar=%{y}<extra></extra>",
         "legendgroup": "",
         "marker": {
          "color": "rgb(158,202,225)",
          "line": {
           "color": "rgb(8,48,107)",
           "width": 1.5
          },
          "pattern": {
           "shape": ""
          }
         },
         "name": "",
         "offsetgroup": "",
         "opacity": 0.6,
         "orientation": "v",
         "showlegend": false,
         "textposition": "auto",
         "type": "bar",
         "x": [
          "2011-07-01",
          "2012-01-01",
          "2012-07-01",
          "2013-01-01",
          "2013-07-01",
          "2014-01-01",
          "2014-07-01",
          "2015-01-01",
          "2015-07-01",
          "2016-01-01",
          "2016-07-01",
          "2017-01-01",
          "2017-07-01",
          "2018-01-01",
          "2018-07-01",
          "2019-01-01",
          "2019-07-09",
          "2020-01-14",
          "2020-07-01",
          "2021-01-01",
          "2021-07-01",
          "2022-01-01"
         ],
         "xaxis": "x",
         "y": [
          6273.372,
          6273.372,
          6273.372,
          7114.33,
          7114.33,
          7114.33,
          7935.716,
          8030.715,
          8075.644,
          7928.061,
          6083.51,
          6083.51,
          5792.182,
          5792.182,
          6272.818,
          6379.606,
          6325.49,
          6641.507,
          6641.507,
          6423.179,
          5335.59,
          5390.92
         ],
         "yaxis": "y"
        },
        {
         "hovertemplate": "date=%{x}<br>USD_raw=%{y}<extra></extra>",
         "legendgroup": "",
         "line": {
          "color": "rgb(225,0,0)",
          "dash": "solid"
         },
         "marker": {
          "line": {
           "width": 1.5
          },
          "symbol": "circle"
         },
         "mode": "lines",
         "name": "",
         "orientation": "v",
         "showlegend": false,
         "type": "scatter",
         "x": [
          "2011-07-01",
          "2012-01-01",
          "2012-07-01",
          "2013-01-01",
          "2013-07-01",
          "2014-01-01",
          "2014-07-01",
          "2015-01-01",
          "2015-07-01",
          "2016-01-01",
          "2016-07-01",
          "2017-01-01",
          "2017-07-01",
          "2018-01-01",
          "2018-07-01",
          "2019-01-01",
          "2019-07-09",
          "2020-01-14",
          "2020-07-01",
          "2021-01-01",
          "2021-07-01",
          "2022-01-01"
         ],
         "xaxis": "x",
         "y": [
          0.16714,
          0.08054,
          0.10131,
          0.11051,
          -0.01752,
          -0.06203,
          -0.02929,
          -0.30263,
          -0.39117,
          -0.50753,
          -0.39711,
          -0.34666,
          -0.388,
          -0.27415,
          -0.24855,
          -0.33178,
          -0.35755,
          -0.36162,
          -0.42382,
          -0.33883,
          -0.40344,
          -0.43457
         ],
         "yaxis": "y2"
        }
       ],
       "layout": {
        "template": {
         "data": {
          "bar": [
           {
            "error_x": {
             "color": "#2a3f5f"
            },
            "error_y": {
             "color": "#2a3f5f"
            },
            "marker": {
             "line": {
              "color": "#E5ECF6",
              "width": 0.5
             },
             "pattern": {
              "fillmode": "overlay",
              "size": 10,
              "solidity": 0.2
             }
            },
            "type": "bar"
           }
          ],
          "barpolar": [
           {
            "marker": {
             "line": {
              "color": "#E5ECF6",
              "width": 0.5
             },
             "pattern": {
              "fillmode": "overlay",
              "size": 10,
              "solidity": 0.2
             }
            },
            "type": "barpolar"
           }
          ],
          "carpet": [
           {
            "aaxis": {
             "endlinecolor": "#2a3f5f",
             "gridcolor": "white",
             "linecolor": "white",
             "minorgridcolor": "white",
             "startlinecolor": "#2a3f5f"
            },
            "baxis": {
             "endlinecolor": "#2a3f5f",
             "gridcolor": "white",
             "linecolor": "white",
             "minorgridcolor": "white",
             "startlinecolor": "#2a3f5f"
            },
            "type": "carpet"
           }
          ],
          "choropleth": [
           {
            "colorbar": {
             "outlinewidth": 0,
             "ticks": ""
            },
            "type": "choropleth"
           }
          ],
          "contour": [
           {
            "colorbar": {
             "outlinewidth": 0,
             "ticks": ""
            },
            "colorscale": [
             [
              0,
              "#0d0887"
             ],
             [
              0.1111111111111111,
              "#46039f"
             ],
             [
              0.2222222222222222,
              "#7201a8"
             ],
             [
              0.3333333333333333,
              "#9c179e"
             ],
             [
              0.4444444444444444,
              "#bd3786"
             ],
             [
              0.5555555555555556,
              "#d8576b"
             ],
             [
              0.6666666666666666,
              "#ed7953"
             ],
             [
              0.7777777777777778,
              "#fb9f3a"
             ],
             [
              0.8888888888888888,
              "#fdca26"
             ],
             [
              1,
              "#f0f921"
             ]
            ],
            "type": "contour"
           }
          ],
          "contourcarpet": [
           {
            "colorbar": {
             "outlinewidth": 0,
             "ticks": ""
            },
            "type": "contourcarpet"
           }
          ],
          "heatmap": [
           {
            "colorbar": {
             "outlinewidth": 0,
             "ticks": ""
            },
            "colorscale": [
             [
              0,
              "#0d0887"
             ],
             [
              0.1111111111111111,
              "#46039f"
             ],
             [
              0.2222222222222222,
              "#7201a8"
             ],
             [
              0.3333333333333333,
              "#9c179e"
             ],
             [
              0.4444444444444444,
              "#bd3786"
             ],
             [
              0.5555555555555556,
              "#d8576b"
             ],
             [
              0.6666666666666666,
              "#ed7953"
             ],
             [
              0.7777777777777778,
              "#fb9f3a"
             ],
             [
              0.8888888888888888,
              "#fdca26"
             ],
             [
              1,
              "#f0f921"
             ]
            ],
            "type": "heatmap"
           }
          ],
          "heatmapgl": [
           {
            "colorbar": {
             "outlinewidth": 0,
             "ticks": ""
            },
            "colorscale": [
             [
              0,
              "#0d0887"
             ],
             [
              0.1111111111111111,
              "#46039f"
             ],
             [
              0.2222222222222222,
              "#7201a8"
             ],
             [
              0.3333333333333333,
              "#9c179e"
             ],
             [
              0.4444444444444444,
              "#bd3786"
             ],
             [
              0.5555555555555556,
              "#d8576b"
             ],
             [
              0.6666666666666666,
              "#ed7953"
             ],
             [
              0.7777777777777778,
              "#fb9f3a"
             ],
             [
              0.8888888888888888,
              "#fdca26"
             ],
             [
              1,
              "#f0f921"
             ]
            ],
            "type": "heatmapgl"
           }
          ],
          "histogram": [
           {
            "marker": {
             "pattern": {
              "fillmode": "overlay",
              "size": 10,
              "solidity": 0.2
             }
            },
            "type": "histogram"
           }
          ],
          "histogram2d": [
           {
            "colorbar": {
             "outlinewidth": 0,
             "ticks": ""
            },
            "colorscale": [
             [
              0,
              "#0d0887"
             ],
             [
              0.1111111111111111,
              "#46039f"
             ],
             [
              0.2222222222222222,
              "#7201a8"
             ],
             [
              0.3333333333333333,
              "#9c179e"
             ],
             [
              0.4444444444444444,
              "#bd3786"
             ],
             [
              0.5555555555555556,
              "#d8576b"
             ],
             [
              0.6666666666666666,
              "#ed7953"
             ],
             [
              0.7777777777777778,
              "#fb9f3a"
             ],
             [
              0.8888888888888888,
              "#fdca26"
             ],
             [
              1,
              "#f0f921"
             ]
            ],
            "type": "histogram2d"
           }
          ],
          "histogram2dcontour": [
           {
            "colorbar": {
             "outlinewidth": 0,
             "ticks": ""
            },
            "colorscale": [
             [
              0,
              "#0d0887"
             ],
             [
              0.1111111111111111,
              "#46039f"
             ],
             [
              0.2222222222222222,
              "#7201a8"
             ],
             [
              0.3333333333333333,
              "#9c179e"
             ],
             [
              0.4444444444444444,
              "#bd3786"
             ],
             [
              0.5555555555555556,
              "#d8576b"
             ],
             [
              0.6666666666666666,
              "#ed7953"
             ],
             [
              0.7777777777777778,
              "#fb9f3a"
             ],
             [
              0.8888888888888888,
              "#fdca26"
             ],
             [
              1,
              "#f0f921"
             ]
            ],
            "type": "histogram2dcontour"
           }
          ],
          "mesh3d": [
           {
            "colorbar": {
             "outlinewidth": 0,
             "ticks": ""
            },
            "type": "mesh3d"
           }
          ],
          "parcoords": [
           {
            "line": {
             "colorbar": {
              "outlinewidth": 0,
              "ticks": ""
             }
            },
            "type": "parcoords"
           }
          ],
          "pie": [
           {
            "automargin": true,
            "type": "pie"
           }
          ],
          "scatter": [
           {
            "marker": {
             "colorbar": {
              "outlinewidth": 0,
              "ticks": ""
             }
            },
            "type": "scatter"
           }
          ],
          "scatter3d": [
           {
            "line": {
             "colorbar": {
              "outlinewidth": 0,
              "ticks": ""
             }
            },
            "marker": {
             "colorbar": {
              "outlinewidth": 0,
              "ticks": ""
             }
            },
            "type": "scatter3d"
           }
          ],
          "scattercarpet": [
           {
            "marker": {
             "colorbar": {
              "outlinewidth": 0,
              "ticks": ""
             }
            },
            "type": "scattercarpet"
           }
          ],
          "scattergeo": [
           {
            "marker": {
             "colorbar": {
              "outlinewidth": 0,
              "ticks": ""
             }
            },
            "type": "scattergeo"
           }
          ],
          "scattergl": [
           {
            "marker": {
             "colorbar": {
              "outlinewidth": 0,
              "ticks": ""
             }
            },
            "type": "scattergl"
           }
          ],
          "scattermapbox": [
           {
            "marker": {
             "colorbar": {
              "outlinewidth": 0,
              "ticks": ""
             }
            },
            "type": "scattermapbox"
           }
          ],
          "scatterpolar": [
           {
            "marker": {
             "colorbar": {
              "outlinewidth": 0,
              "ticks": ""
             }
            },
            "type": "scatterpolar"
           }
          ],
          "scatterpolargl": [
           {
            "marker": {
             "colorbar": {
              "outlinewidth": 0,
              "ticks": ""
             }
            },
            "type": "scatterpolargl"
           }
          ],
          "scatterternary": [
           {
            "marker": {
             "colorbar": {
              "outlinewidth": 0,
              "ticks": ""
             }
            },
            "type": "scatterternary"
           }
          ],
          "surface": [
           {
            "colorbar": {
             "outlinewidth": 0,
             "ticks": ""
            },
            "colorscale": [
             [
              0,
              "#0d0887"
             ],
             [
              0.1111111111111111,
              "#46039f"
             ],
             [
              0.2222222222222222,
              "#7201a8"
             ],
             [
              0.3333333333333333,
              "#9c179e"
             ],
             [
              0.4444444444444444,
              "#bd3786"
             ],
             [
              0.5555555555555556,
              "#d8576b"
             ],
             [
              0.6666666666666666,
              "#ed7953"
             ],
             [
              0.7777777777777778,
              "#fb9f3a"
             ],
             [
              0.8888888888888888,
              "#fdca26"
             ],
             [
              1,
              "#f0f921"
             ]
            ],
            "type": "surface"
           }
          ],
          "table": [
           {
            "cells": {
             "fill": {
              "color": "#EBF0F8"
             },
             "line": {
              "color": "white"
             }
            },
            "header": {
             "fill": {
              "color": "#C8D4E3"
             },
             "line": {
              "color": "white"
             }
            },
            "type": "table"
           }
          ]
         },
         "layout": {
          "annotationdefaults": {
           "arrowcolor": "#2a3f5f",
           "arrowhead": 0,
           "arrowwidth": 1
          },
          "autotypenumbers": "strict",
          "coloraxis": {
           "colorbar": {
            "outlinewidth": 0,
            "ticks": ""
           }
          },
          "colorscale": {
           "diverging": [
            [
             0,
             "#8e0152"
            ],
            [
             0.1,
             "#c51b7d"
            ],
            [
             0.2,
             "#de77ae"
            ],
            [
             0.3,
             "#f1b6da"
            ],
            [
             0.4,
             "#fde0ef"
            ],
            [
             0.5,
             "#f7f7f7"
            ],
            [
             0.6,
             "#e6f5d0"
            ],
            [
             0.7,
             "#b8e186"
            ],
            [
             0.8,
             "#7fbc41"
            ],
            [
             0.9,
             "#4d9221"
            ],
            [
             1,
             "#276419"
            ]
           ],
           "sequential": [
            [
             0,
             "#0d0887"
            ],
            [
             0.1111111111111111,
             "#46039f"
            ],
            [
             0.2222222222222222,
             "#7201a8"
            ],
            [
             0.3333333333333333,
             "#9c179e"
            ],
            [
             0.4444444444444444,
             "#bd3786"
            ],
            [
             0.5555555555555556,
             "#d8576b"
            ],
            [
             0.6666666666666666,
             "#ed7953"
            ],
            [
             0.7777777777777778,
             "#fb9f3a"
            ],
            [
             0.8888888888888888,
             "#fdca26"
            ],
            [
             1,
             "#f0f921"
            ]
           ],
           "sequentialminus": [
            [
             0,
             "#0d0887"
            ],
            [
             0.1111111111111111,
             "#46039f"
            ],
            [
             0.2222222222222222,
             "#7201a8"
            ],
            [
             0.3333333333333333,
             "#9c179e"
            ],
            [
             0.4444444444444444,
             "#bd3786"
            ],
            [
             0.5555555555555556,
             "#d8576b"
            ],
            [
             0.6666666666666666,
             "#ed7953"
            ],
            [
             0.7777777777777778,
             "#fb9f3a"
            ],
            [
             0.8888888888888888,
             "#fdca26"
            ],
            [
             1,
             "#f0f921"
            ]
           ]
          },
          "colorway": [
           "#636efa",
           "#EF553B",
           "#00cc96",
           "#ab63fa",
           "#FFA15A",
           "#19d3f3",
           "#FF6692",
           "#B6E880",
           "#FF97FF",
           "#FECB52"
          ],
          "font": {
           "color": "#2a3f5f"
          },
          "geo": {
           "bgcolor": "white",
           "lakecolor": "white",
           "landcolor": "#E5ECF6",
           "showlakes": true,
           "showland": true,
           "subunitcolor": "white"
          },
          "hoverlabel": {
           "align": "left"
          },
          "hovermode": "closest",
          "mapbox": {
           "style": "light"
          },
          "paper_bgcolor": "white",
          "plot_bgcolor": "#E5ECF6",
          "polar": {
           "angularaxis": {
            "gridcolor": "white",
            "linecolor": "white",
            "ticks": ""
           },
           "bgcolor": "#E5ECF6",
           "radialaxis": {
            "gridcolor": "white",
            "linecolor": "white",
            "ticks": ""
           }
          },
          "scene": {
           "xaxis": {
            "backgroundcolor": "#E5ECF6",
            "gridcolor": "white",
            "gridwidth": 2,
            "linecolor": "white",
            "showbackground": true,
            "ticks": "",
            "zerolinecolor": "white"
           },
           "yaxis": {
            "backgroundcolor": "#E5ECF6",
            "gridcolor": "white",
            "gridwidth": 2,
            "linecolor": "white",
            "showbackground": true,
            "ticks": "",
            "zerolinecolor": "white"
           },
           "zaxis": {
            "backgroundcolor": "#E5ECF6",
            "gridcolor": "white",
            "gridwidth": 2,
            "linecolor": "white",
            "showbackground": true,
            "ticks": "",
            "zerolinecolor": "white"
           }
          },
          "shapedefaults": {
           "line": {
            "color": "#2a3f5f"
           }
          },
          "ternary": {
           "aaxis": {
            "gridcolor": "white",
            "linecolor": "white",
            "ticks": ""
           },
           "baxis": {
            "gridcolor": "white",
            "linecolor": "white",
            "ticks": ""
           },
           "bgcolor": "#E5ECF6",
           "caxis": {
            "gridcolor": "white",
            "linecolor": "white",
            "ticks": ""
           }
          },
          "title": {
           "x": 0.05
          },
          "xaxis": {
           "automargin": true,
           "gridcolor": "white",
           "linecolor": "white",
           "ticks": "",
           "title": {
            "standoff": 15
           },
           "zerolinecolor": "white",
           "zerolinewidth": 2
          },
          "yaxis": {
           "automargin": true,
           "gridcolor": "white",
           "linecolor": "white",
           "ticks": "",
           "title": {
            "standoff": 15
           },
           "zerolinecolor": "white",
           "zerolinewidth": 2
          }
         }
        },
        "title": {
         "text": "Colombian bigmac index"
        },
        "xaxis": {
         "anchor": "y",
         "domain": [
          0,
          0.94
         ],
         "title": {
          "text": "date"
         }
        },
        "yaxis": {
         "anchor": "x",
         "domain": [
          0,
          1
         ],
         "title": {
          "text": "GDP dollar"
         }
        },
        "yaxis2": {
         "anchor": "x",
         "overlaying": "y",
         "side": "right",
         "title": {
          "text": "bigmac index"
         }
        }
       }
      }
     },
     "metadata": {},
     "output_type": "display_data"
    }
   ],
   "source": [
    "subfig = make_subplots(specs=[[{'secondary_y':True}]])\n",
    "fig1 = px.line(bigmac_Col_adj_filtered, x='date', y='USD_adjusted')\n",
    "fig3 = px.line(bigmac_Col_adj_filtered, x='date', y='USD_raw')\n",
    "fig2 = px.bar(bigmac_Col_adj_filtered, x='date' , y='GDP_dollar')\n",
    "fig2.update_traces(marker_color='rgb(158,202,225)', marker_line_color='rgb(8,48,107)', marker_line_width=1.5,opacity=0.6)\n",
    "fig1.update_traces(yaxis = \"y2\")\n",
    "fig3.update_traces(yaxis = \"y2\",marker_line_width=1.5,line_color='rgb(225,0,0)')\n",
    "subfig.add_traces(fig1.data + fig2.data + fig3.data)\n",
    "subfig.layout.xaxis.title = \"date\"\n",
    "subfig.layout.yaxis.title = \"GDP dollar\"\n",
    "subfig.layout.yaxis2.title = \"bigmac index\"\n",
    "subfig.layout.title = \"Colombian bigmac index\"\n",
    "subfig.show()"
   ]
  },
  {
   "cell_type": "markdown",
   "metadata": {},
   "source": []
  },
  {
   "cell_type": "code",
   "execution_count": 8,
   "metadata": {},
   "outputs": [
    {
     "data": {
      "text/plain": [
       "date              0\n",
       "currency_code     0\n",
       "name              0\n",
       "local_price       0\n",
       "dollar_ex         0\n",
       "dollar_price      0\n",
       "USD_raw           0\n",
       "EUR_raw           0\n",
       "GBP_raw           0\n",
       "JPY_raw           0\n",
       "CNY_raw           0\n",
       "GDP_dollar       14\n",
       "adj_price        14\n",
       "USD_adjusted     14\n",
       "EUR_adjusted     14\n",
       "GBP_adjusted     14\n",
       "JPY_adjusted     14\n",
       "CNY_adjusted     14\n",
       "dtype: int64"
      ]
     },
     "execution_count": 8,
     "metadata": {},
     "output_type": "execute_result"
    }
   ],
   "source": [
    "bigmac_AU.isnull().sum()"
   ]
  },
  {
   "cell_type": "code",
   "execution_count": 147,
   "metadata": {},
   "outputs": [],
   "source": [
    "bigmac_AU_adj_filtered = bigmac_AU.dropna()"
   ]
  },
  {
   "cell_type": "code",
   "execution_count": 148,
   "metadata": {},
   "outputs": [
    {
     "data": {
      "application/vnd.plotly.v1+json": {
       "config": {
        "plotlyServerURL": "https://plot.ly"
       },
       "data": [
        {
         "hovertemplate": "date=%{x}<br>USD_adjusted=%{y}<extra></extra>",
         "legendgroup": "",
         "line": {
          "color": "#636efa",
          "dash": "solid"
         },
         "marker": {
          "symbol": "circle"
         },
         "mode": "lines",
         "name": "",
         "orientation": "v",
         "showlegend": false,
         "type": "scatter",
         "x": [
          "2011-07-01",
          "2012-01-01",
          "2012-07-01",
          "2013-01-01",
          "2013-07-01",
          "2014-01-01",
          "2014-07-01",
          "2015-01-01",
          "2015-07-01",
          "2016-01-01",
          "2016-07-01",
          "2017-01-01",
          "2017-07-01",
          "2018-01-01",
          "2018-07-01",
          "2019-01-01",
          "2019-07-09",
          "2020-01-14",
          "2020-07-01",
          "2021-01-01",
          "2021-07-01",
          "2022-01-01"
         ],
         "xaxis": "x",
         "y": [
          0.11695,
          0.0883,
          0.00406,
          -0.03443,
          -0.12834,
          -0.17596,
          -0.11846,
          -0.179,
          -0.22169,
          -0.28182,
          -0.11024,
          -0.11923,
          -0.11701,
          -0.06388,
          -0.1542,
          -0.19215,
          -0.23445,
          -0.17517,
          -0.15528,
          -0.04267,
          -0.08034,
          -0.16259
         ],
         "yaxis": "y2"
        },
        {
         "alignmentgroup": "True",
         "hovertemplate": "date=%{x}<br>GDP_dollar=%{y}<extra></extra>",
         "legendgroup": "",
         "marker": {
          "color": "rgb(158,202,225)",
          "line": {
           "color": "rgb(8,48,107)",
           "width": 1.5
          },
          "pattern": {
           "shape": ""
          }
         },
         "name": "",
         "offsetgroup": "",
         "opacity": 0.6,
         "orientation": "v",
         "showlegend": false,
         "textposition": "auto",
         "type": "bar",
         "x": [
          "2011-07-01",
          "2012-01-01",
          "2012-07-01",
          "2013-01-01",
          "2013-07-01",
          "2014-01-01",
          "2014-07-01",
          "2015-01-01",
          "2015-07-01",
          "2016-01-01",
          "2016-07-01",
          "2017-01-01",
          "2017-07-01",
          "2018-01-01",
          "2018-07-01",
          "2019-01-01",
          "2019-07-09",
          "2020-01-14",
          "2020-07-01",
          "2021-01-01",
          "2021-07-01",
          "2022-01-01"
         ],
         "xaxis": "x",
         "y": [
          55589.549,
          55589.549,
          55589.549,
          66371.218,
          66371.218,
          66371.218,
          67855.88,
          64578.19,
          61219.156,
          61066.154,
          50961.865,
          50961.865,
          51850.269,
          51737.228,
          55707.275,
          55692.73,
          55957.72,
          56420.201,
          56420.201,
          54348.227,
          52824.82,
          52905.4
         ],
         "yaxis": "y"
        },
        {
         "hovertemplate": "date=%{x}<br>USD_raw=%{y}<extra></extra>",
         "legendgroup": "",
         "line": {
          "color": "rgb(225,0,0)",
          "dash": "solid"
         },
         "marker": {
          "line": {
           "width": 1.5
          },
          "symbol": "circle"
         },
         "mode": "lines",
         "name": "",
         "orientation": "v",
         "showlegend": false,
         "type": "scatter",
         "x": [
          "2011-07-01",
          "2012-01-01",
          "2012-07-01",
          "2013-01-01",
          "2013-07-01",
          "2014-01-01",
          "2014-07-01",
          "2015-01-01",
          "2015-07-01",
          "2016-01-01",
          "2016-07-01",
          "2017-01-01",
          "2017-07-01",
          "2018-01-01",
          "2018-07-01",
          "2019-01-01",
          "2019-07-09",
          "2020-01-14",
          "2020-07-01",
          "2021-01-01",
          "2021-07-01",
          "2022-01-01"
         ],
         "xaxis": "x",
         "y": [
          0.21617,
          0.17615,
          0.08149,
          0.12205,
          0.01387,
          -0.03257,
          0.00399,
          -0.09839,
          -0.18116,
          -0.24064,
          -0.14589,
          -0.1551,
          -0.14567,
          -0.10869,
          -0.1805,
          -0.22006,
          -0.25782,
          -0.21497,
          -0.19817,
          -0.1193,
          -0.15169,
          -0.2239
         ],
         "yaxis": "y2"
        }
       ],
       "layout": {
        "template": {
         "data": {
          "bar": [
           {
            "error_x": {
             "color": "#2a3f5f"
            },
            "error_y": {
             "color": "#2a3f5f"
            },
            "marker": {
             "line": {
              "color": "#E5ECF6",
              "width": 0.5
             },
             "pattern": {
              "fillmode": "overlay",
              "size": 10,
              "solidity": 0.2
             }
            },
            "type": "bar"
           }
          ],
          "barpolar": [
           {
            "marker": {
             "line": {
              "color": "#E5ECF6",
              "width": 0.5
             },
             "pattern": {
              "fillmode": "overlay",
              "size": 10,
              "solidity": 0.2
             }
            },
            "type": "barpolar"
           }
          ],
          "carpet": [
           {
            "aaxis": {
             "endlinecolor": "#2a3f5f",
             "gridcolor": "white",
             "linecolor": "white",
             "minorgridcolor": "white",
             "startlinecolor": "#2a3f5f"
            },
            "baxis": {
             "endlinecolor": "#2a3f5f",
             "gridcolor": "white",
             "linecolor": "white",
             "minorgridcolor": "white",
             "startlinecolor": "#2a3f5f"
            },
            "type": "carpet"
           }
          ],
          "choropleth": [
           {
            "colorbar": {
             "outlinewidth": 0,
             "ticks": ""
            },
            "type": "choropleth"
           }
          ],
          "contour": [
           {
            "colorbar": {
             "outlinewidth": 0,
             "ticks": ""
            },
            "colorscale": [
             [
              0,
              "#0d0887"
             ],
             [
              0.1111111111111111,
              "#46039f"
             ],
             [
              0.2222222222222222,
              "#7201a8"
             ],
             [
              0.3333333333333333,
              "#9c179e"
             ],
             [
              0.4444444444444444,
              "#bd3786"
             ],
             [
              0.5555555555555556,
              "#d8576b"
             ],
             [
              0.6666666666666666,
              "#ed7953"
             ],
             [
              0.7777777777777778,
              "#fb9f3a"
             ],
             [
              0.8888888888888888,
              "#fdca26"
             ],
             [
              1,
              "#f0f921"
             ]
            ],
            "type": "contour"
           }
          ],
          "contourcarpet": [
           {
            "colorbar": {
             "outlinewidth": 0,
             "ticks": ""
            },
            "type": "contourcarpet"
           }
          ],
          "heatmap": [
           {
            "colorbar": {
             "outlinewidth": 0,
             "ticks": ""
            },
            "colorscale": [
             [
              0,
              "#0d0887"
             ],
             [
              0.1111111111111111,
              "#46039f"
             ],
             [
              0.2222222222222222,
              "#7201a8"
             ],
             [
              0.3333333333333333,
              "#9c179e"
             ],
             [
              0.4444444444444444,
              "#bd3786"
             ],
             [
              0.5555555555555556,
              "#d8576b"
             ],
             [
              0.6666666666666666,
              "#ed7953"
             ],
             [
              0.7777777777777778,
              "#fb9f3a"
             ],
             [
              0.8888888888888888,
              "#fdca26"
             ],
             [
              1,
              "#f0f921"
             ]
            ],
            "type": "heatmap"
           }
          ],
          "heatmapgl": [
           {
            "colorbar": {
             "outlinewidth": 0,
             "ticks": ""
            },
            "colorscale": [
             [
              0,
              "#0d0887"
             ],
             [
              0.1111111111111111,
              "#46039f"
             ],
             [
              0.2222222222222222,
              "#7201a8"
             ],
             [
              0.3333333333333333,
              "#9c179e"
             ],
             [
              0.4444444444444444,
              "#bd3786"
             ],
             [
              0.5555555555555556,
              "#d8576b"
             ],
             [
              0.6666666666666666,
              "#ed7953"
             ],
             [
              0.7777777777777778,
              "#fb9f3a"
             ],
             [
              0.8888888888888888,
              "#fdca26"
             ],
             [
              1,
              "#f0f921"
             ]
            ],
            "type": "heatmapgl"
           }
          ],
          "histogram": [
           {
            "marker": {
             "pattern": {
              "fillmode": "overlay",
              "size": 10,
              "solidity": 0.2
             }
            },
            "type": "histogram"
           }
          ],
          "histogram2d": [
           {
            "colorbar": {
             "outlinewidth": 0,
             "ticks": ""
            },
            "colorscale": [
             [
              0,
              "#0d0887"
             ],
             [
              0.1111111111111111,
              "#46039f"
             ],
             [
              0.2222222222222222,
              "#7201a8"
             ],
             [
              0.3333333333333333,
              "#9c179e"
             ],
             [
              0.4444444444444444,
              "#bd3786"
             ],
             [
              0.5555555555555556,
              "#d8576b"
             ],
             [
              0.6666666666666666,
              "#ed7953"
             ],
             [
              0.7777777777777778,
              "#fb9f3a"
             ],
             [
              0.8888888888888888,
              "#fdca26"
             ],
             [
              1,
              "#f0f921"
             ]
            ],
            "type": "histogram2d"
           }
          ],
          "histogram2dcontour": [
           {
            "colorbar": {
             "outlinewidth": 0,
             "ticks": ""
            },
            "colorscale": [
             [
              0,
              "#0d0887"
             ],
             [
              0.1111111111111111,
              "#46039f"
             ],
             [
              0.2222222222222222,
              "#7201a8"
             ],
             [
              0.3333333333333333,
              "#9c179e"
             ],
             [
              0.4444444444444444,
              "#bd3786"
             ],
             [
              0.5555555555555556,
              "#d8576b"
             ],
             [
              0.6666666666666666,
              "#ed7953"
             ],
             [
              0.7777777777777778,
              "#fb9f3a"
             ],
             [
              0.8888888888888888,
              "#fdca26"
             ],
             [
              1,
              "#f0f921"
             ]
            ],
            "type": "histogram2dcontour"
           }
          ],
          "mesh3d": [
           {
            "colorbar": {
             "outlinewidth": 0,
             "ticks": ""
            },
            "type": "mesh3d"
           }
          ],
          "parcoords": [
           {
            "line": {
             "colorbar": {
              "outlinewidth": 0,
              "ticks": ""
             }
            },
            "type": "parcoords"
           }
          ],
          "pie": [
           {
            "automargin": true,
            "type": "pie"
           }
          ],
          "scatter": [
           {
            "marker": {
             "colorbar": {
              "outlinewidth": 0,
              "ticks": ""
             }
            },
            "type": "scatter"
           }
          ],
          "scatter3d": [
           {
            "line": {
             "colorbar": {
              "outlinewidth": 0,
              "ticks": ""
             }
            },
            "marker": {
             "colorbar": {
              "outlinewidth": 0,
              "ticks": ""
             }
            },
            "type": "scatter3d"
           }
          ],
          "scattercarpet": [
           {
            "marker": {
             "colorbar": {
              "outlinewidth": 0,
              "ticks": ""
             }
            },
            "type": "scattercarpet"
           }
          ],
          "scattergeo": [
           {
            "marker": {
             "colorbar": {
              "outlinewidth": 0,
              "ticks": ""
             }
            },
            "type": "scattergeo"
           }
          ],
          "scattergl": [
           {
            "marker": {
             "colorbar": {
              "outlinewidth": 0,
              "ticks": ""
             }
            },
            "type": "scattergl"
           }
          ],
          "scattermapbox": [
           {
            "marker": {
             "colorbar": {
              "outlinewidth": 0,
              "ticks": ""
             }
            },
            "type": "scattermapbox"
           }
          ],
          "scatterpolar": [
           {
            "marker": {
             "colorbar": {
              "outlinewidth": 0,
              "ticks": ""
             }
            },
            "type": "scatterpolar"
           }
          ],
          "scatterpolargl": [
           {
            "marker": {
             "colorbar": {
              "outlinewidth": 0,
              "ticks": ""
             }
            },
            "type": "scatterpolargl"
           }
          ],
          "scatterternary": [
           {
            "marker": {
             "colorbar": {
              "outlinewidth": 0,
              "ticks": ""
             }
            },
            "type": "scatterternary"
           }
          ],
          "surface": [
           {
            "colorbar": {
             "outlinewidth": 0,
             "ticks": ""
            },
            "colorscale": [
             [
              0,
              "#0d0887"
             ],
             [
              0.1111111111111111,
              "#46039f"
             ],
             [
              0.2222222222222222,
              "#7201a8"
             ],
             [
              0.3333333333333333,
              "#9c179e"
             ],
             [
              0.4444444444444444,
              "#bd3786"
             ],
             [
              0.5555555555555556,
              "#d8576b"
             ],
             [
              0.6666666666666666,
              "#ed7953"
             ],
             [
              0.7777777777777778,
              "#fb9f3a"
             ],
             [
              0.8888888888888888,
              "#fdca26"
             ],
             [
              1,
              "#f0f921"
             ]
            ],
            "type": "surface"
           }
          ],
          "table": [
           {
            "cells": {
             "fill": {
              "color": "#EBF0F8"
             },
             "line": {
              "color": "white"
             }
            },
            "header": {
             "fill": {
              "color": "#C8D4E3"
             },
             "line": {
              "color": "white"
             }
            },
            "type": "table"
           }
          ]
         },
         "layout": {
          "annotationdefaults": {
           "arrowcolor": "#2a3f5f",
           "arrowhead": 0,
           "arrowwidth": 1
          },
          "autotypenumbers": "strict",
          "coloraxis": {
           "colorbar": {
            "outlinewidth": 0,
            "ticks": ""
           }
          },
          "colorscale": {
           "diverging": [
            [
             0,
             "#8e0152"
            ],
            [
             0.1,
             "#c51b7d"
            ],
            [
             0.2,
             "#de77ae"
            ],
            [
             0.3,
             "#f1b6da"
            ],
            [
             0.4,
             "#fde0ef"
            ],
            [
             0.5,
             "#f7f7f7"
            ],
            [
             0.6,
             "#e6f5d0"
            ],
            [
             0.7,
             "#b8e186"
            ],
            [
             0.8,
             "#7fbc41"
            ],
            [
             0.9,
             "#4d9221"
            ],
            [
             1,
             "#276419"
            ]
           ],
           "sequential": [
            [
             0,
             "#0d0887"
            ],
            [
             0.1111111111111111,
             "#46039f"
            ],
            [
             0.2222222222222222,
             "#7201a8"
            ],
            [
             0.3333333333333333,
             "#9c179e"
            ],
            [
             0.4444444444444444,
             "#bd3786"
            ],
            [
             0.5555555555555556,
             "#d8576b"
            ],
            [
             0.6666666666666666,
             "#ed7953"
            ],
            [
             0.7777777777777778,
             "#fb9f3a"
            ],
            [
             0.8888888888888888,
             "#fdca26"
            ],
            [
             1,
             "#f0f921"
            ]
           ],
           "sequentialminus": [
            [
             0,
             "#0d0887"
            ],
            [
             0.1111111111111111,
             "#46039f"
            ],
            [
             0.2222222222222222,
             "#7201a8"
            ],
            [
             0.3333333333333333,
             "#9c179e"
            ],
            [
             0.4444444444444444,
             "#bd3786"
            ],
            [
             0.5555555555555556,
             "#d8576b"
            ],
            [
             0.6666666666666666,
             "#ed7953"
            ],
            [
             0.7777777777777778,
             "#fb9f3a"
            ],
            [
             0.8888888888888888,
             "#fdca26"
            ],
            [
             1,
             "#f0f921"
            ]
           ]
          },
          "colorway": [
           "#636efa",
           "#EF553B",
           "#00cc96",
           "#ab63fa",
           "#FFA15A",
           "#19d3f3",
           "#FF6692",
           "#B6E880",
           "#FF97FF",
           "#FECB52"
          ],
          "font": {
           "color": "#2a3f5f"
          },
          "geo": {
           "bgcolor": "white",
           "lakecolor": "white",
           "landcolor": "#E5ECF6",
           "showlakes": true,
           "showland": true,
           "subunitcolor": "white"
          },
          "hoverlabel": {
           "align": "left"
          },
          "hovermode": "closest",
          "mapbox": {
           "style": "light"
          },
          "paper_bgcolor": "white",
          "plot_bgcolor": "#E5ECF6",
          "polar": {
           "angularaxis": {
            "gridcolor": "white",
            "linecolor": "white",
            "ticks": ""
           },
           "bgcolor": "#E5ECF6",
           "radialaxis": {
            "gridcolor": "white",
            "linecolor": "white",
            "ticks": ""
           }
          },
          "scene": {
           "xaxis": {
            "backgroundcolor": "#E5ECF6",
            "gridcolor": "white",
            "gridwidth": 2,
            "linecolor": "white",
            "showbackground": true,
            "ticks": "",
            "zerolinecolor": "white"
           },
           "yaxis": {
            "backgroundcolor": "#E5ECF6",
            "gridcolor": "white",
            "gridwidth": 2,
            "linecolor": "white",
            "showbackground": true,
            "ticks": "",
            "zerolinecolor": "white"
           },
           "zaxis": {
            "backgroundcolor": "#E5ECF6",
            "gridcolor": "white",
            "gridwidth": 2,
            "linecolor": "white",
            "showbackground": true,
            "ticks": "",
            "zerolinecolor": "white"
           }
          },
          "shapedefaults": {
           "line": {
            "color": "#2a3f5f"
           }
          },
          "ternary": {
           "aaxis": {
            "gridcolor": "white",
            "linecolor": "white",
            "ticks": ""
           },
           "baxis": {
            "gridcolor": "white",
            "linecolor": "white",
            "ticks": ""
           },
           "bgcolor": "#E5ECF6",
           "caxis": {
            "gridcolor": "white",
            "linecolor": "white",
            "ticks": ""
           }
          },
          "title": {
           "x": 0.05
          },
          "xaxis": {
           "automargin": true,
           "gridcolor": "white",
           "linecolor": "white",
           "ticks": "",
           "title": {
            "standoff": 15
           },
           "zerolinecolor": "white",
           "zerolinewidth": 2
          },
          "yaxis": {
           "automargin": true,
           "gridcolor": "white",
           "linecolor": "white",
           "ticks": "",
           "title": {
            "standoff": 15
           },
           "zerolinecolor": "white",
           "zerolinewidth": 2
          }
         }
        },
        "title": {
         "text": "Australian bigmac index"
        },
        "xaxis": {
         "anchor": "y",
         "domain": [
          0,
          0.94
         ],
         "title": {
          "text": "date"
         }
        },
        "yaxis": {
         "anchor": "x",
         "domain": [
          0,
          1
         ],
         "title": {
          "text": "GDP dollar"
         }
        },
        "yaxis2": {
         "anchor": "x",
         "overlaying": "y",
         "side": "right",
         "title": {
          "text": "bigmac index"
         }
        }
       }
      }
     },
     "metadata": {},
     "output_type": "display_data"
    }
   ],
   "source": [
    "subfig = make_subplots(specs=[[{'secondary_y':True}]])\n",
    "fig1 = px.line(bigmac_AU_adj_filtered, x='date', y='USD_adjusted')\n",
    "fig3 = px.line(bigmac_AU_adj_filtered, x='date', y='USD_raw')\n",
    "fig2 = px.bar(bigmac_AU_adj_filtered, x='date' , y='GDP_dollar')\n",
    "fig2.update_traces(marker_color='rgb(158,202,225)', marker_line_color='rgb(8,48,107)', marker_line_width=1.5,opacity=0.6)\n",
    "fig1.update_traces(yaxis = \"y2\")\n",
    "fig3.update_traces(yaxis = \"y2\",marker_line_width=1.5,line_color='rgb(225,0,0)')\n",
    "subfig.add_traces(fig1.data + fig2.data + fig3.data)\n",
    "subfig.layout.xaxis.title = \"date\"\n",
    "subfig.layout.yaxis.title = \"GDP dollar\"\n",
    "subfig.layout.yaxis2.title = \"bigmac index\"\n",
    "subfig.layout.title = \"Australian bigmac index\"\n",
    "subfig.show()"
   ]
  },
  {
   "cell_type": "markdown",
   "metadata": {},
   "source": []
  },
  {
   "cell_type": "code",
   "execution_count": 149,
   "metadata": {},
   "outputs": [],
   "source": [
    "data_adj_filtered = data.dropna()"
   ]
  },
  {
   "cell_type": "code",
   "execution_count": 150,
   "metadata": {},
   "outputs": [
    {
     "data": {
      "application/vnd.plotly.v1+json": {
       "config": {
        "plotlyServerURL": "https://plot.ly"
       },
       "data": [
        {
         "hovertemplate": "name=Argentina<br>date=%{x}<br>dollar_price=%{y}<extra></extra>",
         "legendgroup": "Argentina",
         "line": {
          "color": "#636efa",
          "dash": "solid"
         },
         "marker": {
          "symbol": "circle"
         },
         "mode": "lines",
         "name": "Argentina",
         "showlegend": true,
         "type": "scattergl",
         "x": [
          "2000-04-01",
          "2001-04-01",
          "2002-04-01",
          "2003-04-01",
          "2004-05-01",
          "2005-06-01",
          "2006-01-01",
          "2006-05-01",
          "2007-01-01",
          "2007-06-01",
          "2008-06-01",
          "2009-07-01",
          "2010-01-01",
          "2010-07-01",
          "2011-07-01",
          "2012-01-01",
          "2012-07-01",
          "2013-01-01",
          "2013-07-01",
          "2014-01-01",
          "2014-07-01",
          "2015-01-01",
          "2015-07-01",
          "2016-01-01",
          "2016-07-01",
          "2017-01-01",
          "2017-07-01",
          "2018-01-01",
          "2018-07-01",
          "2019-01-01",
          "2019-07-09",
          "2020-01-14",
          "2020-07-01",
          "2021-01-01",
          "2021-07-01",
          "2022-01-01"
         ],
         "xaxis": "x",
         "y": [
          2.5,
          2.5,
          0.798722044728435,
          1.42361111111111,
          1.47796610169492,
          1.6396272005523,
          1.55036229518898,
          2.29020121053493,
          2.67098340752732,
          2.66860747210092,
          3.64298724954463,
          3.01738274844211,
          1.84283269711728,
          3.55894502700985,
          4.83968542044767,
          4.63660600440478,
          4.16096359156857,
          3.81794433839044,
          3.87990762124711,
          3.03413400758534,
          2.5707727620505,
          3.2520325203252,
          3.06513409961686,
          2.3897025544472,
          3.3478406427854,
          3.46839035156866,
          4.12553410932665,
          3.96039603960396,
          2.70513976555455,
          2.00240288346015,
          2.87050437153895,
          2.84688740310594,
          3.50923243962541,
          3.74823130335373,
          3.94461961669716,
          4.28504092214081
         ],
         "yaxis": "y"
        },
        {
         "hovertemplate": "name=Australia<br>date=%{x}<br>dollar_price=%{y}<extra></extra>",
         "legendgroup": "Australia",
         "line": {
          "color": "#EF553B",
          "dash": "solid"
         },
         "marker": {
          "symbol": "circle"
         },
         "mode": "lines",
         "name": "Australia",
         "showlegend": true,
         "type": "scattergl",
         "x": [
          "2000-04-01",
          "2001-04-01",
          "2002-04-01",
          "2003-04-01",
          "2004-05-01",
          "2005-06-01",
          "2006-01-01",
          "2006-05-01",
          "2007-01-01",
          "2007-06-01",
          "2008-06-01",
          "2009-07-01",
          "2010-01-01",
          "2010-07-01",
          "2011-07-01",
          "2012-01-01",
          "2012-07-01",
          "2013-01-01",
          "2013-07-01",
          "2014-01-01",
          "2014-07-01",
          "2015-01-01",
          "2015-07-01",
          "2016-01-01",
          "2016-07-01",
          "2017-01-01",
          "2017-07-01",
          "2018-01-01",
          "2018-07-01",
          "2019-01-01",
          "2019-07-09",
          "2020-01-14",
          "2020-07-01",
          "2021-01-01",
          "2021-07-01",
          "2022-01-01"
         ],
         "xaxis": "x",
         "y": [
          1.54166666666667,
          1.51515151515152,
          1.61290322580645,
          1.86335403726708,
          2.27272727272727,
          2.49711870918171,
          2.44214006612564,
          2.43896947911116,
          2.72325780568569,
          2.94871794871795,
          3.36257309941521,
          3.37244541145388,
          3.97787023912944,
          3.83691750028815,
          4.94372400141217,
          4.93656000004245,
          4.68015599908292,
          4.90045499838408,
          4.61986425117506,
          4.47354249877067,
          4.81414500013119,
          4.31870499892076,
          3.92226499999019,
          3.74365500098421,
          4.30473750039754,
          4.27518000105469,
          4.52795500055083,
          4.70613499966375,
          4.51541749999998,
          4.35204500000001,
          4.260105,
          4.45114500000001,
          4.57845000000001,
          4.98474,
          4.79296249999999,
          4.50912000000001
         ],
         "yaxis": "y"
        },
        {
         "hovertemplate": "name=Brazil<br>date=%{x}<br>dollar_price=%{y}<extra></extra>",
         "legendgroup": "Brazil",
         "line": {
          "color": "#00cc96",
          "dash": "solid"
         },
         "marker": {
          "symbol": "circle"
         },
         "mode": "lines",
         "name": "Brazil",
         "showlegend": true,
         "type": "scattergl",
         "x": [
          "2000-04-01",
          "2001-04-01",
          "2002-04-01",
          "2003-04-01",
          "2004-05-01",
          "2005-06-01",
          "2006-01-01",
          "2006-05-01",
          "2007-01-01",
          "2007-06-01",
          "2008-06-01",
          "2009-07-01",
          "2010-01-01",
          "2010-07-01",
          "2011-07-01",
          "2012-01-01",
          "2012-07-01",
          "2013-01-01",
          "2013-07-01",
          "2014-01-01",
          "2014-07-01",
          "2015-01-01",
          "2015-07-01",
          "2016-01-01",
          "2016-07-01",
          "2017-01-01",
          "2017-07-01",
          "2018-01-01",
          "2018-07-01",
          "2019-01-01",
          "2019-07-09",
          "2020-01-14",
          "2020-07-01",
          "2021-01-01",
          "2021-07-01",
          "2022-01-01"
         ],
         "xaxis": "x",
         "y": [
          1.64804469273743,
          1.64383561643836,
          1.53846153846154,
          1.48208469055375,
          1.69811320754717,
          2.39370334307043,
          2.74154322352421,
          2.77717509221089,
          2.99976564330912,
          3.60690015682175,
          4.73305566073457,
          4.0208302037955,
          4.75831253989439,
          4.9071804839573,
          6.16242864556305,
          5.6786703601108,
          4.93597434076831,
          5.64376552035518,
          5.28483033492612,
          5.24745561879774,
          5.85519648688211,
          5.20682672837721,
          4.28251939029613,
          3.35420393559928,
          4.78181060944948,
          5.11794537756479,
          5.10156757258139,
          5.11168251804579,
          4.40293355217737,
          4.54551567396011,
          4.59643316786174,
          4.80455829450252,
          3.91352788622682,
          3.97849071685499,
          4.36302668305183,
          4.31261770244821
         ],
         "yaxis": "y"
        },
        {
         "hovertemplate": "name=Canada<br>date=%{x}<br>dollar_price=%{y}<extra></extra>",
         "legendgroup": "Canada",
         "line": {
          "color": "#ab63fa",
          "dash": "solid"
         },
         "marker": {
          "symbol": "circle"
         },
         "mode": "lines",
         "name": "Canada",
         "showlegend": true,
         "type": "scattergl",
         "x": [
          "2000-04-01",
          "2001-04-01",
          "2002-04-01",
          "2003-04-01",
          "2004-05-01",
          "2005-06-01",
          "2006-01-01",
          "2006-05-01",
          "2007-01-01",
          "2007-06-01",
          "2008-06-01",
          "2009-07-01",
          "2010-01-01",
          "2010-07-01",
          "2011-07-01",
          "2012-01-01",
          "2012-07-01",
          "2013-01-01",
          "2013-07-01",
          "2014-01-01",
          "2014-07-01",
          "2015-01-01",
          "2015-07-01",
          "2016-01-01",
          "2016-07-01",
          "2017-01-01",
          "2017-07-01",
          "2018-01-01",
          "2018-07-01",
          "2019-01-01",
          "2019-07-09",
          "2020-01-14",
          "2020-07-01",
          "2021-01-01",
          "2021-07-01",
          "2022-01-01"
         ],
         "xaxis": "x",
         "y": [
          1.93877551020408,
          2.13461538461538,
          2.12101910828025,
          2.20689655172414,
          2.32846715328467,
          2.62526012485993,
          3.00751879699248,
          3.1415948949083,
          3.08975613908159,
          3.68313636147895,
          4.07553186189029,
          3.35099280699487,
          3.97376543209877,
          4.00057562239171,
          5.00079293756938,
          4.63293990890837,
          5.02231595468145,
          5.39435636653704,
          5.26040428061831,
          5.01312098452629,
          5.25115218099716,
          4.63961580725245,
          4.53593859036985,
          4.14419528810673,
          4.60475825019187,
          4.50980392156863,
          4.65569679482181,
          5.25724375953126,
          5.06724578047015,
          5.08487306594562,
          5.1559346559537,
          5.18158509050553,
          5.0767414403778,
          5.28782316644536,
          5.31355466603877,
          5.32316401949992
         ],
         "yaxis": "y"
        },
        {
         "hovertemplate": "name=Switzerland<br>date=%{x}<br>dollar_price=%{y}<extra></extra>",
         "legendgroup": "Switzerland",
         "line": {
          "color": "#FFA15A",
          "dash": "solid"
         },
         "marker": {
          "symbol": "circle"
         },
         "mode": "lines",
         "name": "Switzerland",
         "showlegend": true,
         "type": "scattergl",
         "x": [
          "2000-04-01",
          "2001-04-01",
          "2002-04-01",
          "2003-04-01",
          "2004-05-01",
          "2005-06-01",
          "2006-01-01",
          "2006-05-01",
          "2007-01-01",
          "2007-06-01",
          "2008-06-01",
          "2009-07-01",
          "2010-01-01",
          "2010-07-01",
          "2011-07-01",
          "2012-01-01",
          "2012-07-01",
          "2013-01-01",
          "2013-07-01",
          "2014-01-01",
          "2014-07-01",
          "2015-01-01",
          "2015-07-01",
          "2016-01-01",
          "2016-07-01",
          "2017-01-01",
          "2017-07-01",
          "2018-01-01",
          "2018-07-01",
          "2019-01-01",
          "2019-07-09",
          "2020-01-14",
          "2020-07-01",
          "2021-01-01",
          "2021-07-01",
          "2022-01-01"
         ],
         "xaxis": "x",
         "y": [
          3.47058823529412,
          3.64161849710983,
          3.79518072289157,
          4.5985401459854,
          4.88372093023256,
          5.0501002004008,
          4.93112085159674,
          5.21156471026182,
          5.04605526631958,
          5.20145310435931,
          6.35914493958812,
          5.98499148289674,
          6.30364156524269,
          6.18546890612361,
          8.06301556782237,
          6.805570097372,
          6.56167979002625,
          7.12484928203442,
          6.7190407277238,
          7.14246469974177,
          6.82624113475177,
          7.54366622178379,
          6.82199832073888,
          6.44329896907217,
          6.59162356758949,
          6.35013677217663,
          6.74168957112483,
          6.76484362803768,
          6.54417316889001,
          6.6215046095859,
          6.54219717175784,
          6.7131422669765,
          6.90571049136786,
          7.29067354607145,
          7.04416147385532,
          6.98136512539606
         ],
         "yaxis": "y"
        },
        {
         "hovertemplate": "name=Chile<br>date=%{x}<br>dollar_price=%{y}<extra></extra>",
         "legendgroup": "Chile",
         "line": {
          "color": "#19d3f3",
          "dash": "solid"
         },
         "marker": {
          "symbol": "circle"
         },
         "mode": "lines",
         "name": "Chile",
         "showlegend": true,
         "type": "scattergl",
         "x": [
          "2000-04-01",
          "2001-04-01",
          "2002-04-01",
          "2003-04-01",
          "2004-05-01",
          "2005-06-01",
          "2006-01-01",
          "2006-05-01",
          "2007-01-01",
          "2007-06-01",
          "2008-06-01",
          "2009-07-01",
          "2010-01-01",
          "2010-07-01",
          "2011-07-01",
          "2012-01-01",
          "2012-07-01",
          "2013-01-01",
          "2013-07-01",
          "2014-01-01",
          "2014-07-01",
          "2015-01-01",
          "2015-07-01",
          "2016-01-01",
          "2016-07-01",
          "2017-01-01",
          "2017-07-01",
          "2018-01-01",
          "2018-07-01",
          "2019-01-01",
          "2019-07-09",
          "2020-01-14",
          "2020-07-01",
          "2021-01-01",
          "2021-07-01",
          "2022-01-01"
         ],
         "xaxis": "x",
         "y": [
          2.45136186770428,
          2.09650582362729,
          2.13740458015267,
          1.95530726256983,
          2.18408736349454,
          2.53185922862689,
          2.98421807747489,
          2.94367393150297,
          3.09173377765436,
          2.97104888467015,
          3.13352875770747,
          3.19022878497858,
          3.18028225004969,
          3.34192685954359,
          3.99783900594273,
          4.05098310443632,
          4.15779332724876,
          4.34552199258082,
          3.93580698802531,
          3.69037734108313,
          3.72248023540256,
          3.34669354645928,
          3.26873686668223,
          2.93618002978125,
          3.53237498464185,
          3.64147115434636,
          3.84409554461789,
          4.29088928680469,
          4.05075721541129,
          3.88812795475633,
          3.82747372236318,
          3.41641431788182,
          3.47848165545258,
          4.0865969350523,
          3.93791527555529,
          3.88179313799149
         ],
         "yaxis": "y"
        },
        {
         "hovertemplate": "name=China<br>date=%{x}<br>dollar_price=%{y}<extra></extra>",
         "legendgroup": "China",
         "line": {
          "color": "#FF6692",
          "dash": "solid"
         },
         "marker": {
          "symbol": "circle"
         },
         "mode": "lines",
         "name": "China",
         "showlegend": true,
         "type": "scattergl",
         "x": [
          "2000-04-01",
          "2001-04-01",
          "2002-04-01",
          "2003-04-01",
          "2004-05-01",
          "2005-06-01",
          "2006-01-01",
          "2006-05-01",
          "2007-01-01",
          "2007-06-01",
          "2008-06-01",
          "2009-07-01",
          "2010-01-01",
          "2010-07-01",
          "2011-07-01",
          "2012-01-01",
          "2012-07-01",
          "2013-01-01",
          "2013-07-01",
          "2014-01-01",
          "2014-07-01",
          "2015-01-01",
          "2015-07-01",
          "2016-01-01",
          "2016-07-01",
          "2017-01-01",
          "2017-07-01",
          "2018-01-01",
          "2018-07-01",
          "2019-01-01",
          "2019-07-09",
          "2020-01-14",
          "2020-07-01",
          "2021-01-01",
          "2021-07-01",
          "2022-01-01"
         ],
         "xaxis": "x",
         "y": [
          1.19565217391304,
          1.19565217391304,
          1.26811594202899,
          1.19565217391304,
          1.256038647343,
          1.26866753661012,
          1.30206718666683,
          1.30824819337154,
          1.41491838493498,
          1.44647389114626,
          1.82908984489318,
          1.82943785033735,
          1.83091164752754,
          1.9477932387965,
          2.27307990690458,
          2.43844509540021,
          2.44971433043751,
          2.57218185325703,
          2.60836960597317,
          2.74321220233669,
          2.72655405514415,
          2.76905739354423,
          2.73787283385943,
          2.68366320026837,
          2.78526504941599,
          2.82967112291745,
          2.9171270718232,
          3.17164179104478,
          3.09574146783449,
          3.05122852095712,
          3.05028614589083,
          3.12273057371097,
          3.09845077461269,
          3.45940603233927,
          3.45695016744602,
          3.83325347388596
         ],
         "yaxis": "y"
        },
        {
         "hovertemplate": "name=Czech Republic<br>date=%{x}<br>dollar_price=%{y}<extra></extra>",
         "legendgroup": "Czech Republic",
         "line": {
          "color": "#B6E880",
          "dash": "solid"
         },
         "marker": {
          "symbol": "circle"
         },
         "mode": "lines",
         "name": "Czech Republic",
         "showlegend": true,
         "type": "scattergl",
         "x": [
          "2000-04-01",
          "2001-04-01",
          "2002-04-01",
          "2003-04-01",
          "2004-05-01",
          "2005-06-01",
          "2006-01-01",
          "2006-05-01",
          "2007-01-01",
          "2007-06-01",
          "2008-06-01",
          "2009-07-01",
          "2010-01-01",
          "2010-07-01",
          "2011-07-01",
          "2012-01-01",
          "2012-07-01",
          "2013-01-01",
          "2013-07-01",
          "2014-01-01",
          "2014-07-01",
          "2015-01-01",
          "2015-07-01",
          "2016-01-01",
          "2016-07-01",
          "2017-01-01",
          "2017-07-01",
          "2018-01-01",
          "2018-07-01",
          "2019-01-01",
          "2019-07-09",
          "2020-01-14",
          "2020-07-01",
          "2021-01-01",
          "2021-07-01",
          "2022-01-01"
         ],
         "xaxis": "x",
         "y": [
          1.39053708439898,
          1.43589743589744,
          1.65529411764706,
          1.95743944636678,
          2.12905660377359,
          2.29901918837532,
          2.60094389092816,
          2.67100299441826,
          2.42312620487741,
          2.50512034285579,
          4.55788577005715,
          3.63956906044782,
          3.7144324150675,
          3.42522635662055,
          4.07240084831893,
          3.44801341494254,
          3.34141011022425,
          3.72215856617774,
          3.49059595298967,
          3.47321507804258,
          3.45551484473482,
          2.91920897516911,
          2.83374996204799,
          2.98279523707257,
          3.05541919332859,
          2.90565343302953,
          3.28139971386194,
          3.80777943799104,
          3.39908677868546,
          3.80966893976913,
          3.72818463724764,
          3.75591833307926,
          3.80124202379834,
          4.12210699878189,
          4.08244708299982,
          4.10512818147434
         ],
         "yaxis": "y"
        },
        {
         "hovertemplate": "name=Denmark<br>date=%{x}<br>dollar_price=%{y}<extra></extra>",
         "legendgroup": "Denmark",
         "line": {
          "color": "#FF97FF",
          "dash": "solid"
         },
         "marker": {
          "symbol": "circle"
         },
         "mode": "lines",
         "name": "Denmark",
         "showlegend": true,
         "type": "scattergl",
         "x": [
          "2000-04-01",
          "2001-04-01",
          "2002-04-01",
          "2003-04-01",
          "2004-05-01",
          "2005-06-01",
          "2006-01-01",
          "2006-05-01",
          "2007-01-01",
          "2007-06-01",
          "2008-06-01",
          "2009-07-01",
          "2010-01-01",
          "2010-07-01",
          "2011-07-01",
          "2012-01-01",
          "2012-07-01",
          "2013-01-01",
          "2013-07-01",
          "2014-01-01",
          "2014-07-01",
          "2015-01-01",
          "2015-07-01",
          "2016-01-01",
          "2016-07-01",
          "2017-01-01",
          "2017-07-01",
          "2018-01-01",
          "2018-07-01",
          "2019-01-01",
          "2019-07-09",
          "2020-01-14",
          "2020-07-01",
          "2021-01-01",
          "2021-07-01",
          "2022-01-01"
         ],
         "xaxis": "x",
         "y": [
          3.07835820895522,
          2.92553191489362,
          2.95346062052506,
          4.0929203539823,
          4.46141479099679,
          4.57565914224941,
          4.49254480402791,
          4.76947535771065,
          4.82352838928916,
          5.08213834404703,
          5.95187484057478,
          5.52693208430913,
          5.99385890990808,
          4.90225589775786,
          5.48240340870837,
          5.37418854018272,
          4.64502249168785,
          5.18375030693258,
          4.91328483260352,
          5.18049950921584,
          5.14551888495703,
          5.37600897559759,
          5.07851212368137,
          4.32245515452777,
          4.43974160703847,
          4.22460834360148,
          4.60649054517816,
          4.93202031992372,
          4.71764872387602,
          4.60444021518084,
          4.50497800069076,
          4.46471756940776,
          4.58060723583256,
          4.90144020651401,
          4.7439080314363,
          4.82123755141398
         ],
         "yaxis": "y"
        },
        {
         "hovertemplate": "name=Euro area<br>date=%{x}<br>dollar_price=%{y}<extra></extra>",
         "legendgroup": "Euro area",
         "line": {
          "color": "#FECB52",
          "dash": "solid"
         },
         "marker": {
          "symbol": "circle"
         },
         "mode": "lines",
         "name": "Euro area",
         "showlegend": true,
         "type": "scattergl",
         "x": [
          "2000-04-01",
          "2001-04-01",
          "2002-04-01",
          "2003-04-01",
          "2004-05-01",
          "2005-06-01",
          "2006-01-01",
          "2006-05-01",
          "2007-01-01",
          "2007-06-01",
          "2008-06-01",
          "2009-07-01",
          "2010-01-01",
          "2010-07-01",
          "2011-07-01",
          "2012-01-01",
          "2012-07-01",
          "2013-01-01",
          "2013-07-01",
          "2014-01-01",
          "2014-07-01",
          "2015-01-01",
          "2015-07-01",
          "2016-01-01",
          "2016-07-01",
          "2017-01-01",
          "2017-07-01",
          "2018-01-01",
          "2018-07-01",
          "2019-01-01",
          "2019-07-09",
          "2020-01-14",
          "2020-07-01",
          "2021-01-01",
          "2021-07-01",
          "2022-01-01"
         ],
         "xaxis": "x",
         "y": [
          2.38080000045235,
          2.26160000072371,
          2.37629999919206,
          2.9810000002981,
          3.2880000013152,
          3.58313199823029,
          3.51382499956077,
          3.76691649704796,
          3.80921099765962,
          4.1668899487422,
          5.34270458800347,
          4.6171189975617,
          4.84394399698368,
          4.33252382664316,
          4.92840183586624,
          4.43070477464433,
          4.34443469296111,
          4.87803112862027,
          4.65939148386547,
          4.96184353491684,
          4.95354246993891,
          4.26383200194175,
          4.05390499827466,
          3.99900000059985,
          4.20562899815015,
          4.06177800194884,
          4.46502449985779,
          4.8357874973246,
          4.735082,
          4.6419075,
          4.572252,
          4.582058,
          4.7861385,
          5.1639625,
          5.0461125,
          4.95482
         ],
         "yaxis": "y"
        },
        {
         "hovertemplate": "name=Britain<br>date=%{x}<br>dollar_price=%{y}<extra></extra>",
         "legendgroup": "Britain",
         "line": {
          "color": "#636efa",
          "dash": "solid"
         },
         "marker": {
          "symbol": "circle"
         },
         "mode": "lines",
         "name": "Britain",
         "showlegend": true,
         "type": "scattergl",
         "x": [
          "2000-04-01",
          "2001-04-01",
          "2002-04-01",
          "2003-04-01",
          "2004-05-01",
          "2005-06-01",
          "2006-01-01",
          "2006-05-01",
          "2007-01-01",
          "2007-06-01",
          "2008-06-01",
          "2009-07-01",
          "2010-01-01",
          "2010-07-01",
          "2011-07-01",
          "2012-01-01",
          "2012-07-01",
          "2013-01-01",
          "2013-07-01",
          "2014-01-01",
          "2014-07-01",
          "2015-01-01",
          "2015-07-01",
          "2016-01-01",
          "2016-07-01",
          "2017-01-01",
          "2017-07-01",
          "2018-01-01",
          "2018-07-01",
          "2019-01-01",
          "2019-07-09",
          "2020-01-14",
          "2020-07-01",
          "2021-01-01",
          "2021-07-01",
          "2022-01-01"
         ],
         "xaxis": "x",
         "y": [
          3.00200000192128,
          2.84570000122365,
          2.8855000017313,
          3.14420000201229,
          3.36519999925966,
          3.44040000271792,
          3.3161319980909,
          3.64797600212458,
          3.83373099959688,
          4.00716350349906,
          4.57049650263512,
          3.68827400060635,
          3.67132800005874,
          3.48354799990525,
          3.89163699974627,
          3.82339500177214,
          4.1623715002999,
          4.24818249802884,
          4.02007049936362,
          4.62679649988317,
          4.92513799618893,
          4.36823499740308,
          4.51244600294302,
          4.22185650232012,
          3.94022199859098,
          3.72839400200588,
          4.11143150160695,
          4.41304599875552,
          4.231535,
          4.072992,
          4.101314,
          4.4102205,
          4.2773325,
          4.4377165,
          4.7504135,
          4.8165235
         ],
         "yaxis": "y"
        },
        {
         "hovertemplate": "name=Hong Kong<br>date=%{x}<br>dollar_price=%{y}<extra></extra>",
         "legendgroup": "Hong Kong",
         "line": {
          "color": "#EF553B",
          "dash": "solid"
         },
         "marker": {
          "symbol": "circle"
         },
         "mode": "lines",
         "name": "Hong Kong",
         "showlegend": true,
         "type": "scattergl",
         "x": [
          "2000-04-01",
          "2001-04-01",
          "2002-04-01",
          "2003-04-01",
          "2004-05-01",
          "2005-06-01",
          "2006-01-01",
          "2006-05-01",
          "2007-01-01",
          "2007-06-01",
          "2008-06-01",
          "2009-07-01",
          "2010-01-01",
          "2010-07-01",
          "2011-07-01",
          "2012-01-01",
          "2012-07-01",
          "2013-01-01",
          "2013-07-01",
          "2014-01-01",
          "2014-07-01",
          "2015-01-01",
          "2015-07-01",
          "2016-01-01",
          "2016-07-01",
          "2017-01-01",
          "2017-07-01",
          "2018-01-01",
          "2018-07-01",
          "2019-01-01",
          "2019-07-09",
          "2020-01-14",
          "2020-07-01",
          "2021-01-01",
          "2021-07-01",
          "2022-01-01"
         ],
         "xaxis": "x",
         "y": [
          1.30937098844673,
          1.37179487179487,
          1.4,
          1.47435897435897,
          1.54043645699615,
          1.54227768709756,
          1.54814738363092,
          1.54772806417912,
          1.53876731914675,
          1.53540057961372,
          1.70569677071844,
          1.71601832139862,
          1.90806479684911,
          1.90373285997273,
          1.93793475191868,
          2.12427661943906,
          2.126795692272,
          2.19097575749765,
          2.19166779473097,
          2.32023047622731,
          2.42566560651317,
          2.42538396537377,
          2.47716364762347,
          2.4766683650764,
          2.4756943549011,
          2.47551879524752,
          2.45791461307047,
          2.62181864688579,
          2.54833880164368,
          2.55286016070255,
          2.6246719160105,
          2.63653726198821,
          2.64483708448642,
          2.64333653542393,
          2.70169434831273,
          2.82139902918224
         ],
         "yaxis": "y"
        },
        {
         "hovertemplate": "name=Hungary<br>date=%{x}<br>dollar_price=%{y}<extra></extra>",
         "legendgroup": "Hungary",
         "line": {
          "color": "#00cc96",
          "dash": "solid"
         },
         "marker": {
          "symbol": "circle"
         },
         "mode": "lines",
         "name": "Hungary",
         "showlegend": true,
         "type": "scattergl",
         "x": [
          "2000-04-01",
          "2001-04-01",
          "2002-04-01",
          "2003-04-01",
          "2004-05-01",
          "2005-06-01",
          "2006-01-01",
          "2006-05-01",
          "2007-01-01",
          "2007-06-01",
          "2008-06-01",
          "2009-07-01",
          "2010-01-01",
          "2010-07-01",
          "2011-07-01",
          "2012-01-01",
          "2012-07-01",
          "2013-01-01",
          "2013-07-01",
          "2014-01-01",
          "2014-07-01",
          "2015-01-01",
          "2015-07-01",
          "2016-01-01",
          "2016-07-01",
          "2017-01-01",
          "2017-07-01",
          "2018-01-01",
          "2018-07-01",
          "2019-01-01",
          "2019-07-09",
          "2020-01-14",
          "2020-07-01",
          "2021-01-01",
          "2021-07-01",
          "2022-01-01"
         ],
         "xaxis": "x",
         "y": [
          1.21505376344086,
          1.31683168316832,
          1.6875,
          2.1875,
          2.51184834123223,
          2.6025937547571,
          2.70588917451052,
          2.71390936705818,
          3.03460946376393,
          3.32943789100086,
          4.64446289905988,
          3.61522552228711,
          3.85747074215594,
          3.33379661092544,
          4.04099697775963,
          2.62521406178614,
          3.48424596089836,
          3.81662979173847,
          3.76430215965894,
          3.85482461556529,
          3.76687180787727,
          3.16883108269562,
          3.18158582964093,
          3.07504073147702,
          3.15082252221943,
          3.05481146382492,
          3.20894752849616,
          3.42663850530346,
          3.07491728472504,
          3.03280333608367,
          3.09766738762007,
          3.01255028448517,
          2.89037807590422,
          3.02598361698848,
          2.97076625320777,
          3.09280477236784
         ],
         "yaxis": "y"
        },
        {
         "hovertemplate": "name=Indonesia<br>date=%{x}<br>dollar_price=%{y}<extra></extra>",
         "legendgroup": "Indonesia",
         "line": {
          "color": "#ab63fa",
          "dash": "solid"
         },
         "marker": {
          "symbol": "circle"
         },
         "mode": "lines",
         "name": "Indonesia",
         "showlegend": true,
         "type": "scattergl",
         "x": [
          "2000-04-01",
          "2001-04-01",
          "2002-04-01",
          "2003-04-01",
          "2004-05-01",
          "2005-06-01",
          "2006-01-01",
          "2006-05-01",
          "2007-01-01",
          "2007-06-01",
          "2008-06-01",
          "2009-07-01",
          "2010-01-01",
          "2010-07-01",
          "2011-07-01",
          "2012-01-01",
          "2012-07-01",
          "2013-01-01",
          "2013-07-01",
          "2014-01-01",
          "2014-07-01",
          "2015-01-01",
          "2015-07-01",
          "2016-01-01",
          "2016-07-01",
          "2017-01-01",
          "2017-07-01",
          "2018-01-01",
          "2018-07-01",
          "2019-01-01",
          "2019-07-09",
          "2020-01-14",
          "2020-07-01",
          "2021-01-01",
          "2021-07-01",
          "2022-01-01"
         ],
         "xaxis": "x",
         "y": [
          1.82504719949654,
          1.35421464762782,
          1.69671261930011,
          1.84210526315789,
          1.76535087719298,
          1.5295966474594,
          1.54334038054968,
          1.5656836461126,
          1.74917491749175,
          1.76372712146423,
          2.04326923076923,
          2.04901960784314,
          2.24248927038627,
          2.51351649564162,
          2.64390472838203,
          2.46004366812227,
          2.55206960189823,
          2.86040440235475,
          2.80371299548419,
          2.30140032948929,
          2.42842242503259,
          2.23870192307692,
          2.28558582187418,
          2.18677182290733,
          2.36415633937083,
          2.32575587065796,
          2.40293204682299,
          2.67609851036754,
          2.19359331476323,
          2.34208658623137,
          2.26468506723284,
          2.41404535479151,
          2.35538621406304,
          2.4070796460177,
          2.34200103323575,
          2.36406619385343
         ],
         "yaxis": "y"
        },
        {
         "hovertemplate": "name=Israel<br>date=%{x}<br>dollar_price=%{y}<extra></extra>",
         "legendgroup": "Israel",
         "line": {
          "color": "#FFA15A",
          "dash": "solid"
         },
         "marker": {
          "symbol": "circle"
         },
         "mode": "lines",
         "name": "Israel",
         "showlegend": true,
         "type": "scattergl",
         "x": [
          "2000-04-01",
          "2002-04-01",
          "2009-07-01",
          "2010-01-01",
          "2010-07-01",
          "2011-07-01",
          "2012-01-01",
          "2012-07-01",
          "2013-01-01",
          "2013-07-01",
          "2014-01-01",
          "2014-07-01",
          "2015-01-01",
          "2015-07-01",
          "2016-01-01",
          "2016-07-01",
          "2017-01-01",
          "2017-07-01",
          "2018-01-01",
          "2018-07-01",
          "2019-01-01",
          "2019-07-09",
          "2020-01-14",
          "2020-07-01",
          "2021-01-01",
          "2021-07-01",
          "2022-01-01"
         ],
         "xaxis": "x",
         "y": [
          3.58024691358025,
          2.50521920668058,
          3.77429703717683,
          3.9919624916276,
          3.85820451073306,
          4.67186742474327,
          4.13147979732363,
          2.91934989267096,
          4.00048327985931,
          4.79984640491504,
          5.01691416776561,
          5.12625227019743,
          4.44822896940889,
          4.63165138221711,
          4.28819730782406,
          4.37965662455458,
          4.38391699092088,
          4.77333709927976,
          4.80160635558078,
          4.67688244518419,
          4.58486724112356,
          4.76631059522808,
          4.91400491400492,
          4.94660575552129,
          5.3475935828877,
          5.16395558998193,
          5.349697112737
         ],
         "yaxis": "y"
        },
        {
         "hovertemplate": "name=Japan<br>date=%{x}<br>dollar_price=%{y}<extra></extra>",
         "legendgroup": "Japan",
         "line": {
          "color": "#19d3f3",
          "dash": "solid"
         },
         "marker": {
          "symbol": "circle"
         },
         "mode": "lines",
         "name": "Japan",
         "showlegend": true,
         "type": "scattergl",
         "x": [
          "2000-04-01",
          "2001-04-01",
          "2002-04-01",
          "2003-04-01",
          "2004-05-01",
          "2005-06-01",
          "2006-01-01",
          "2006-05-01",
          "2007-01-01",
          "2007-06-01",
          "2008-06-01",
          "2009-07-01",
          "2010-01-01",
          "2010-07-01",
          "2011-07-01",
          "2012-01-01",
          "2012-07-01",
          "2013-01-01",
          "2013-07-01",
          "2014-01-01",
          "2014-07-01",
          "2015-01-01",
          "2015-07-01",
          "2016-01-01",
          "2016-07-01",
          "2017-01-01",
          "2017-07-01",
          "2018-01-01",
          "2018-07-01",
          "2019-01-01",
          "2019-07-09",
          "2020-01-14",
          "2020-07-01",
          "2021-01-01",
          "2021-07-01",
          "2022-01-01"
         ],
         "xaxis": "x",
         "y": [
          2.77358490566038,
          2.37096774193548,
          2.01538461538462,
          2.18333333333333,
          2.31858407079646,
          2.34268846928735,
          2.18713092165697,
          2.23005218322109,
          2.30291565571411,
          2.2891714017087,
          2.62037340320996,
          3.45703019499811,
          3.49573956740223,
          3.67056664372563,
          4.08345562432208,
          4.16016640665627,
          4.09102531321913,
          3.51397353538681,
          3.19664352429949,
          2.97376372967528,
          3.6442430808628,
          3.14185029507918,
          2.98543591398717,
          3.11854692570273,
          3.46685406418365,
          3.25718938841983,
          3.36104723155846,
          3.43192594265071,
          3.50561797752809,
          3.59645887126522,
          3.58571231554268,
          3.54416575790622,
          3.63551619669075,
          3.73939306774054,
          3.54755082548779,
          3.38468214363202
         ],
         "yaxis": "y"
        },
        {
         "hovertemplate": "name=South Korea<br>date=%{x}<br>dollar_price=%{y}<extra></extra>",
         "legendgroup": "South Korea",
         "line": {
          "color": "#FF6692",
          "dash": "solid"
         },
         "marker": {
          "symbol": "circle"
         },
         "mode": "lines",
         "name": "South Korea",
         "showlegend": true,
         "type": "scattergl",
         "x": [
          "2000-04-01",
          "2001-04-01",
          "2002-04-01",
          "2003-04-01",
          "2004-05-01",
          "2005-06-01",
          "2006-01-01",
          "2006-05-01",
          "2007-01-01",
          "2007-06-01",
          "2008-06-01",
          "2009-07-01",
          "2010-01-01",
          "2010-07-01",
          "2011-07-01",
          "2012-01-01",
          "2012-07-01",
          "2013-01-01",
          "2013-07-01",
          "2014-01-01",
          "2014-07-01",
          "2015-01-01",
          "2015-07-01",
          "2016-01-01",
          "2016-07-01",
          "2017-01-01",
          "2017-07-01",
          "2018-01-01",
          "2018-07-01",
          "2019-01-01",
          "2019-07-09",
          "2020-01-14",
          "2020-07-01",
          "2021-01-01",
          "2021-07-01",
          "2022-01-01"
         ],
         "xaxis": "x",
         "y": [
          2.70758122743682,
          2.26415094339623,
          2.37730061349693,
          2.70491803278689,
          2.71877655055225,
          2.48632521133764,
          2.55767558442887,
          2.62494750104998,
          3.08461415731532,
          3.14363143631436,
          3.1432640832965,
          2.58653480410803,
          2.98114861902674,
          2.82286520818631,
          3.50312440825601,
          3.19309600862999,
          3.21459600347524,
          3.40864598447684,
          3.43400545918817,
          3.46669165183173,
          4.00488400488401,
          3.78473183790271,
          3.76038478355925,
          3.59006470465456,
          3.85643542661817,
          3.67754607380166,
          3.84396977241952,
          4.11503390226795,
          4.03225806451613,
          4.0228857500447,
          3.81178264368303,
          3.89239685148344,
          3.74703359840127,
          4.10078826263271,
          3.99878297909332,
          3.81584404811282
         ],
         "yaxis": "y"
        },
        {
         "hovertemplate": "name=Mexico<br>date=%{x}<br>dollar_price=%{y}<extra></extra>",
         "legendgroup": "Mexico",
         "line": {
          "color": "#B6E880",
          "dash": "solid"
         },
         "marker": {
          "symbol": "circle"
         },
         "mode": "lines",
         "name": "Mexico",
         "showlegend": true,
         "type": "scattergl",
         "x": [
          "2000-04-01",
          "2001-04-01",
          "2002-04-01",
          "2003-04-01",
          "2004-05-01",
          "2005-06-01",
          "2006-01-01",
          "2006-05-01",
          "2007-01-01",
          "2007-06-01",
          "2008-06-01",
          "2009-07-01",
          "2010-01-01",
          "2010-07-01",
          "2011-07-01",
          "2012-01-01",
          "2012-07-01",
          "2013-01-01",
          "2013-07-01",
          "2014-01-01",
          "2014-07-01",
          "2015-01-01",
          "2015-07-01",
          "2016-01-01",
          "2016-07-01",
          "2017-01-01",
          "2017-07-01",
          "2018-01-01",
          "2018-07-01",
          "2019-01-01",
          "2019-07-09",
          "2020-01-14",
          "2020-07-01",
          "2021-01-01",
          "2021-07-01",
          "2022-01-01"
         ],
         "xaxis": "x",
         "y": [
          2.22104144527099,
          2.35737351991389,
          2.35991379310345,
          2.18423551756885,
          2.06896551724138,
          2.57648953301127,
          2.65591652833768,
          2.56566782564075,
          2.66314030157768,
          2.693277486522,
          3.14697349658258,
          2.38950356253258,
          2.49731733489416,
          2.50352057580973,
          2.74189747873958,
          2.70380871649469,
          2.70329509753781,
          2.90460340388118,
          2.85909675724337,
          2.77512141156176,
          3.24761937900878,
          3.34985472568792,
          3.1131371209835,
          2.81015670924914,
          2.37388724035608,
          2.23229539190451,
          2.75424026530641,
          2.57186486993329,
          2.57197595989817,
          2.53770958762219,
          2.64616768764637,
          2.65667755904466,
          2.2285612408629,
          2.68459712400104,
          3.17850535751977,
          3.34156617753886
         ],
         "yaxis": "y"
        },
        {
         "hovertemplate": "name=Malaysia<br>date=%{x}<br>dollar_price=%{y}<extra></extra>",
         "legendgroup": "Malaysia",
         "line": {
          "color": "#FF97FF",
          "dash": "solid"
         },
         "marker": {
          "symbol": "circle"
         },
         "mode": "lines",
         "name": "Malaysia",
         "showlegend": true,
         "type": "scattergl",
         "x": [
          "2000-04-01",
          "2001-04-01",
          "2002-04-01",
          "2003-04-01",
          "2004-05-01",
          "2005-06-01",
          "2006-01-01",
          "2006-05-01",
          "2007-01-01",
          "2007-06-01",
          "2008-06-01",
          "2009-07-01",
          "2010-01-01",
          "2010-07-01",
          "2011-07-01",
          "2012-01-01",
          "2012-07-01",
          "2013-01-01",
          "2013-07-01",
          "2014-01-01",
          "2014-07-01",
          "2015-01-01",
          "2015-07-01",
          "2016-01-01",
          "2016-07-01",
          "2017-01-01",
          "2017-07-01",
          "2018-01-01",
          "2018-07-01",
          "2019-01-01",
          "2019-07-09",
          "2020-01-14",
          "2020-07-01",
          "2021-01-01",
          "2021-07-01",
          "2022-01-01"
         ],
         "xaxis": "x",
         "y": [
          1.18947368421053,
          1.18947368421053,
          1.32631578947368,
          1.32631578947368,
          1.32631578947368,
          1.38157894736842,
          1.46713615023474,
          1.51536024245764,
          1.57053112507139,
          1.60139758334547,
          1.69857936998147,
          1.87951138256524,
          2.08118081180812,
          2.19386961257196,
          2.42179616548941,
          2.34109983914892,
          2.33181030408067,
          2.57865715212455,
          2.29523659801918,
          2.2265683767113,
          2.40883977900553,
          2.11035818005808,
          2.00972021542099,
          1.82128628343768,
          1.9865905140303,
          1.78910880017891,
          2.00302783277047,
          2.27617602427921,
          2.10068365444375,
          2.19793564055859,
          2.13639106819553,
          2.33157442630998,
          2.34204665338178,
          2.46544916090819,
          2.36477689667416,
          2.38681161151595
         ],
         "yaxis": "y"
        },
        {
         "hovertemplate": "name=New Zealand<br>date=%{x}<br>dollar_price=%{y}<extra></extra>",
         "legendgroup": "New Zealand",
         "line": {
          "color": "#FECB52",
          "dash": "solid"
         },
         "marker": {
          "symbol": "circle"
         },
         "mode": "lines",
         "name": "New Zealand",
         "showlegend": true,
         "type": "scattergl",
         "x": [
          "2000-04-01",
          "2001-04-01",
          "2002-04-01",
          "2003-04-01",
          "2004-05-01",
          "2005-06-01",
          "2006-01-01",
          "2006-05-01",
          "2007-01-01",
          "2007-06-01",
          "2008-06-01",
          "2009-07-01",
          "2010-01-01",
          "2010-07-01",
          "2011-07-01",
          "2012-01-01",
          "2012-07-01",
          "2013-01-01",
          "2013-07-01",
          "2014-01-01",
          "2014-07-01",
          "2015-01-01",
          "2015-07-01",
          "2016-01-01",
          "2016-07-01",
          "2017-01-01",
          "2017-07-01",
          "2018-01-01",
          "2018-07-01",
          "2019-01-01",
          "2019-07-09",
          "2020-01-14",
          "2020-07-01",
          "2021-01-01",
          "2021-07-01",
          "2022-01-01"
         ],
         "xaxis": "x",
         "y": [
          1.69154228855721,
          1.45748987854251,
          1.60714285714286,
          2.21910112359551,
          2.65243902439024,
          3.17335805462455,
          3.07596599156701,
          2.74520206537899,
          3.22137875010505,
          3.59459248261311,
          3.7186005919405,
          3.07721292429428,
          3.61130559752368,
          3.5900000004308,
          4.41150000061761,
          4.04761500000405,
          4.00452000065995,
          4.32458000140592,
          4.29907500125211,
          4.5718749992285,
          4.94475000069227,
          4.49255500105261,
          3.90963499998182,
          3.91228999917255,
          4.22130000059584,
          4.18530000010673,
          4.43225999862689,
          4.51019000139252,
          4.23397999999999,
          4.19120000000001,
          4.2288,
          4.29454999999999,
          4.34840999999999,
          4.87423999999998,
          4.76272499999999,
          4.59725000000001
         ],
         "yaxis": "y"
        },
        {
         "hovertemplate": "name=Poland<br>date=%{x}<br>dollar_price=%{y}<extra></extra>",
         "legendgroup": "Poland",
         "line": {
          "color": "#636efa",
          "dash": "solid"
         },
         "marker": {
          "symbol": "circle"
         },
         "mode": "lines",
         "name": "Poland",
         "showlegend": true,
         "type": "scattergl",
         "x": [
          "2000-04-01",
          "2001-04-01",
          "2002-04-01",
          "2003-04-01",
          "2004-05-01",
          "2005-06-01",
          "2006-01-01",
          "2006-05-01",
          "2007-01-01",
          "2007-06-01",
          "2008-06-01",
          "2009-07-01",
          "2010-01-01",
          "2010-07-01",
          "2011-07-01",
          "2012-01-01",
          "2012-07-01",
          "2013-01-01",
          "2013-07-01",
          "2014-01-01",
          "2014-07-01",
          "2015-01-01",
          "2015-07-01",
          "2016-01-01",
          "2016-07-01",
          "2017-01-01",
          "2017-07-01",
          "2018-01-01",
          "2018-07-01",
          "2019-01-01",
          "2019-07-09",
          "2020-01-14",
          "2020-07-01",
          "2021-01-01",
          "2021-07-01",
          "2022-01-01"
         ],
         "xaxis": "x",
         "y": [
          1.27906976744186,
          1.46401985111663,
          1.46039603960396,
          1.61953727506427,
          1.62790697674419,
          1.96398356296833,
          2.08661038168919,
          2.09734927318781,
          2.32186422141836,
          2.50740410996239,
          3.44581456595043,
          2.40868393946597,
          2.85648793045686,
          2.59626513184648,
          3.08566933638444,
          2.58489681716826,
          2.62979178406809,
          2.94307891332471,
          2.73362056158075,
          2.99830530569678,
          2.99537670117862,
          2.48205902983867,
          2.5439898240407,
          2.37171727153692,
          2.42078852142776,
          2.30097192095203,
          2.72339966564202,
          2.96557292813624,
          2.73939163807483,
          2.80115781189558,
          2.83632066180815,
          2.89732918927461,
          2.78943564645171,
          3.51367323913394,
          3.43755199201403,
          3.43917928676111
         ],
         "yaxis": "y"
        },
        {
         "hovertemplate": "name=Russia<br>date=%{x}<br>dollar_price=%{y}<extra></extra>",
         "legendgroup": "Russia",
         "line": {
          "color": "#EF553B",
          "dash": "solid"
         },
         "marker": {
          "symbol": "circle"
         },
         "mode": "lines",
         "name": "Russia",
         "showlegend": true,
         "type": "scattergl",
         "x": [
          "2000-04-01",
          "2001-04-01",
          "2002-04-01",
          "2003-04-01",
          "2004-05-01",
          "2005-06-01",
          "2006-01-01",
          "2006-05-01",
          "2007-01-01",
          "2007-06-01",
          "2008-06-01",
          "2009-07-01",
          "2010-01-01",
          "2010-07-01",
          "2011-07-01",
          "2012-01-01",
          "2012-07-01",
          "2013-01-01",
          "2013-07-01",
          "2014-01-01",
          "2014-07-01",
          "2015-01-01",
          "2015-07-01",
          "2016-01-01",
          "2016-07-01",
          "2017-01-01",
          "2017-07-01",
          "2018-01-01",
          "2018-07-01",
          "2019-01-01",
          "2019-07-09",
          "2020-01-14",
          "2020-07-01",
          "2021-01-01",
          "2021-07-01",
          "2022-01-01"
         ],
         "xaxis": "x",
         "y": [
          1.3859649122807,
          1.21107266435986,
          1.25,
          1.31832797427653,
          1.44827586206897,
          1.47858689338332,
          1.60446459713987,
          1.77359013440488,
          1.84672206832872,
          2.0274287719435,
          2.53942565938985,
          2.04293829411603,
          2.3390249607378,
          2.33220828919383,
          2.70245923790649,
          2.54963124777694,
          2.28901046077781,
          2.42569479114661,
          2.64125395808603,
          2.62233255007108,
          2.55473666836504,
          1.36446563539639,
          1.88330546510605,
          1.52702431183444,
          2.05022903423961,
          2.15098241985522,
          2.27813538775694,
          2.29095074455899,
          2.09202832606353,
          1.65209567368974,
          2.03638072487322,
          2.1975338786473,
          1.91258766026776,
          1.80892402519094,
          1.81135113377164,
          1.74379177834469
         ],
         "yaxis": "y"
        },
        {
         "hovertemplate": "name=Singapore<br>date=%{x}<br>dollar_price=%{y}<extra></extra>",
         "legendgroup": "Singapore",
         "line": {
          "color": "#00cc96",
          "dash": "solid"
         },
         "marker": {
          "symbol": "circle"
         },
         "mode": "lines",
         "name": "Singapore",
         "showlegend": true,
         "type": "scattergl",
         "x": [
          "2000-04-01",
          "2001-04-01",
          "2002-04-01",
          "2003-04-01",
          "2004-05-01",
          "2005-06-01",
          "2006-01-01",
          "2006-05-01",
          "2007-01-01",
          "2007-06-01",
          "2008-06-01",
          "2009-07-01",
          "2010-01-01",
          "2010-07-01",
          "2011-07-01",
          "2012-01-01",
          "2012-07-01",
          "2013-01-01",
          "2013-07-01",
          "2014-01-01",
          "2014-07-01",
          "2015-01-01",
          "2015-07-01",
          "2016-01-01",
          "2016-07-01",
          "2017-01-01",
          "2017-07-01",
          "2018-01-01",
          "2018-07-01",
          "2019-01-01",
          "2019-07-09",
          "2020-01-14",
          "2020-07-01",
          "2021-01-01",
          "2021-07-01",
          "2022-01-01"
         ],
         "xaxis": "x",
         "y": [
          1.88235294117647,
          1.8232044198895,
          1.81318681318681,
          1.85393258426966,
          1.92982456140351,
          2.16776058288673,
          2.20143093010457,
          2.26800226800227,
          2.34077830878767,
          2.59228876127974,
          2.91997782295324,
          2.88152953226357,
          3.18870696141306,
          3.07815456265464,
          3.65353547906052,
          3.75154702970297,
          3.49622566547477,
          3.64416730777017,
          3.68714207264454,
          3.59698166321304,
          3.79644588045234,
          3.5254847541537,
          3.43969555035129,
          3.27013393633675,
          4.01414156293732,
          3.89226759339705,
          4.06474559047688,
          4.38546746814865,
          4.27775933915994,
          4.27760159303783,
          4.26063321824726,
          4.37961622684928,
          4.2519458057077,
          4.43342350465885,
          4.31207747122236,
          4.36342121806013
         ],
         "yaxis": "y"
        },
        {
         "hovertemplate": "name=Sweden<br>date=%{x}<br>dollar_price=%{y}<extra></extra>",
         "legendgroup": "Sweden",
         "line": {
          "color": "#ab63fa",
          "dash": "solid"
         },
         "marker": {
          "symbol": "circle"
         },
         "mode": "lines",
         "name": "Sweden",
         "showlegend": true,
         "type": "scattergl",
         "x": [
          "2000-04-01",
          "2001-04-01",
          "2002-04-01",
          "2003-04-01",
          "2004-05-01",
          "2005-06-01",
          "2006-01-01",
          "2006-05-01",
          "2007-01-01",
          "2007-06-01",
          "2008-06-01",
          "2009-07-01",
          "2010-01-01",
          "2010-07-01",
          "2011-07-01",
          "2012-01-01",
          "2012-07-01",
          "2013-01-01",
          "2013-07-01",
          "2014-01-01",
          "2014-07-01",
          "2015-01-01",
          "2015-07-01",
          "2016-01-01",
          "2016-07-01",
          "2017-01-01",
          "2017-07-01",
          "2018-01-01",
          "2018-07-01",
          "2019-01-01",
          "2019-07-09",
          "2020-01-14",
          "2020-07-01",
          "2021-01-01",
          "2021-07-01",
          "2022-01-01"
         ],
         "xaxis": "x",
         "y": [
          2.71493212669683,
          2.33463035019455,
          2.5,
          3.59712230215827,
          3.94218134034166,
          4.16655466250907,
          4.27910112942336,
          4.53013569815569,
          4.54464761228475,
          4.85890762922118,
          6.37492974995177,
          4.93099764197164,
          5.50684119117211,
          6.56400241403395,
          7.63985351685819,
          5.91306354379994,
          5.72868135202144,
          6.38809635544636,
          6.15687377003092,
          6.28751071734781,
          5.95377413692218,
          4.96859530363977,
          5.12751315611928,
          5.23143277318251,
          5.22871254297632,
          5.26053339616748,
          5.81892070131244,
          6.12311068987879,
          5.82684002467838,
          5.83859649122807,
          5.38255734798233,
          5.4444926050047,
          5.75593101637048,
          6.37473252765137,
          6.19514713474445,
          5.78523906964785
         ],
         "yaxis": "y"
        },
        {
         "hovertemplate": "name=Thailand<br>date=%{x}<br>dollar_price=%{y}<extra></extra>",
         "legendgroup": "Thailand",
         "line": {
          "color": "#FFA15A",
          "dash": "solid"
         },
         "marker": {
          "symbol": "circle"
         },
         "mode": "lines",
         "name": "Thailand",
         "showlegend": true,
         "type": "scattergl",
         "x": [
          "2000-04-01",
          "2001-04-01",
          "2002-04-01",
          "2003-04-01",
          "2004-05-01",
          "2005-06-01",
          "2006-01-01",
          "2006-05-01",
          "2007-01-01",
          "2007-06-01",
          "2008-06-01",
          "2009-07-01",
          "2010-01-01",
          "2010-07-01",
          "2011-07-01",
          "2012-01-01",
          "2012-07-01",
          "2013-01-01",
          "2013-07-01",
          "2014-01-01",
          "2014-07-01",
          "2015-01-01",
          "2015-07-01",
          "2016-01-01",
          "2016-07-01",
          "2017-01-01",
          "2017-07-01",
          "2018-01-01",
          "2018-07-01",
          "2019-01-01",
          "2019-07-09",
          "2020-01-14",
          "2020-07-01",
          "2021-01-01",
          "2021-07-01",
          "2022-01-01"
         ],
         "xaxis": "x",
         "y": [
          1.44736842105263,
          1.20879120879121,
          1.270207852194,
          1.38173302107728,
          1.44607843137255,
          1.48038490007402,
          1.50924412023645,
          1.56067108856808,
          1.75637393767705,
          1.79944855608765,
          1.85851318944844,
          1.88760427337919,
          2.112569790252,
          2.16684723726977,
          2.35294117647059,
          2.45669291338583,
          2.58675078864353,
          2.92387833977483,
          2.84572342126299,
          2.92015209125475,
          3.11516677155444,
          3.03634411900015,
          3.16831683168317,
          3.09221424627278,
          3.4034034034034,
          3.34523374469401,
          3.49624667636214,
          3.7245696400626,
          3.5875791377751,
          3.71787862219792,
          3.86018976563134,
          3.79819998348609,
          4.0783813923849,
          4.24825755061401,
          3.90124961901859,
          3.84442108424688
         ],
         "yaxis": "y"
        },
        {
         "hovertemplate": "name=Taiwan<br>date=%{x}<br>dollar_price=%{y}<extra></extra>",
         "legendgroup": "Taiwan",
         "line": {
          "color": "#19d3f3",
          "dash": "solid"
         },
         "marker": {
          "symbol": "circle"
         },
         "mode": "lines",
         "name": "Taiwan",
         "showlegend": true,
         "type": "scattergl",
         "x": [
          "2000-04-01",
          "2001-04-01",
          "2002-04-01",
          "2003-04-01",
          "2004-05-01",
          "2005-06-01",
          "2006-01-01",
          "2006-05-01",
          "2007-01-01",
          "2007-06-01",
          "2008-06-01",
          "2009-07-01",
          "2010-01-01",
          "2010-07-01",
          "2011-07-01",
          "2012-01-01",
          "2012-07-01",
          "2013-01-01",
          "2013-07-01",
          "2014-01-01",
          "2014-07-01",
          "2015-01-01",
          "2015-07-01",
          "2016-01-01",
          "2016-07-01",
          "2017-01-01",
          "2017-07-01",
          "2018-01-01",
          "2018-07-01",
          "2019-01-01",
          "2019-07-09",
          "2020-01-14",
          "2020-07-01",
          "2021-01-01",
          "2021-07-01",
          "2022-01-01"
         ],
         "xaxis": "x",
         "y": [
          2.28758169934641,
          2.12765957446809,
          2.01149425287356,
          2.01149425287356,
          2.24550898203593,
          2.40577385725742,
          2.34745457675394,
          2.3334681559379,
          2.27786973622268,
          2.28864374971392,
          2.47015232606011,
          2.2607044355021,
          2.35534270236319,
          2.336048340627,
          2.60109592841784,
          2.50170950149269,
          2.48381381331655,
          2.54220052877771,
          2.63083404099439,
          2.61927654918604,
          2.63491428190248,
          2.50849395103674,
          2.54674403610574,
          2.07634322856326,
          2.15429766773861,
          2.16267042783263,
          2.26396522024444,
          2.33478834636078,
          2.27179191703021,
          2.24004155439405,
          2.30976517387399,
          2.40927571148923,
          2.44428224670277,
          2.57326661901358,
          2.56707371423478,
          2.69648378514417
         ],
         "yaxis": "y"
        },
        {
         "hovertemplate": "name=United States<br>date=%{x}<br>dollar_price=%{y}<extra></extra>",
         "legendgroup": "United States",
         "line": {
          "color": "#FF6692",
          "dash": "solid"
         },
         "marker": {
          "symbol": "circle"
         },
         "mode": "lines",
         "name": "United States",
         "showlegend": true,
         "type": "scattergl",
         "x": [
          "2000-04-01",
          "2001-04-01",
          "2002-04-01",
          "2003-04-01",
          "2004-05-01",
          "2005-06-01",
          "2006-01-01",
          "2006-05-01",
          "2007-01-01",
          "2007-06-01",
          "2008-06-01",
          "2009-07-01",
          "2010-01-01",
          "2010-07-01",
          "2011-07-01",
          "2012-01-01",
          "2012-07-01",
          "2013-01-01",
          "2013-07-01",
          "2014-01-01",
          "2014-07-01",
          "2015-01-01",
          "2015-07-01",
          "2016-01-01",
          "2016-07-01",
          "2017-01-01",
          "2017-07-01",
          "2018-01-01",
          "2018-07-01",
          "2019-01-01",
          "2019-07-09",
          "2020-01-14",
          "2020-07-01",
          "2021-01-01",
          "2021-07-01",
          "2022-01-01"
         ],
         "xaxis": "x",
         "y": [
          2.51,
          2.54,
          2.49,
          2.71,
          2.9,
          3.06,
          3.15,
          3.1,
          3.22,
          3.41,
          3.57,
          3.57,
          3.58,
          3.733333333,
          4.065,
          4.19722,
          4.3275,
          4.367395833,
          4.556666667,
          4.624166667,
          4.795,
          4.79,
          4.79,
          4.93,
          5.04,
          5.06,
          5.3,
          5.28,
          5.51,
          5.58,
          5.74,
          5.67,
          5.71,
          5.66,
          5.65,
          5.81
         ],
         "yaxis": "y"
        },
        {
         "hovertemplate": "name=South Africa<br>date=%{x}<br>dollar_price=%{y}<extra></extra>",
         "legendgroup": "South Africa",
         "line": {
          "color": "#B6E880",
          "dash": "solid"
         },
         "marker": {
          "symbol": "circle"
         },
         "mode": "lines",
         "name": "South Africa",
         "showlegend": true,
         "type": "scattergl",
         "x": [
          "2000-04-01",
          "2001-04-01",
          "2002-04-01",
          "2003-04-01",
          "2004-05-01",
          "2005-06-01",
          "2006-01-01",
          "2006-05-01",
          "2007-01-01",
          "2007-06-01",
          "2008-06-01",
          "2009-07-01",
          "2010-01-01",
          "2010-07-01",
          "2011-07-01",
          "2012-01-01",
          "2012-07-01",
          "2013-01-01",
          "2013-07-01",
          "2014-01-01",
          "2014-07-01",
          "2015-01-01",
          "2015-07-01",
          "2016-01-01",
          "2016-07-01",
          "2017-01-01",
          "2017-07-01",
          "2018-01-01",
          "2018-07-01",
          "2019-01-01",
          "2019-07-09",
          "2020-01-14",
          "2020-07-01",
          "2021-01-01",
          "2021-07-01",
          "2022-01-01"
         ],
         "xaxis": "x",
         "y": [
          1.33928571428571,
          1.19311193111931,
          0.889908256880734,
          1.8452380952381,
          1.86186186186186,
          2.09831232514064,
          2.29429468940677,
          2.11459754433834,
          2.18010478568163,
          2.22349734614833,
          2.24110005619277,
          2.16774349375038,
          2.45738928058046,
          2.44808598155643,
          2.87345708650657,
          2.45375381285054,
          2.35584473861342,
          2.31015806344645,
          2.23941874642315,
          2.16039309961251,
          2.33011555471016,
          2.22149624305782,
          2.0943167492982,
          1.77061101889179,
          2.10176022418776,
          1.88640028668697,
          2.26073850791259,
          2.44735135399714,
          2.32002933714517,
          2.23544258157563,
          2.18694885361552,
          2.15412410534362,
          1.85934922777028,
          2.15815751328716,
          2.2847399829497,
          2.57918552036199
         ],
         "yaxis": "y"
        },
        {
         "hovertemplate": "name=Philippines<br>date=%{x}<br>dollar_price=%{y}<extra></extra>",
         "legendgroup": "Philippines",
         "line": {
          "color": "#FF97FF",
          "dash": "solid"
         },
         "marker": {
          "symbol": "circle"
         },
         "mode": "lines",
         "name": "Philippines",
         "showlegend": true,
         "type": "scattergl",
         "x": [
          "2001-04-01",
          "2002-04-01",
          "2003-04-01",
          "2004-05-01",
          "2005-06-01",
          "2006-01-01",
          "2006-05-01",
          "2007-01-01",
          "2007-06-01",
          "2008-06-01",
          "2009-07-01",
          "2010-01-01",
          "2010-07-01",
          "2011-07-01",
          "2012-01-01",
          "2012-07-01",
          "2013-01-01",
          "2013-07-01",
          "2014-01-01",
          "2014-07-01",
          "2015-01-01",
          "2015-07-01",
          "2016-01-01",
          "2016-07-01",
          "2017-01-01",
          "2017-07-01",
          "2018-01-01",
          "2018-07-01",
          "2019-01-01",
          "2019-07-09",
          "2020-01-14",
          "2020-07-01",
          "2021-01-01",
          "2021-07-01",
          "2022-01-01"
         ],
         "xaxis": "x",
         "y": [
          1.17296222664016,
          1.27450980392157,
          1.23809523809524,
          1.23434704830054,
          1.46654445462878,
          1.55952833777102,
          1.61520190023753,
          1.7329255861366,
          1.85195272073642,
          1.95571540968866,
          2.0541490131239,
          2.21080139372822,
          2.19496449322143,
          2.78236265031832,
          2.68151346437905,
          2.79620853080569,
          2.9064039408867,
          2.65216390423573,
          2.98474463851426,
          3.70327508390233,
          3.67034451700068,
          3.6051976776334,
          2.78590036684566,
          2.82288018677704,
          2.68064093520105,
          2.64945182050953,
          2.64169541646131,
          2.61745844784714,
          2.67213818771771,
          2.76708725093779,
          2.80743376828786,
          2.87298183142476,
          2.95264334355669,
          2.82025819265144,
          2.78567925453654
         ],
         "yaxis": "y"
        },
        {
         "hovertemplate": "name=Norway<br>date=%{x}<br>dollar_price=%{y}<extra></extra>",
         "legendgroup": "Norway",
         "line": {
          "color": "#FECB52",
          "dash": "solid"
         },
         "marker": {
          "symbol": "circle"
         },
         "mode": "lines",
         "name": "Norway",
         "showlegend": true,
         "type": "scattergl",
         "x": [
          "2002-04-01",
          "2004-05-01",
          "2005-06-01",
          "2006-05-01",
          "2007-01-01",
          "2007-06-01",
          "2008-06-01",
          "2009-07-01",
          "2010-01-01",
          "2010-07-01",
          "2011-07-01",
          "2012-01-01",
          "2012-07-01",
          "2013-01-01",
          "2013-07-01",
          "2014-01-01",
          "2014-07-01",
          "2015-01-01",
          "2015-07-01",
          "2016-01-01",
          "2016-07-01",
          "2017-01-01",
          "2017-07-01",
          "2018-01-01",
          "2018-07-01",
          "2019-01-01",
          "2019-07-09",
          "2020-01-14",
          "2020-07-01",
          "2021-01-01",
          "2021-07-01",
          "2022-01-01"
         ],
         "xaxis": "x",
         "y": [
          4.08878504672897,
          5.18316275131039,
          6.06286726984423,
          7.04652344198089,
          6.80071448470249,
          6.88006329658233,
          7.87533347115167,
          6.14510120213542,
          7.02302674895313,
          7.20432259355613,
          8.31170750177778,
          6.78819185748108,
          7.05837936326852,
          7.84227900275392,
          7.50640492159071,
          7.79543479849613,
          7.75782651560455,
          6.29714660544441,
          5.6493358960031,
          5.21468803797363,
          5.51006351878779,
          5.66582064786925,
          5.91416018925313,
          6.24195870116304,
          5.22290617422123,
          5.85967256149726,
          4.85394816676779,
          5.97173005526667,
          5.54900464729139,
          6.08621355587027,
          6.30224227146079,
          6.39296549480992
         ],
         "yaxis": "y"
        },
        {
         "hovertemplate": "name=Peru<br>date=%{x}<br>dollar_price=%{y}<extra></extra>",
         "legendgroup": "Peru",
         "line": {
          "color": "#636efa",
          "dash": "solid"
         },
         "marker": {
          "symbol": "circle"
         },
         "mode": "lines",
         "name": "Peru",
         "showlegend": true,
         "type": "scattergl",
         "x": [
          "2002-04-01",
          "2003-04-01",
          "2004-05-01",
          "2005-06-01",
          "2006-01-01",
          "2006-05-01",
          "2007-01-01",
          "2007-06-01",
          "2008-06-01",
          "2009-07-01",
          "2010-01-01",
          "2010-07-01",
          "2011-07-01",
          "2012-01-01",
          "2013-01-01",
          "2013-07-01",
          "2014-01-01",
          "2014-07-01",
          "2015-01-01",
          "2015-07-01",
          "2016-01-01",
          "2016-07-01",
          "2017-01-01",
          "2017-07-01",
          "2018-01-01",
          "2018-07-01",
          "2019-01-01",
          "2019-07-09",
          "2020-01-14",
          "2020-07-01",
          "2021-01-01",
          "2021-07-01",
          "2022-01-01"
         ],
         "xaxis": "x",
         "y": [
          2.47813411078717,
          2.28323699421965,
          2.57593123209169,
          2.76224420819763,
          2.75681950087057,
          2.91321680466115,
          2.9785232795109,
          2.99968424376381,
          3.34507042253521,
          2.66102926603686,
          2.80647970736805,
          3.53669319186561,
          3.65296803652968,
          3.71402042711235,
          3.90701308849385,
          3.59324469996407,
          3.56315695706396,
          3.58680057388809,
          3.32446808510638,
          3.14119679597927,
          2.92568753657109,
          3.02494063554003,
          3.2420643107666,
          3.22927879440258,
          3.26899128268991,
          3.20953690967446,
          3.13573241750037,
          3.19459656809054,
          3.57615097968506,
          3.40262488205187,
          3.28665727621731,
          3.26491356837337,
          3.36169491967113
         ],
         "yaxis": "y"
        },
        {
         "hovertemplate": "name=Turkey<br>date=%{x}<br>dollar_price=%{y}<extra></extra>",
         "legendgroup": "Turkey",
         "line": {
          "color": "#EF553B",
          "dash": "solid"
         },
         "marker": {
          "symbol": "circle"
         },
         "mode": "lines",
         "name": "Turkey",
         "showlegend": true,
         "type": "scattergl",
         "x": [
          "2002-04-01",
          "2003-04-01",
          "2004-05-01",
          "2005-06-01",
          "2006-01-01",
          "2006-05-01",
          "2007-01-01",
          "2007-06-01",
          "2008-06-01",
          "2009-07-01",
          "2010-01-01",
          "2010-07-01",
          "2011-07-01",
          "2012-01-01",
          "2012-07-01",
          "2013-01-01",
          "2013-07-01",
          "2014-01-01",
          "2014-07-01",
          "2015-01-01",
          "2015-07-01",
          "2016-01-01",
          "2016-07-01",
          "2017-01-01",
          "2017-07-01",
          "2018-01-01",
          "2018-07-01",
          "2019-01-01",
          "2019-07-09",
          "2020-01-14",
          "2020-07-01",
          "2021-01-01",
          "2021-07-01",
          "2022-01-01"
         ],
         "xaxis": "x",
         "y": [
          3.02000755001888,
          2.34301780693533,
          2.58001306335728,
          2.9218407596786,
          3.06771417882529,
          2.72461887771651,
          3.22752261039191,
          3.6591942069178,
          4.31775309159505,
          3.64504370826748,
          3.83167746092028,
          3.89066893349899,
          3.77281829526656,
          3.54276819023592,
          4.51584651595599,
          4.7773851590106,
          4.34238422437355,
          3.75848422542062,
          4.42319187089062,
          3.96408750991022,
          3.8742109838606,
          3.40576820839979,
          3.53263995005011,
          2.74855221610012,
          3.00611009353896,
          2.82701309630253,
          2.28419654714475,
          1.99687929561244,
          2.44494931842013,
          2.20908974958548,
          2.03950725271521,
          2.00655913258818,
          2.33603085103275,
          1.86277067571093
         ],
         "yaxis": "y"
        },
        {
         "hovertemplate": "name=Venezuela<br>date=%{x}<br>dollar_price=%{y}<extra></extra>",
         "legendgroup": "Venezuela",
         "line": {
          "color": "#00cc96",
          "dash": "solid"
         },
         "marker": {
          "symbol": "circle"
         },
         "mode": "lines",
         "name": "Venezuela",
         "showlegend": true,
         "type": "scattergl",
         "x": [
          "2002-04-01",
          "2003-04-01",
          "2004-05-01",
          "2005-06-01",
          "2006-01-01",
          "2006-05-01",
          "2007-01-01",
          "2007-06-01",
          "2011-07-01",
          "2012-01-01",
          "2012-07-01",
          "2013-01-01",
          "2013-07-01",
          "2014-01-01",
          "2014-07-01",
          "2015-01-01",
          "2015-07-01",
          "2016-01-01",
          "2016-07-01",
          "2017-01-01",
          "2017-07-01",
          "2021-07-01",
          "2022-01-01"
         ],
         "xaxis": "x",
         "y": [
          2.9171528588098,
          2.3153942428035,
          1.4779979845482,
          2.12958526326998,
          2.2554206550659,
          2.26277792330468,
          1.6483737580837,
          3.44618823638989,
          6.51973967610865,
          6.98543536725927,
          7.9168267495605,
          9.08106597743704,
          7.15182530474722,
          7.15182530474722,
          6.81818181818182,
          2.53348713391591,
          0.67005076142132,
          0.66432274812203,
          3.38322366959406,
          5.24678590024574,
          4.05555555555556,
          4.43277488815627,
          5.06217673599648
         ],
         "yaxis": "y"
        },
        {
         "hovertemplate": "name=Egypt<br>date=%{x}<br>dollar_price=%{y}<extra></extra>",
         "legendgroup": "Egypt",
         "line": {
          "color": "#ab63fa",
          "dash": "solid"
         },
         "marker": {
          "symbol": "circle"
         },
         "mode": "lines",
         "name": "Egypt",
         "showlegend": true,
         "type": "scattergl",
         "x": [
          "2003-04-01",
          "2004-05-01",
          "2005-06-01",
          "2006-01-01",
          "2006-05-01",
          "2007-01-01",
          "2007-06-01",
          "2008-06-01",
          "2009-07-01",
          "2010-01-01",
          "2010-07-01",
          "2011-07-01",
          "2012-01-01",
          "2012-07-01",
          "2013-01-01",
          "2013-07-01",
          "2014-01-01",
          "2014-07-01",
          "2015-01-01",
          "2015-07-01",
          "2016-01-01",
          "2016-07-01",
          "2017-01-01",
          "2017-07-01",
          "2018-01-01",
          "2018-07-01",
          "2019-01-01",
          "2019-07-09",
          "2020-01-14",
          "2020-07-01",
          "2021-01-01",
          "2021-07-01",
          "2022-01-01"
         ],
         "xaxis": "x",
         "y": [
          1.35135135135135,
          1.61550888529887,
          1.55172413793103,
          1.61149825783972,
          1.64623315860157,
          1.59473684210526,
          1.67655199683669,
          2.44705882352941,
          2.32776758135995,
          2.37877401646844,
          2.28110194771012,
          2.36330090573633,
          2.56750041411297,
          2.63743509437072,
          2.39314960924354,
          2.38973341988686,
          2.43212182157736,
          2.36781560968105,
          2.3033856912538,
          2.16218287239545,
          2.16218287239545,
          2.5901046740128,
          1.46457112413426,
          1.75398378529494,
          1.93276836158192,
          1.7520245741413,
          2.23338916806253,
          2.52783629250677,
          2.6448362720403,
          2.63322884012539,
          2.71739130434783,
          2.71218889597958,
          2.70528325907066
         ],
         "yaxis": "y"
        },
        {
         "hovertemplate": "name=Colombia<br>date=%{x}<br>dollar_price=%{y}<extra></extra>",
         "legendgroup": "Colombia",
         "line": {
          "color": "#FFA15A",
          "dash": "solid"
         },
         "marker": {
          "symbol": "circle"
         },
         "mode": "lines",
         "name": "Colombia",
         "showlegend": true,
         "type": "scattergl",
         "x": [
          "2004-05-01",
          "2005-06-01",
          "2006-05-01",
          "2007-01-01",
          "2007-06-01",
          "2008-06-01",
          "2009-07-01",
          "2010-01-01",
          "2010-07-01",
          "2011-07-01",
          "2012-01-01",
          "2012-07-01",
          "2013-01-01",
          "2013-07-01",
          "2014-01-01",
          "2014-07-01",
          "2015-01-01",
          "2015-07-01",
          "2016-01-01",
          "2016-07-01",
          "2017-01-01",
          "2017-07-01",
          "2018-01-01",
          "2018-07-01",
          "2019-01-01",
          "2019-07-09",
          "2020-01-14",
          "2020-07-01",
          "2021-01-01",
          "2021-07-01",
          "2022-01-01"
         ],
         "xaxis": "x",
         "y": [
          2.34671441929649,
          2.79245607251794,
          2.59626138360761,
          3.08128565527559,
          3.52760736196319,
          3.89180774469741,
          3.34033212445123,
          3.91296048864287,
          4.38866440097407,
          4.74442247952556,
          4.53526982155873,
          4.76592914836725,
          4.85005710096296,
          4.47683498178032,
          4.33731172410663,
          4.65456119936135,
          3.34040879838307,
          2.91631289453284,
          2.42785580380467,
          3.03857972004097,
          3.30592311224277,
          3.24360452925142,
          3.83246839092584,
          4.14046978674841,
          3.72865423781921,
          3.68763557483731,
          3.61963423443976,
          3.2900102570908,
          3.74223378124549,
          3.37054378974053,
          3.2851386163605
         ],
         "yaxis": "y"
        },
        {
         "hovertemplate": "name=Costa Rica<br>date=%{x}<br>dollar_price=%{y}<extra></extra>",
         "legendgroup": "Costa Rica",
         "line": {
          "color": "#19d3f3",
          "dash": "solid"
         },
         "marker": {
          "symbol": "circle"
         },
         "mode": "lines",
         "name": "Costa Rica",
         "showlegend": true,
         "type": "scattergl",
         "x": [
          "2004-05-01",
          "2005-06-01",
          "2006-05-01",
          "2007-01-01",
          "2007-06-01",
          "2008-06-01",
          "2009-07-01",
          "2010-01-01",
          "2010-07-01",
          "2011-07-01",
          "2012-01-01",
          "2013-01-01",
          "2013-07-01",
          "2014-01-01",
          "2014-07-01",
          "2015-01-01",
          "2015-07-01",
          "2016-01-01",
          "2016-07-01",
          "2017-01-01",
          "2017-07-01",
          "2018-01-01",
          "2018-07-01",
          "2019-01-01",
          "2019-07-09",
          "2020-01-14",
          "2020-07-01",
          "2021-01-01",
          "2021-07-01",
          "2022-01-01"
         ],
         "xaxis": "x",
         "y": [
          2.60638911313574,
          2.3774458236903,
          2.21770830266812,
          2.21770830266812,
          2.17883827428296,
          3.26666908642155,
          3.43306383782206,
          3.51889043376762,
          3.83057372417954,
          4.06500034701222,
          4.02323664481689,
          4.39270810454645,
          4.31142527698401,
          4.28355116353204,
          4.00148892611204,
          4.01052062153743,
          4.03150196887306,
          4.01681457262961,
          4.11793773678142,
          4.05895405264012,
          4.00003493480292,
          4.02793168346437,
          4.03311025008806,
          3.77280777626756,
          3.93514739618686,
          4.12306018790628,
          4.039015167791,
          3.82879580298809,
          3.83656554537508,
          4.12396803535719
         ],
         "yaxis": "y"
        },
        {
         "hovertemplate": "name=Sri Lanka<br>date=%{x}<br>dollar_price=%{y}<extra></extra>",
         "legendgroup": "Sri Lanka",
         "line": {
          "color": "#FF6692",
          "dash": "solid"
         },
         "marker": {
          "symbol": "circle"
         },
         "mode": "lines",
         "name": "Sri Lanka",
         "showlegend": true,
         "type": "scattergl",
         "x": [
          "2004-05-01",
          "2005-06-01",
          "2006-05-01",
          "2007-01-01",
          "2007-06-01",
          "2008-06-01",
          "2009-07-01",
          "2010-01-01",
          "2010-07-01",
          "2011-07-01",
          "2012-01-01",
          "2012-07-01",
          "2013-01-01",
          "2013-07-01",
          "2014-01-01",
          "2014-07-01",
          "2015-01-01",
          "2015-07-01",
          "2016-01-01",
          "2016-07-01",
          "2017-01-01",
          "2017-07-01",
          "2018-01-01",
          "2018-07-01",
          "2019-01-01",
          "2019-07-09",
          "2020-01-14",
          "2020-07-01",
          "2021-01-01",
          "2021-07-01",
          "2022-01-01"
         ],
         "xaxis": "x",
         "y": [
          1.41414141414141,
          1.75096302966632,
          1.84546646593172,
          1.84546646593172,
          1.8850987432675,
          1.95258019525802,
          1.82831272853909,
          1.82831272853909,
          1.86211483041454,
          2.55766156656771,
          2.54542262792943,
          2.21374045801527,
          2.76789244760775,
          2.82874617737003,
          2.67584097859327,
          2.6870369659514,
          2.65402843601896,
          2.61486738886814,
          2.42971190558834,
          3.62517099863201,
          3.66520058643209,
          3.77297121483168,
          3.77113133940182,
          3.64161486783449,
          3.18252901314165,
          3.64309093496513,
          3.19647285753651,
          3.65886467581383,
          3.7037037037037,
          3.50877192982456,
          4.14999258929895
         ],
         "yaxis": "y"
        },
        {
         "hovertemplate": "name=Pakistan<br>date=%{x}<br>dollar_price=%{y}<extra></extra>",
         "legendgroup": "Pakistan",
         "line": {
          "color": "#B6E880",
          "dash": "solid"
         },
         "marker": {
          "symbol": "circle"
         },
         "mode": "lines",
         "name": "Pakistan",
         "showlegend": true,
         "type": "scattergl",
         "x": [
          "2004-05-01",
          "2005-06-01",
          "2006-05-01",
          "2007-01-01",
          "2007-06-01",
          "2008-06-01",
          "2009-07-01",
          "2010-01-01",
          "2010-07-01",
          "2011-07-01",
          "2012-01-01",
          "2012-07-01",
          "2013-01-01",
          "2013-07-01",
          "2014-01-01",
          "2014-07-01",
          "2015-01-01",
          "2015-07-01",
          "2016-01-01",
          "2016-07-01",
          "2017-01-01",
          "2017-07-01",
          "2018-01-01",
          "2018-07-01",
          "2019-01-01",
          "2019-07-09",
          "2020-01-14",
          "2020-07-01",
          "2021-01-01",
          "2021-07-01",
          "2022-01-01"
         ],
         "xaxis": "x",
         "y": [
          1.90443213296399,
          2.18047635021805,
          2.16468237449005,
          2.33119640329698,
          2.31903263210204,
          1.97461212976023,
          2.30024213075061,
          2.42130750605327,
          2.45542239111371,
          2.37570212519544,
          2.88728484175458,
          3.01252576502299,
          2.96933394767829,
          2.99895036737142,
          3.03562111653939,
          3.04012971220105,
          2.97811088499528,
          3.44149459193707,
          2.86027553987701,
          3.57756153405839,
          3.57909806728704,
          3.56633380884451,
          3.39351160580969,
          3.08667380031278,
          3.31221198156682,
          3.0485868529692,
          3.35754640839387,
          3.3033033033033,
          3.42999688182102,
          3.60024829298572,
          3.34239746204396
         ],
         "yaxis": "y"
        },
        {
         "hovertemplate": "name=Saudi Arabia<br>date=%{x}<br>dollar_price=%{y}<extra></extra>",
         "legendgroup": "Saudi Arabia",
         "line": {
          "color": "#FF97FF",
          "dash": "solid"
         },
         "marker": {
          "symbol": "circle"
         },
         "mode": "lines",
         "name": "Saudi Arabia",
         "showlegend": true,
         "type": "scattergl",
         "x": [
          "2004-05-01",
          "2005-06-01",
          "2006-05-01",
          "2007-01-01",
          "2007-06-01",
          "2008-06-01",
          "2009-07-01",
          "2010-01-01",
          "2010-07-01",
          "2011-07-01",
          "2012-01-01",
          "2012-07-01",
          "2013-01-01",
          "2013-07-01",
          "2014-01-01",
          "2014-07-01",
          "2015-01-01",
          "2015-07-01",
          "2016-01-01",
          "2016-07-01",
          "2017-01-01",
          "2017-07-01",
          "2018-01-01",
          "2018-07-01",
          "2019-01-01",
          "2019-07-09",
          "2020-01-14",
          "2020-07-01",
          "2021-01-01",
          "2021-07-01",
          "2022-01-01"
         ],
         "xaxis": "x",
         "y": [
          0.639965868487014,
          2.39993600170662,
          2.40064017071219,
          2.40064017071219,
          2.39971203455585,
          2.66698670507128,
          2.9330204778157,
          2.66652445202923,
          2.66634670506206,
          2.66652445202923,
          2.66652445202923,
          2.66648890073995,
          2.93317689723215,
          2.66652445202923,
          2.9330204778157,
          2.93305958110576,
          2.92794591285368,
          3.19953073549213,
          3.19633486934981,
          3.19957339021464,
          3.19944542945889,
          3.1998720051198,
          3.19974402047836,
          3.19965870307167,
          3.19901896751663,
          3.46634314130681,
          3.46500346500347,
          3.7322882926114,
          3.73154219308065,
          3.73263657450609,
          3.99797435965777
         ],
         "yaxis": "y"
        },
        {
         "hovertemplate": "name=Ukraine<br>date=%{x}<br>dollar_price=%{y}<extra></extra>",
         "legendgroup": "Ukraine",
         "line": {
          "color": "#FECB52",
          "dash": "solid"
         },
         "marker": {
          "symbol": "circle"
         },
         "mode": "lines",
         "name": "Ukraine",
         "showlegend": true,
         "type": "scattergl",
         "x": [
          "2004-05-01",
          "2005-06-01",
          "2006-05-01",
          "2007-01-01",
          "2007-06-01",
          "2008-06-01",
          "2009-07-01",
          "2010-01-01",
          "2010-07-01",
          "2011-07-01",
          "2012-01-01",
          "2012-07-01",
          "2013-01-01",
          "2013-07-01",
          "2014-01-01",
          "2014-07-01",
          "2015-01-01",
          "2015-07-01",
          "2016-01-01",
          "2016-07-01",
          "2017-01-01",
          "2017-07-01",
          "2018-01-01",
          "2018-07-01",
          "2019-01-01",
          "2019-07-09",
          "2020-01-14",
          "2020-07-01",
          "2021-01-01",
          "2021-07-01",
          "2022-01-01"
         ],
         "xaxis": "x",
         "y": [
          1.35984244584076,
          1.43280632411067,
          1.68316831683168,
          1.78217821782178,
          1.83988065638986,
          2.39130434782609,
          1.82767624020888,
          1.82767624020888,
          1.83567540194961,
          2.06404803602702,
          2.11429637460357,
          1.85517284026962,
          2.33300589390963,
          2.3298589822195,
          2.26757369614512,
          1.6260162601626,
          1.20085956263431,
          1.54897494305239,
          1.54175588865096,
          1.57258064516129,
          1.54213328437672,
          1.69785838317577,
          1.6367752045969,
          1.90846978892324,
          1.94244604316547,
          2.22243883419437,
          2.3759899958316,
          2.17471433837081,
          2.20326936744847,
          2.38795003673769,
          2.43237812551776
         ],
         "yaxis": "y"
        },
        {
         "hovertemplate": "name=Uruguay<br>date=%{x}<br>dollar_price=%{y}<extra></extra>",
         "legendgroup": "Uruguay",
         "line": {
          "color": "#636efa",
          "dash": "solid"
         },
         "marker": {
          "symbol": "circle"
         },
         "mode": "lines",
         "name": "Uruguay",
         "showlegend": true,
         "type": "scattergl",
         "x": [
          "2004-05-01",
          "2005-06-01",
          "2006-05-01",
          "2007-01-01",
          "2007-06-01",
          "2008-06-01",
          "2009-07-01",
          "2010-01-01",
          "2010-07-01",
          "2011-07-01",
          "2012-01-01",
          "2012-07-01",
          "2013-01-01",
          "2013-07-01",
          "2014-01-01",
          "2014-07-01",
          "2015-01-01",
          "2015-07-01",
          "2016-01-01",
          "2016-07-01",
          "2017-01-01",
          "2017-07-01",
          "2018-01-01",
          "2018-07-01",
          "2019-01-01",
          "2019-07-09",
          "2020-01-14",
          "2020-07-01",
          "2021-01-01",
          "2021-07-01",
          "2022-01-01"
         ],
         "xaxis": "x",
         "y": [
          1.00218597612241,
          1.82383419689119,
          1.76718913270637,
          2.29885057471264,
          2.5892670703696,
          3.18537859007833,
          2.63271471730686,
          3.32326283987915,
          3.74407582938389,
          4.87804878048781,
          4.62724935732648,
          4.52674897119342,
          5.44605809128631,
          4.97984349063315,
          4.911131898971,
          4.91946016543317,
          4.62640736949846,
          4.13238251965624,
          3.74358124896472,
          4.07757334659373,
          4.35161009573542,
          4.52882773036057,
          4.89853044086774,
          4.47141488342383,
          4.30636727160874,
          4.66313140647436,
          4.78162147722719,
          4.32741843159702,
          4.80056477232616,
          5.11363636363636,
          5.4274392251706
         ],
         "yaxis": "y"
        },
        {
         "hovertemplate": "name=UAE<br>date=%{x}<br>dollar_price=%{y}<extra></extra>",
         "legendgroup": "UAE",
         "line": {
          "color": "#EF553B",
          "dash": "solid"
         },
         "marker": {
          "symbol": "circle"
         },
         "mode": "lines",
         "name": "UAE",
         "showlegend": true,
         "type": "scattergl",
         "x": [
          "2005-06-01",
          "2006-05-01",
          "2007-01-01",
          "2007-06-01",
          "2008-06-01",
          "2009-07-01",
          "2010-01-01",
          "2010-07-01",
          "2011-07-01",
          "2012-01-01",
          "2012-07-01",
          "2013-01-01",
          "2013-07-01",
          "2014-01-01",
          "2014-07-01",
          "2015-01-01",
          "2015-07-01",
          "2016-01-01",
          "2016-07-01",
          "2017-01-01",
          "2017-07-01",
          "2018-01-01"
         ],
         "xaxis": "x",
         "y": [
          2.45064669843431,
          2.45057997059304,
          2.72286663399227,
          2.72268129654083,
          2.72268129654083,
          2.72257010618023,
          2.99482711679826,
          2.99494942619492,
          3.2670396536938,
          3.26708412741628,
          3.26712860234961,
          3.2670396536938,
          3.26708412741628,
          3.26708412741628,
          3.53929295816828,
          3.53929295816828,
          3.53938931921208,
          3.53924477961395,
          3.53924477961395,
          3.5393411380343,
          3.81159814865233,
          3.81159814865233
         ],
         "yaxis": "y"
        },
        {
         "hovertemplate": "name=India<br>date=%{x}<br>dollar_price=%{y}<extra></extra>",
         "legendgroup": "India",
         "line": {
          "color": "#00cc96",
          "dash": "solid"
         },
         "marker": {
          "symbol": "circle"
         },
         "mode": "lines",
         "name": "India",
         "showlegend": true,
         "type": "scattergl",
         "x": [
          "2011-07-01",
          "2012-01-01",
          "2012-07-01",
          "2013-01-01",
          "2013-07-01",
          "2014-01-01",
          "2014-07-01",
          "2015-01-01",
          "2015-07-01",
          "2016-01-01",
          "2016-07-01",
          "2017-01-01",
          "2017-07-01",
          "2018-01-01",
          "2018-07-01",
          "2019-01-01",
          "2019-07-09",
          "2020-01-14",
          "2020-07-01",
          "2021-01-01",
          "2021-07-01",
          "2022-01-01"
         ],
         "xaxis": "x",
         "y": [
          1.89189189189189,
          1.61834120026972,
          1.58461675420636,
          1.66682273621126,
          1.50050016672224,
          1.53609831029186,
          1.74741528156269,
          1.88671589710298,
          1.83272899259026,
          1.90112645484825,
          2.41071428571429,
          2.48801726976693,
          2.75723192502808,
          2.81861065982893,
          2.51362150381402,
          2.55435172562244,
          2.66941290420454,
          2.65243943302696,
          2.52667974334253,
          2.58890857064995,
          2.54640487837566,
          2.54614894971356
         ],
         "yaxis": "y"
        },
        {
         "hovertemplate": "name=Vietnam<br>date=%{x}<br>dollar_price=%{y}<extra></extra>",
         "legendgroup": "Vietnam",
         "line": {
          "color": "#ab63fa",
          "dash": "solid"
         },
         "marker": {
          "symbol": "circle"
         },
         "mode": "lines",
         "name": "Vietnam",
         "showlegend": true,
         "type": "scattergl",
         "x": [
          "2014-07-01",
          "2015-01-01",
          "2015-07-01",
          "2016-01-01",
          "2016-07-01",
          "2017-01-01",
          "2017-07-01",
          "2018-01-01",
          "2018-07-01",
          "2019-01-01",
          "2019-07-09",
          "2020-01-14",
          "2020-07-01",
          "2021-01-01",
          "2021-07-01",
          "2022-01-01"
         ],
         "xaxis": "x",
         "y": [
          2.82618935468676,
          2.80636108512629,
          2.75103163686382,
          2.67052409035273,
          2.69058295964126,
          2.6581605528974,
          2.63939293962389,
          2.86198621843559,
          2.82124178042058,
          2.80184490710807,
          2.79798545047566,
          2.84777355885399,
          2.84728213977567,
          2.86160249739854,
          2.99628720932757,
          3.04635761589404
         ],
         "yaxis": "y"
        },
        {
         "hovertemplate": "name=United Arab Emirates<br>date=%{x}<br>dollar_price=%{y}<extra></extra>",
         "legendgroup": "United Arab Emirates",
         "line": {
          "color": "#FFA15A",
          "dash": "solid"
         },
         "marker": {
          "symbol": "circle"
         },
         "mode": "lines",
         "name": "United Arab Emirates",
         "showlegend": true,
         "type": "scattergl",
         "x": [
          "2018-07-01",
          "2019-01-01",
          "2019-07-09",
          "2020-01-14",
          "2020-07-01",
          "2021-01-01",
          "2021-07-01",
          "2022-01-01"
         ],
         "xaxis": "x",
         "y": [
          3.81144249486136,
          3.81144249486136,
          4.01562691422893,
          4.01562691422893,
          4.0158455737214,
          4.01562691422893,
          4.01562691422893,
          4.62830617606621
         ],
         "yaxis": "y"
        },
        {
         "hovertemplate": "name=Azerbaijan<br>date=%{x}<br>dollar_price=%{y}<extra></extra>",
         "legendgroup": "Azerbaijan",
         "line": {
          "color": "#19d3f3",
          "dash": "solid"
         },
         "marker": {
          "symbol": "circle"
         },
         "mode": "lines",
         "name": "Azerbaijan",
         "showlegend": true,
         "type": "scattergl",
         "x": [
          "2018-07-01",
          "2019-01-01",
          "2019-07-09",
          "2020-01-14",
          "2020-07-01",
          "2021-01-01",
          "2021-07-01",
          "2022-01-01"
         ],
         "xaxis": "x",
         "y": [
          2.32114000293815,
          2.32832301797819,
          2.32832301797819,
          2.32832301797819,
          2.32489699823426,
          2.32489699823426,
          2.32489699823426,
          2.64861683343143
         ],
         "yaxis": "y"
        },
        {
         "hovertemplate": "name=Bahrain<br>date=%{x}<br>dollar_price=%{y}<extra></extra>",
         "legendgroup": "Bahrain",
         "line": {
          "color": "#FF6692",
          "dash": "solid"
         },
         "marker": {
          "symbol": "circle"
         },
         "mode": "lines",
         "name": "Bahrain",
         "showlegend": true,
         "type": "scattergl",
         "x": [
          "2018-07-01",
          "2019-01-01",
          "2019-07-09",
          "2020-01-14",
          "2020-07-01",
          "2021-01-01",
          "2021-07-01",
          "2022-01-01"
         ],
         "xaxis": "x",
         "y": [
          3.16163878276907,
          3.18302387267905,
          3.71352785145889,
          3.71352785145889,
          3.71303540644477,
          3.97877984084881,
          3.97877984084881,
          3.97877984084881
         ],
         "yaxis": "y"
        },
        {
         "hovertemplate": "name=Guatemala<br>date=%{x}<br>dollar_price=%{y}<extra></extra>",
         "legendgroup": "Guatemala",
         "line": {
          "color": "#B6E880",
          "dash": "solid"
         },
         "marker": {
          "symbol": "circle"
         },
         "mode": "lines",
         "name": "Guatemala",
         "showlegend": true,
         "type": "scattergl",
         "x": [
          "2018-07-01",
          "2019-01-01",
          "2019-07-09",
          "2020-01-14",
          "2020-07-01",
          "2021-01-01",
          "2021-07-01",
          "2022-01-01"
         ],
         "xaxis": "x",
         "y": [
          3.33907654499072,
          3.23486407101174,
          3.25512356449051,
          3.2440989839482,
          3.24970752632263,
          3.2047584253099,
          3.35709120958579,
          3.38110223933002
         ],
         "yaxis": "y"
        },
        {
         "hovertemplate": "name=Honduras<br>date=%{x}<br>dollar_price=%{y}<extra></extra>",
         "legendgroup": "Honduras",
         "line": {
          "color": "#FF97FF",
          "dash": "solid"
         },
         "marker": {
          "symbol": "circle"
         },
         "mode": "lines",
         "name": "Honduras",
         "showlegend": true,
         "type": "scattergl",
         "x": [
          "2018-07-01",
          "2019-01-01",
          "2019-07-09",
          "2020-01-14",
          "2020-07-01",
          "2021-01-01",
          "2021-07-01",
          "2022-01-01"
         ],
         "xaxis": "x",
         "y": [
          3.54275901736369,
          3.49232305220818,
          3.51258403653087,
          3.52872462968671,
          3.52359390377754,
          3.60950918972742,
          3.66408355795148,
          3.61580635528751
         ],
         "yaxis": "y"
        },
        {
         "hovertemplate": "name=Croatia<br>date=%{x}<br>dollar_price=%{y}<extra></extra>",
         "legendgroup": "Croatia",
         "line": {
          "color": "#FECB52",
          "dash": "solid"
         },
         "marker": {
          "symbol": "circle"
         },
         "mode": "lines",
         "name": "Croatia",
         "showlegend": true,
         "type": "scattergl",
         "x": [
          "2018-07-01",
          "2019-01-01",
          "2019-07-09",
          "2020-01-14",
          "2020-07-01",
          "2021-01-01",
          "2021-07-01",
          "2022-01-01"
         ],
         "xaxis": "x",
         "y": [
          3.32660092669597,
          3.24131597428556,
          3.3342932056198,
          3.28529829015157,
          3.31965234186383,
          3.68663594470046,
          3.75114292636038,
          3.52494415487714
         ],
         "yaxis": "y"
        },
        {
         "hovertemplate": "name=Jordan<br>date=%{x}<br>dollar_price=%{y}<extra></extra>",
         "legendgroup": "Jordan",
         "line": {
          "color": "#636efa",
          "dash": "solid"
         },
         "marker": {
          "symbol": "circle"
         },
         "mode": "lines",
         "name": "Jordan",
         "showlegend": true,
         "type": "scattergl",
         "x": [
          "2018-07-01",
          "2019-01-01",
          "2019-07-09",
          "2020-01-14",
          "2020-07-01",
          "2021-01-01",
          "2021-07-01",
          "2022-01-01"
         ],
         "xaxis": "x",
         "y": [
          2.74628547285402,
          2.74802705749718,
          3.24400564174894,
          3.24400564174894,
          3.24400564174894,
          3.24400564174894,
          3.00423131170663,
          2.9901269393512
         ],
         "yaxis": "y"
        },
        {
         "hovertemplate": "name=Kuwait<br>date=%{x}<br>dollar_price=%{y}<extra></extra>",
         "legendgroup": "Kuwait",
         "line": {
          "color": "#EF553B",
          "dash": "solid"
         },
         "marker": {
          "symbol": "circle"
         },
         "mode": "lines",
         "name": "Kuwait",
         "showlegend": true,
         "type": "scattergl",
         "x": [
          "2018-07-01",
          "2019-01-01",
          "2019-07-09",
          "2020-01-14",
          "2020-07-01",
          "2021-01-01",
          "2021-07-01",
          "2022-01-01"
         ],
         "xaxis": "x",
         "y": [
          3.47107438016529,
          3.46420323325635,
          3.61247947454844,
          3.6255767963085,
          3.73619233268356,
          3.78663154428713,
          4.15558510638298,
          4.12677451304061
         ],
         "yaxis": "y"
        },
        {
         "hovertemplate": "name=Lebanon<br>date=%{x}<br>dollar_price=%{y}<extra></extra>",
         "legendgroup": "Lebanon",
         "line": {
          "color": "#00cc96",
          "dash": "solid"
         },
         "marker": {
          "symbol": "circle"
         },
         "mode": "lines",
         "name": "Lebanon",
         "showlegend": true,
         "type": "scattergl",
         "x": [
          "2018-07-01",
          "2019-01-01",
          "2019-07-09",
          "2020-01-14",
          "2020-07-01",
          "2021-01-01",
          "2021-07-01",
          "2022-01-01"
         ],
         "xaxis": "x",
         "y": [
          4.3017868960953,
          4.31320504313205,
          4.31320504313205,
          4.29326287978864,
          5.95238095238095,
          1.77142857142857,
          1.68181818181818,
          3.25581395348837
         ],
         "yaxis": "y"
        },
        {
         "hovertemplate": "name=Moldova<br>date=%{x}<br>dollar_price=%{y}<extra></extra>",
         "legendgroup": "Moldova",
         "line": {
          "color": "#ab63fa",
          "dash": "solid"
         },
         "marker": {
          "symbol": "circle"
         },
         "mode": "lines",
         "name": "Moldova",
         "showlegend": true,
         "type": "scattergl",
         "x": [
          "2018-07-01",
          "2019-01-01",
          "2019-07-09",
          "2020-01-14",
          "2020-07-01",
          "2021-01-01",
          "2021-07-01",
          "2022-01-01"
         ],
         "xaxis": "x",
         "y": [
          2.58217935937932,
          2.31709436366796,
          2.41380471758485,
          2.58323765786452,
          2.75256222547584,
          2.90275761973875,
          2.89210233592881,
          2.88888888888889
         ],
         "yaxis": "y"
        },
        {
         "hovertemplate": "name=Nicaragua<br>date=%{x}<br>dollar_price=%{y}<extra></extra>",
         "legendgroup": "Nicaragua",
         "line": {
          "color": "#FFA15A",
          "dash": "solid"
         },
         "marker": {
          "symbol": "circle"
         },
         "mode": "lines",
         "name": "Nicaragua",
         "showlegend": true,
         "type": "scattergl",
         "x": [
          "2018-07-01",
          "2019-01-01",
          "2019-07-09",
          "2020-01-14",
          "2020-07-01",
          "2021-01-01",
          "2021-07-01",
          "2022-01-01"
         ],
         "xaxis": "x",
         "y": [
          3.26081450714213,
          3.18287305280788,
          3.31703963259263,
          3.54229948370985,
          3.49088878028346,
          3.55858609338993,
          3.63571292637965,
          3.77943872514455
         ],
         "yaxis": "y"
        },
        {
         "hovertemplate": "name=Oman<br>date=%{x}<br>dollar_price=%{y}<extra></extra>",
         "legendgroup": "Oman",
         "line": {
          "color": "#19d3f3",
          "dash": "solid"
         },
         "marker": {
          "symbol": "circle"
         },
         "mode": "lines",
         "name": "Oman",
         "showlegend": true,
         "type": "scattergl",
         "x": [
          "2018-07-01",
          "2019-01-01",
          "2019-07-09",
          "2020-01-14",
          "2020-07-01",
          "2021-01-01",
          "2021-07-01",
          "2022-01-01"
         ],
         "xaxis": "x",
         "y": [
          2.72727272727273,
          2.72798129384256,
          3.14285714285714,
          2.99961044020257,
          2.85714285714286,
          2.85714285714286,
          2.98662511362161,
          2.98701298701299
         ],
         "yaxis": "y"
        },
        {
         "hovertemplate": "name=Qatar<br>date=%{x}<br>dollar_price=%{y}<extra></extra>",
         "legendgroup": "Qatar",
         "line": {
          "color": "#FF6692",
          "dash": "solid"
         },
         "marker": {
          "symbol": "circle"
         },
         "mode": "lines",
         "name": "Qatar",
         "showlegend": true,
         "type": "scattergl",
         "x": [
          "2018-07-01",
          "2019-01-01",
          "2019-07-09",
          "2020-01-14",
          "2020-07-01",
          "2021-01-01",
          "2021-07-01",
          "2022-01-01"
         ],
         "xaxis": "x",
         "y": [
          3.29579785773139,
          3.29557157569516,
          3.56971236356147,
          3.57044767920901,
          3.57044767920901,
          3.57044767920901,
          3.57044767920901,
          3.57044767920901
         ],
         "yaxis": "y"
        },
        {
         "hovertemplate": "name=Romania<br>date=%{x}<br>dollar_price=%{y}<extra></extra>",
         "legendgroup": "Romania",
         "line": {
          "color": "#B6E880",
          "dash": "solid"
         },
         "marker": {
          "symbol": "circle"
         },
         "mode": "lines",
         "name": "Romania",
         "showlegend": true,
         "type": "scattergl",
         "x": [
          "2018-07-01",
          "2019-01-01",
          "2019-07-09",
          "2020-01-14",
          "2020-07-01",
          "2021-01-01",
          "2021-07-01",
          "2022-01-01"
         ],
         "xaxis": "x",
         "y": [
          2.31548480463097,
          2.28672592483311,
          2.20420932878271,
          2.21022753710856,
          2.32391638595791,
          2.46950535059493,
          2.53122238937842,
          2.40259298714839
         ],
         "yaxis": "y"
        }
       ],
       "layout": {
        "legend": {
         "title": {
          "text": "name"
         },
         "tracegroupgap": 0
        },
        "margin": {
         "t": 60
        },
        "template": {
         "data": {
          "bar": [
           {
            "error_x": {
             "color": "#2a3f5f"
            },
            "error_y": {
             "color": "#2a3f5f"
            },
            "marker": {
             "line": {
              "color": "#E5ECF6",
              "width": 0.5
             },
             "pattern": {
              "fillmode": "overlay",
              "size": 10,
              "solidity": 0.2
             }
            },
            "type": "bar"
           }
          ],
          "barpolar": [
           {
            "marker": {
             "line": {
              "color": "#E5ECF6",
              "width": 0.5
             },
             "pattern": {
              "fillmode": "overlay",
              "size": 10,
              "solidity": 0.2
             }
            },
            "type": "barpolar"
           }
          ],
          "carpet": [
           {
            "aaxis": {
             "endlinecolor": "#2a3f5f",
             "gridcolor": "white",
             "linecolor": "white",
             "minorgridcolor": "white",
             "startlinecolor": "#2a3f5f"
            },
            "baxis": {
             "endlinecolor": "#2a3f5f",
             "gridcolor": "white",
             "linecolor": "white",
             "minorgridcolor": "white",
             "startlinecolor": "#2a3f5f"
            },
            "type": "carpet"
           }
          ],
          "choropleth": [
           {
            "colorbar": {
             "outlinewidth": 0,
             "ticks": ""
            },
            "type": "choropleth"
           }
          ],
          "contour": [
           {
            "colorbar": {
             "outlinewidth": 0,
             "ticks": ""
            },
            "colorscale": [
             [
              0,
              "#0d0887"
             ],
             [
              0.1111111111111111,
              "#46039f"
             ],
             [
              0.2222222222222222,
              "#7201a8"
             ],
             [
              0.3333333333333333,
              "#9c179e"
             ],
             [
              0.4444444444444444,
              "#bd3786"
             ],
             [
              0.5555555555555556,
              "#d8576b"
             ],
             [
              0.6666666666666666,
              "#ed7953"
             ],
             [
              0.7777777777777778,
              "#fb9f3a"
             ],
             [
              0.8888888888888888,
              "#fdca26"
             ],
             [
              1,
              "#f0f921"
             ]
            ],
            "type": "contour"
           }
          ],
          "contourcarpet": [
           {
            "colorbar": {
             "outlinewidth": 0,
             "ticks": ""
            },
            "type": "contourcarpet"
           }
          ],
          "heatmap": [
           {
            "colorbar": {
             "outlinewidth": 0,
             "ticks": ""
            },
            "colorscale": [
             [
              0,
              "#0d0887"
             ],
             [
              0.1111111111111111,
              "#46039f"
             ],
             [
              0.2222222222222222,
              "#7201a8"
             ],
             [
              0.3333333333333333,
              "#9c179e"
             ],
             [
              0.4444444444444444,
              "#bd3786"
             ],
             [
              0.5555555555555556,
              "#d8576b"
             ],
             [
              0.6666666666666666,
              "#ed7953"
             ],
             [
              0.7777777777777778,
              "#fb9f3a"
             ],
             [
              0.8888888888888888,
              "#fdca26"
             ],
             [
              1,
              "#f0f921"
             ]
            ],
            "type": "heatmap"
           }
          ],
          "heatmapgl": [
           {
            "colorbar": {
             "outlinewidth": 0,
             "ticks": ""
            },
            "colorscale": [
             [
              0,
              "#0d0887"
             ],
             [
              0.1111111111111111,
              "#46039f"
             ],
             [
              0.2222222222222222,
              "#7201a8"
             ],
             [
              0.3333333333333333,
              "#9c179e"
             ],
             [
              0.4444444444444444,
              "#bd3786"
             ],
             [
              0.5555555555555556,
              "#d8576b"
             ],
             [
              0.6666666666666666,
              "#ed7953"
             ],
             [
              0.7777777777777778,
              "#fb9f3a"
             ],
             [
              0.8888888888888888,
              "#fdca26"
             ],
             [
              1,
              "#f0f921"
             ]
            ],
            "type": "heatmapgl"
           }
          ],
          "histogram": [
           {
            "marker": {
             "pattern": {
              "fillmode": "overlay",
              "size": 10,
              "solidity": 0.2
             }
            },
            "type": "histogram"
           }
          ],
          "histogram2d": [
           {
            "colorbar": {
             "outlinewidth": 0,
             "ticks": ""
            },
            "colorscale": [
             [
              0,
              "#0d0887"
             ],
             [
              0.1111111111111111,
              "#46039f"
             ],
             [
              0.2222222222222222,
              "#7201a8"
             ],
             [
              0.3333333333333333,
              "#9c179e"
             ],
             [
              0.4444444444444444,
              "#bd3786"
             ],
             [
              0.5555555555555556,
              "#d8576b"
             ],
             [
              0.6666666666666666,
              "#ed7953"
             ],
             [
              0.7777777777777778,
              "#fb9f3a"
             ],
             [
              0.8888888888888888,
              "#fdca26"
             ],
             [
              1,
              "#f0f921"
             ]
            ],
            "type": "histogram2d"
           }
          ],
          "histogram2dcontour": [
           {
            "colorbar": {
             "outlinewidth": 0,
             "ticks": ""
            },
            "colorscale": [
             [
              0,
              "#0d0887"
             ],
             [
              0.1111111111111111,
              "#46039f"
             ],
             [
              0.2222222222222222,
              "#7201a8"
             ],
             [
              0.3333333333333333,
              "#9c179e"
             ],
             [
              0.4444444444444444,
              "#bd3786"
             ],
             [
              0.5555555555555556,
              "#d8576b"
             ],
             [
              0.6666666666666666,
              "#ed7953"
             ],
             [
              0.7777777777777778,
              "#fb9f3a"
             ],
             [
              0.8888888888888888,
              "#fdca26"
             ],
             [
              1,
              "#f0f921"
             ]
            ],
            "type": "histogram2dcontour"
           }
          ],
          "mesh3d": [
           {
            "colorbar": {
             "outlinewidth": 0,
             "ticks": ""
            },
            "type": "mesh3d"
           }
          ],
          "parcoords": [
           {
            "line": {
             "colorbar": {
              "outlinewidth": 0,
              "ticks": ""
             }
            },
            "type": "parcoords"
           }
          ],
          "pie": [
           {
            "automargin": true,
            "type": "pie"
           }
          ],
          "scatter": [
           {
            "marker": {
             "colorbar": {
              "outlinewidth": 0,
              "ticks": ""
             }
            },
            "type": "scatter"
           }
          ],
          "scatter3d": [
           {
            "line": {
             "colorbar": {
              "outlinewidth": 0,
              "ticks": ""
             }
            },
            "marker": {
             "colorbar": {
              "outlinewidth": 0,
              "ticks": ""
             }
            },
            "type": "scatter3d"
           }
          ],
          "scattercarpet": [
           {
            "marker": {
             "colorbar": {
              "outlinewidth": 0,
              "ticks": ""
             }
            },
            "type": "scattercarpet"
           }
          ],
          "scattergeo": [
           {
            "marker": {
             "colorbar": {
              "outlinewidth": 0,
              "ticks": ""
             }
            },
            "type": "scattergeo"
           }
          ],
          "scattergl": [
           {
            "marker": {
             "colorbar": {
              "outlinewidth": 0,
              "ticks": ""
             }
            },
            "type": "scattergl"
           }
          ],
          "scattermapbox": [
           {
            "marker": {
             "colorbar": {
              "outlinewidth": 0,
              "ticks": ""
             }
            },
            "type": "scattermapbox"
           }
          ],
          "scatterpolar": [
           {
            "marker": {
             "colorbar": {
              "outlinewidth": 0,
              "ticks": ""
             }
            },
            "type": "scatterpolar"
           }
          ],
          "scatterpolargl": [
           {
            "marker": {
             "colorbar": {
              "outlinewidth": 0,
              "ticks": ""
             }
            },
            "type": "scatterpolargl"
           }
          ],
          "scatterternary": [
           {
            "marker": {
             "colorbar": {
              "outlinewidth": 0,
              "ticks": ""
             }
            },
            "type": "scatterternary"
           }
          ],
          "surface": [
           {
            "colorbar": {
             "outlinewidth": 0,
             "ticks": ""
            },
            "colorscale": [
             [
              0,
              "#0d0887"
             ],
             [
              0.1111111111111111,
              "#46039f"
             ],
             [
              0.2222222222222222,
              "#7201a8"
             ],
             [
              0.3333333333333333,
              "#9c179e"
             ],
             [
              0.4444444444444444,
              "#bd3786"
             ],
             [
              0.5555555555555556,
              "#d8576b"
             ],
             [
              0.6666666666666666,
              "#ed7953"
             ],
             [
              0.7777777777777778,
              "#fb9f3a"
             ],
             [
              0.8888888888888888,
              "#fdca26"
             ],
             [
              1,
              "#f0f921"
             ]
            ],
            "type": "surface"
           }
          ],
          "table": [
           {
            "cells": {
             "fill": {
              "color": "#EBF0F8"
             },
             "line": {
              "color": "white"
             }
            },
            "header": {
             "fill": {
              "color": "#C8D4E3"
             },
             "line": {
              "color": "white"
             }
            },
            "type": "table"
           }
          ]
         },
         "layout": {
          "annotationdefaults": {
           "arrowcolor": "#2a3f5f",
           "arrowhead": 0,
           "arrowwidth": 1
          },
          "autotypenumbers": "strict",
          "coloraxis": {
           "colorbar": {
            "outlinewidth": 0,
            "ticks": ""
           }
          },
          "colorscale": {
           "diverging": [
            [
             0,
             "#8e0152"
            ],
            [
             0.1,
             "#c51b7d"
            ],
            [
             0.2,
             "#de77ae"
            ],
            [
             0.3,
             "#f1b6da"
            ],
            [
             0.4,
             "#fde0ef"
            ],
            [
             0.5,
             "#f7f7f7"
            ],
            [
             0.6,
             "#e6f5d0"
            ],
            [
             0.7,
             "#b8e186"
            ],
            [
             0.8,
             "#7fbc41"
            ],
            [
             0.9,
             "#4d9221"
            ],
            [
             1,
             "#276419"
            ]
           ],
           "sequential": [
            [
             0,
             "#0d0887"
            ],
            [
             0.1111111111111111,
             "#46039f"
            ],
            [
             0.2222222222222222,
             "#7201a8"
            ],
            [
             0.3333333333333333,
             "#9c179e"
            ],
            [
             0.4444444444444444,
             "#bd3786"
            ],
            [
             0.5555555555555556,
             "#d8576b"
            ],
            [
             0.6666666666666666,
             "#ed7953"
            ],
            [
             0.7777777777777778,
             "#fb9f3a"
            ],
            [
             0.8888888888888888,
             "#fdca26"
            ],
            [
             1,
             "#f0f921"
            ]
           ],
           "sequentialminus": [
            [
             0,
             "#0d0887"
            ],
            [
             0.1111111111111111,
             "#46039f"
            ],
            [
             0.2222222222222222,
             "#7201a8"
            ],
            [
             0.3333333333333333,
             "#9c179e"
            ],
            [
             0.4444444444444444,
             "#bd3786"
            ],
            [
             0.5555555555555556,
             "#d8576b"
            ],
            [
             0.6666666666666666,
             "#ed7953"
            ],
            [
             0.7777777777777778,
             "#fb9f3a"
            ],
            [
             0.8888888888888888,
             "#fdca26"
            ],
            [
             1,
             "#f0f921"
            ]
           ]
          },
          "colorway": [
           "#636efa",
           "#EF553B",
           "#00cc96",
           "#ab63fa",
           "#FFA15A",
           "#19d3f3",
           "#FF6692",
           "#B6E880",
           "#FF97FF",
           "#FECB52"
          ],
          "font": {
           "color": "#2a3f5f"
          },
          "geo": {
           "bgcolor": "white",
           "lakecolor": "white",
           "landcolor": "#E5ECF6",
           "showlakes": true,
           "showland": true,
           "subunitcolor": "white"
          },
          "hoverlabel": {
           "align": "left"
          },
          "hovermode": "closest",
          "mapbox": {
           "style": "light"
          },
          "paper_bgcolor": "white",
          "plot_bgcolor": "#E5ECF6",
          "polar": {
           "angularaxis": {
            "gridcolor": "white",
            "linecolor": "white",
            "ticks": ""
           },
           "bgcolor": "#E5ECF6",
           "radialaxis": {
            "gridcolor": "white",
            "linecolor": "white",
            "ticks": ""
           }
          },
          "scene": {
           "xaxis": {
            "backgroundcolor": "#E5ECF6",
            "gridcolor": "white",
            "gridwidth": 2,
            "linecolor": "white",
            "showbackground": true,
            "ticks": "",
            "zerolinecolor": "white"
           },
           "yaxis": {
            "backgroundcolor": "#E5ECF6",
            "gridcolor": "white",
            "gridwidth": 2,
            "linecolor": "white",
            "showbackground": true,
            "ticks": "",
            "zerolinecolor": "white"
           },
           "zaxis": {
            "backgroundcolor": "#E5ECF6",
            "gridcolor": "white",
            "gridwidth": 2,
            "linecolor": "white",
            "showbackground": true,
            "ticks": "",
            "zerolinecolor": "white"
           }
          },
          "shapedefaults": {
           "line": {
            "color": "#2a3f5f"
           }
          },
          "ternary": {
           "aaxis": {
            "gridcolor": "white",
            "linecolor": "white",
            "ticks": ""
           },
           "baxis": {
            "gridcolor": "white",
            "linecolor": "white",
            "ticks": ""
           },
           "bgcolor": "#E5ECF6",
           "caxis": {
            "gridcolor": "white",
            "linecolor": "white",
            "ticks": ""
           }
          },
          "title": {
           "x": 0.05
          },
          "xaxis": {
           "automargin": true,
           "gridcolor": "white",
           "linecolor": "white",
           "ticks": "",
           "title": {
            "standoff": 15
           },
           "zerolinecolor": "white",
           "zerolinewidth": 2
          },
          "yaxis": {
           "automargin": true,
           "gridcolor": "white",
           "linecolor": "white",
           "ticks": "",
           "title": {
            "standoff": 15
           },
           "zerolinecolor": "white",
           "zerolinewidth": 2
          }
         }
        },
        "title": {
         "text": "Bigmac price by country"
        },
        "xaxis": {
         "anchor": "y",
         "domain": [
          0,
          1
         ],
         "title": {
          "text": "date"
         }
        },
        "yaxis": {
         "anchor": "x",
         "domain": [
          0,
          1
         ],
         "title": {
          "text": "Bigmac price USD"
         }
        }
       }
      }
     },
     "metadata": {},
     "output_type": "display_data"
    }
   ],
   "source": [
    "fig = px.line(data,x='date',y='dollar_price', color='name')\n",
    "fig.layout.title = \"Bigmac price by country\"\n",
    "fig.layout.xaxis.title = \"date\"\n",
    "fig.layout.yaxis.title = \"Bigmac price USD\"\n",
    "fig.show()"
   ]
  },
  {
   "cell_type": "markdown",
   "metadata": {},
   "source": []
  },
  {
   "cell_type": "code",
   "execution_count": 151,
   "metadata": {},
   "outputs": [
    {
     "data": {
      "application/vnd.plotly.v1+json": {
       "config": {
        "plotlyServerURL": "https://plot.ly"
       },
       "data": [
        {
         "hovertemplate": "name=Australia<br>date=%{x}<br>dollar_price=%{y}<extra></extra>",
         "legendgroup": "Australia",
         "line": {
          "color": "#636efa",
          "dash": "solid"
         },
         "marker": {
          "symbol": "circle"
         },
         "mode": "lines",
         "name": "Australia",
         "orientation": "v",
         "showlegend": true,
         "type": "scatter",
         "x": [
          "2000-04-01",
          "2001-04-01",
          "2002-04-01",
          "2003-04-01",
          "2004-05-01",
          "2005-06-01",
          "2006-01-01",
          "2006-05-01",
          "2007-01-01",
          "2007-06-01",
          "2008-06-01",
          "2009-07-01",
          "2010-01-01",
          "2010-07-01",
          "2011-07-01",
          "2012-01-01",
          "2012-07-01",
          "2013-01-01",
          "2013-07-01",
          "2014-01-01",
          "2014-07-01",
          "2015-01-01",
          "2015-07-01",
          "2016-01-01",
          "2016-07-01",
          "2017-01-01",
          "2017-07-01",
          "2018-01-01",
          "2018-07-01",
          "2019-01-01",
          "2019-07-09",
          "2020-01-14",
          "2020-07-01",
          "2021-01-01",
          "2021-07-01",
          "2022-01-01"
         ],
         "xaxis": "x",
         "y": [
          1.54166666666667,
          1.51515151515152,
          1.61290322580645,
          1.86335403726708,
          2.27272727272727,
          2.49711870918171,
          2.44214006612564,
          2.43896947911116,
          2.72325780568569,
          2.94871794871795,
          3.36257309941521,
          3.37244541145388,
          3.97787023912944,
          3.83691750028815,
          4.94372400141217,
          4.93656000004245,
          4.68015599908292,
          4.90045499838408,
          4.61986425117506,
          4.47354249877067,
          4.81414500013119,
          4.31870499892076,
          3.92226499999019,
          3.74365500098421,
          4.30473750039754,
          4.27518000105469,
          4.52795500055083,
          4.70613499966375,
          4.51541749999998,
          4.35204500000001,
          4.260105,
          4.45114500000001,
          4.57845000000001,
          4.98474,
          4.79296249999999,
          4.50912000000001
         ],
         "yaxis": "y"
        },
        {
         "hovertemplate": "name=United States<br>date=%{x}<br>dollar_price=%{y}<extra></extra>",
         "legendgroup": "United States",
         "line": {
          "color": "#EF553B",
          "dash": "solid"
         },
         "marker": {
          "symbol": "circle"
         },
         "mode": "lines",
         "name": "United States",
         "orientation": "v",
         "showlegend": true,
         "type": "scatter",
         "x": [
          "2000-04-01",
          "2001-04-01",
          "2002-04-01",
          "2003-04-01",
          "2004-05-01",
          "2005-06-01",
          "2006-01-01",
          "2006-05-01",
          "2007-01-01",
          "2007-06-01",
          "2008-06-01",
          "2009-07-01",
          "2010-01-01",
          "2010-07-01",
          "2011-07-01",
          "2012-01-01",
          "2012-07-01",
          "2013-01-01",
          "2013-07-01",
          "2014-01-01",
          "2014-07-01",
          "2015-01-01",
          "2015-07-01",
          "2016-01-01",
          "2016-07-01",
          "2017-01-01",
          "2017-07-01",
          "2018-01-01",
          "2018-07-01",
          "2019-01-01",
          "2019-07-09",
          "2020-01-14",
          "2020-07-01",
          "2021-01-01",
          "2021-07-01",
          "2022-01-01"
         ],
         "xaxis": "x",
         "y": [
          2.51,
          2.54,
          2.49,
          2.71,
          2.9,
          3.06,
          3.15,
          3.1,
          3.22,
          3.41,
          3.57,
          3.57,
          3.58,
          3.733333333,
          4.065,
          4.19722,
          4.3275,
          4.367395833,
          4.556666667,
          4.624166667,
          4.795,
          4.79,
          4.79,
          4.93,
          5.04,
          5.06,
          5.3,
          5.28,
          5.51,
          5.58,
          5.74,
          5.67,
          5.71,
          5.66,
          5.65,
          5.81
         ],
         "yaxis": "y"
        },
        {
         "hovertemplate": "name=Venezuela<br>date=%{x}<br>dollar_price=%{y}<extra></extra>",
         "legendgroup": "Venezuela",
         "line": {
          "color": "#00cc96",
          "dash": "solid"
         },
         "marker": {
          "symbol": "circle"
         },
         "mode": "lines",
         "name": "Venezuela",
         "orientation": "v",
         "showlegend": true,
         "type": "scatter",
         "x": [
          "2002-04-01",
          "2003-04-01",
          "2004-05-01",
          "2005-06-01",
          "2006-01-01",
          "2006-05-01",
          "2007-01-01",
          "2007-06-01",
          "2011-07-01",
          "2012-01-01",
          "2012-07-01",
          "2013-01-01",
          "2013-07-01",
          "2014-01-01",
          "2014-07-01",
          "2015-01-01",
          "2015-07-01",
          "2016-01-01",
          "2016-07-01",
          "2017-01-01",
          "2017-07-01",
          "2021-07-01",
          "2022-01-01"
         ],
         "xaxis": "x",
         "y": [
          2.9171528588098,
          2.3153942428035,
          1.4779979845482,
          2.12958526326998,
          2.2554206550659,
          2.26277792330468,
          1.6483737580837,
          3.44618823638989,
          6.51973967610865,
          6.98543536725927,
          7.9168267495605,
          9.08106597743704,
          7.15182530474722,
          7.15182530474722,
          6.81818181818182,
          2.53348713391591,
          0.67005076142132,
          0.66432274812203,
          3.38322366959406,
          5.24678590024574,
          4.05555555555556,
          4.43277488815627,
          5.06217673599648
         ],
         "yaxis": "y"
        },
        {
         "hovertemplate": "name=Colombia<br>date=%{x}<br>dollar_price=%{y}<extra></extra>",
         "legendgroup": "Colombia",
         "line": {
          "color": "#ab63fa",
          "dash": "solid"
         },
         "marker": {
          "symbol": "circle"
         },
         "mode": "lines",
         "name": "Colombia",
         "orientation": "v",
         "showlegend": true,
         "type": "scatter",
         "x": [
          "2004-05-01",
          "2005-06-01",
          "2006-05-01",
          "2007-01-01",
          "2007-06-01",
          "2008-06-01",
          "2009-07-01",
          "2010-01-01",
          "2010-07-01",
          "2011-07-01",
          "2012-01-01",
          "2012-07-01",
          "2013-01-01",
          "2013-07-01",
          "2014-01-01",
          "2014-07-01",
          "2015-01-01",
          "2015-07-01",
          "2016-01-01",
          "2016-07-01",
          "2017-01-01",
          "2017-07-01",
          "2018-01-01",
          "2018-07-01",
          "2019-01-01",
          "2019-07-09",
          "2020-01-14",
          "2020-07-01",
          "2021-01-01",
          "2021-07-01",
          "2022-01-01"
         ],
         "xaxis": "x",
         "y": [
          2.34671441929649,
          2.79245607251794,
          2.59626138360761,
          3.08128565527559,
          3.52760736196319,
          3.89180774469741,
          3.34033212445123,
          3.91296048864287,
          4.38866440097407,
          4.74442247952556,
          4.53526982155873,
          4.76592914836725,
          4.85005710096296,
          4.47683498178032,
          4.33731172410663,
          4.65456119936135,
          3.34040879838307,
          2.91631289453284,
          2.42785580380467,
          3.03857972004097,
          3.30592311224277,
          3.24360452925142,
          3.83246839092584,
          4.14046978674841,
          3.72865423781921,
          3.68763557483731,
          3.61963423443976,
          3.2900102570908,
          3.74223378124549,
          3.37054378974053,
          3.2851386163605
         ],
         "yaxis": "y"
        }
       ],
       "layout": {
        "legend": {
         "title": {
          "text": "name"
         },
         "tracegroupgap": 0
        },
        "margin": {
         "t": 60
        },
        "template": {
         "data": {
          "bar": [
           {
            "error_x": {
             "color": "#2a3f5f"
            },
            "error_y": {
             "color": "#2a3f5f"
            },
            "marker": {
             "line": {
              "color": "#E5ECF6",
              "width": 0.5
             },
             "pattern": {
              "fillmode": "overlay",
              "size": 10,
              "solidity": 0.2
             }
            },
            "type": "bar"
           }
          ],
          "barpolar": [
           {
            "marker": {
             "line": {
              "color": "#E5ECF6",
              "width": 0.5
             },
             "pattern": {
              "fillmode": "overlay",
              "size": 10,
              "solidity": 0.2
             }
            },
            "type": "barpolar"
           }
          ],
          "carpet": [
           {
            "aaxis": {
             "endlinecolor": "#2a3f5f",
             "gridcolor": "white",
             "linecolor": "white",
             "minorgridcolor": "white",
             "startlinecolor": "#2a3f5f"
            },
            "baxis": {
             "endlinecolor": "#2a3f5f",
             "gridcolor": "white",
             "linecolor": "white",
             "minorgridcolor": "white",
             "startlinecolor": "#2a3f5f"
            },
            "type": "carpet"
           }
          ],
          "choropleth": [
           {
            "colorbar": {
             "outlinewidth": 0,
             "ticks": ""
            },
            "type": "choropleth"
           }
          ],
          "contour": [
           {
            "colorbar": {
             "outlinewidth": 0,
             "ticks": ""
            },
            "colorscale": [
             [
              0,
              "#0d0887"
             ],
             [
              0.1111111111111111,
              "#46039f"
             ],
             [
              0.2222222222222222,
              "#7201a8"
             ],
             [
              0.3333333333333333,
              "#9c179e"
             ],
             [
              0.4444444444444444,
              "#bd3786"
             ],
             [
              0.5555555555555556,
              "#d8576b"
             ],
             [
              0.6666666666666666,
              "#ed7953"
             ],
             [
              0.7777777777777778,
              "#fb9f3a"
             ],
             [
              0.8888888888888888,
              "#fdca26"
             ],
             [
              1,
              "#f0f921"
             ]
            ],
            "type": "contour"
           }
          ],
          "contourcarpet": [
           {
            "colorbar": {
             "outlinewidth": 0,
             "ticks": ""
            },
            "type": "contourcarpet"
           }
          ],
          "heatmap": [
           {
            "colorbar": {
             "outlinewidth": 0,
             "ticks": ""
            },
            "colorscale": [
             [
              0,
              "#0d0887"
             ],
             [
              0.1111111111111111,
              "#46039f"
             ],
             [
              0.2222222222222222,
              "#7201a8"
             ],
             [
              0.3333333333333333,
              "#9c179e"
             ],
             [
              0.4444444444444444,
              "#bd3786"
             ],
             [
              0.5555555555555556,
              "#d8576b"
             ],
             [
              0.6666666666666666,
              "#ed7953"
             ],
             [
              0.7777777777777778,
              "#fb9f3a"
             ],
             [
              0.8888888888888888,
              "#fdca26"
             ],
             [
              1,
              "#f0f921"
             ]
            ],
            "type": "heatmap"
           }
          ],
          "heatmapgl": [
           {
            "colorbar": {
             "outlinewidth": 0,
             "ticks": ""
            },
            "colorscale": [
             [
              0,
              "#0d0887"
             ],
             [
              0.1111111111111111,
              "#46039f"
             ],
             [
              0.2222222222222222,
              "#7201a8"
             ],
             [
              0.3333333333333333,
              "#9c179e"
             ],
             [
              0.4444444444444444,
              "#bd3786"
             ],
             [
              0.5555555555555556,
              "#d8576b"
             ],
             [
              0.6666666666666666,
              "#ed7953"
             ],
             [
              0.7777777777777778,
              "#fb9f3a"
             ],
             [
              0.8888888888888888,
              "#fdca26"
             ],
             [
              1,
              "#f0f921"
             ]
            ],
            "type": "heatmapgl"
           }
          ],
          "histogram": [
           {
            "marker": {
             "pattern": {
              "fillmode": "overlay",
              "size": 10,
              "solidity": 0.2
             }
            },
            "type": "histogram"
           }
          ],
          "histogram2d": [
           {
            "colorbar": {
             "outlinewidth": 0,
             "ticks": ""
            },
            "colorscale": [
             [
              0,
              "#0d0887"
             ],
             [
              0.1111111111111111,
              "#46039f"
             ],
             [
              0.2222222222222222,
              "#7201a8"
             ],
             [
              0.3333333333333333,
              "#9c179e"
             ],
             [
              0.4444444444444444,
              "#bd3786"
             ],
             [
              0.5555555555555556,
              "#d8576b"
             ],
             [
              0.6666666666666666,
              "#ed7953"
             ],
             [
              0.7777777777777778,
              "#fb9f3a"
             ],
             [
              0.8888888888888888,
              "#fdca26"
             ],
             [
              1,
              "#f0f921"
             ]
            ],
            "type": "histogram2d"
           }
          ],
          "histogram2dcontour": [
           {
            "colorbar": {
             "outlinewidth": 0,
             "ticks": ""
            },
            "colorscale": [
             [
              0,
              "#0d0887"
             ],
             [
              0.1111111111111111,
              "#46039f"
             ],
             [
              0.2222222222222222,
              "#7201a8"
             ],
             [
              0.3333333333333333,
              "#9c179e"
             ],
             [
              0.4444444444444444,
              "#bd3786"
             ],
             [
              0.5555555555555556,
              "#d8576b"
             ],
             [
              0.6666666666666666,
              "#ed7953"
             ],
             [
              0.7777777777777778,
              "#fb9f3a"
             ],
             [
              0.8888888888888888,
              "#fdca26"
             ],
             [
              1,
              "#f0f921"
             ]
            ],
            "type": "histogram2dcontour"
           }
          ],
          "mesh3d": [
           {
            "colorbar": {
             "outlinewidth": 0,
             "ticks": ""
            },
            "type": "mesh3d"
           }
          ],
          "parcoords": [
           {
            "line": {
             "colorbar": {
              "outlinewidth": 0,
              "ticks": ""
             }
            },
            "type": "parcoords"
           }
          ],
          "pie": [
           {
            "automargin": true,
            "type": "pie"
           }
          ],
          "scatter": [
           {
            "marker": {
             "colorbar": {
              "outlinewidth": 0,
              "ticks": ""
             }
            },
            "type": "scatter"
           }
          ],
          "scatter3d": [
           {
            "line": {
             "colorbar": {
              "outlinewidth": 0,
              "ticks": ""
             }
            },
            "marker": {
             "colorbar": {
              "outlinewidth": 0,
              "ticks": ""
             }
            },
            "type": "scatter3d"
           }
          ],
          "scattercarpet": [
           {
            "marker": {
             "colorbar": {
              "outlinewidth": 0,
              "ticks": ""
             }
            },
            "type": "scattercarpet"
           }
          ],
          "scattergeo": [
           {
            "marker": {
             "colorbar": {
              "outlinewidth": 0,
              "ticks": ""
             }
            },
            "type": "scattergeo"
           }
          ],
          "scattergl": [
           {
            "marker": {
             "colorbar": {
              "outlinewidth": 0,
              "ticks": ""
             }
            },
            "type": "scattergl"
           }
          ],
          "scattermapbox": [
           {
            "marker": {
             "colorbar": {
              "outlinewidth": 0,
              "ticks": ""
             }
            },
            "type": "scattermapbox"
           }
          ],
          "scatterpolar": [
           {
            "marker": {
             "colorbar": {
              "outlinewidth": 0,
              "ticks": ""
             }
            },
            "type": "scatterpolar"
           }
          ],
          "scatterpolargl": [
           {
            "marker": {
             "colorbar": {
              "outlinewidth": 0,
              "ticks": ""
             }
            },
            "type": "scatterpolargl"
           }
          ],
          "scatterternary": [
           {
            "marker": {
             "colorbar": {
              "outlinewidth": 0,
              "ticks": ""
             }
            },
            "type": "scatterternary"
           }
          ],
          "surface": [
           {
            "colorbar": {
             "outlinewidth": 0,
             "ticks": ""
            },
            "colorscale": [
             [
              0,
              "#0d0887"
             ],
             [
              0.1111111111111111,
              "#46039f"
             ],
             [
              0.2222222222222222,
              "#7201a8"
             ],
             [
              0.3333333333333333,
              "#9c179e"
             ],
             [
              0.4444444444444444,
              "#bd3786"
             ],
             [
              0.5555555555555556,
              "#d8576b"
             ],
             [
              0.6666666666666666,
              "#ed7953"
             ],
             [
              0.7777777777777778,
              "#fb9f3a"
             ],
             [
              0.8888888888888888,
              "#fdca26"
             ],
             [
              1,
              "#f0f921"
             ]
            ],
            "type": "surface"
           }
          ],
          "table": [
           {
            "cells": {
             "fill": {
              "color": "#EBF0F8"
             },
             "line": {
              "color": "white"
             }
            },
            "header": {
             "fill": {
              "color": "#C8D4E3"
             },
             "line": {
              "color": "white"
             }
            },
            "type": "table"
           }
          ]
         },
         "layout": {
          "annotationdefaults": {
           "arrowcolor": "#2a3f5f",
           "arrowhead": 0,
           "arrowwidth": 1
          },
          "autotypenumbers": "strict",
          "coloraxis": {
           "colorbar": {
            "outlinewidth": 0,
            "ticks": ""
           }
          },
          "colorscale": {
           "diverging": [
            [
             0,
             "#8e0152"
            ],
            [
             0.1,
             "#c51b7d"
            ],
            [
             0.2,
             "#de77ae"
            ],
            [
             0.3,
             "#f1b6da"
            ],
            [
             0.4,
             "#fde0ef"
            ],
            [
             0.5,
             "#f7f7f7"
            ],
            [
             0.6,
             "#e6f5d0"
            ],
            [
             0.7,
             "#b8e186"
            ],
            [
             0.8,
             "#7fbc41"
            ],
            [
             0.9,
             "#4d9221"
            ],
            [
             1,
             "#276419"
            ]
           ],
           "sequential": [
            [
             0,
             "#0d0887"
            ],
            [
             0.1111111111111111,
             "#46039f"
            ],
            [
             0.2222222222222222,
             "#7201a8"
            ],
            [
             0.3333333333333333,
             "#9c179e"
            ],
            [
             0.4444444444444444,
             "#bd3786"
            ],
            [
             0.5555555555555556,
             "#d8576b"
            ],
            [
             0.6666666666666666,
             "#ed7953"
            ],
            [
             0.7777777777777778,
             "#fb9f3a"
            ],
            [
             0.8888888888888888,
             "#fdca26"
            ],
            [
             1,
             "#f0f921"
            ]
           ],
           "sequentialminus": [
            [
             0,
             "#0d0887"
            ],
            [
             0.1111111111111111,
             "#46039f"
            ],
            [
             0.2222222222222222,
             "#7201a8"
            ],
            [
             0.3333333333333333,
             "#9c179e"
            ],
            [
             0.4444444444444444,
             "#bd3786"
            ],
            [
             0.5555555555555556,
             "#d8576b"
            ],
            [
             0.6666666666666666,
             "#ed7953"
            ],
            [
             0.7777777777777778,
             "#fb9f3a"
            ],
            [
             0.8888888888888888,
             "#fdca26"
            ],
            [
             1,
             "#f0f921"
            ]
           ]
          },
          "colorway": [
           "#636efa",
           "#EF553B",
           "#00cc96",
           "#ab63fa",
           "#FFA15A",
           "#19d3f3",
           "#FF6692",
           "#B6E880",
           "#FF97FF",
           "#FECB52"
          ],
          "font": {
           "color": "#2a3f5f"
          },
          "geo": {
           "bgcolor": "white",
           "lakecolor": "white",
           "landcolor": "#E5ECF6",
           "showlakes": true,
           "showland": true,
           "subunitcolor": "white"
          },
          "hoverlabel": {
           "align": "left"
          },
          "hovermode": "closest",
          "mapbox": {
           "style": "light"
          },
          "paper_bgcolor": "white",
          "plot_bgcolor": "#E5ECF6",
          "polar": {
           "angularaxis": {
            "gridcolor": "white",
            "linecolor": "white",
            "ticks": ""
           },
           "bgcolor": "#E5ECF6",
           "radialaxis": {
            "gridcolor": "white",
            "linecolor": "white",
            "ticks": ""
           }
          },
          "scene": {
           "xaxis": {
            "backgroundcolor": "#E5ECF6",
            "gridcolor": "white",
            "gridwidth": 2,
            "linecolor": "white",
            "showbackground": true,
            "ticks": "",
            "zerolinecolor": "white"
           },
           "yaxis": {
            "backgroundcolor": "#E5ECF6",
            "gridcolor": "white",
            "gridwidth": 2,
            "linecolor": "white",
            "showbackground": true,
            "ticks": "",
            "zerolinecolor": "white"
           },
           "zaxis": {
            "backgroundcolor": "#E5ECF6",
            "gridcolor": "white",
            "gridwidth": 2,
            "linecolor": "white",
            "showbackground": true,
            "ticks": "",
            "zerolinecolor": "white"
           }
          },
          "shapedefaults": {
           "line": {
            "color": "#2a3f5f"
           }
          },
          "ternary": {
           "aaxis": {
            "gridcolor": "white",
            "linecolor": "white",
            "ticks": ""
           },
           "baxis": {
            "gridcolor": "white",
            "linecolor": "white",
            "ticks": ""
           },
           "bgcolor": "#E5ECF6",
           "caxis": {
            "gridcolor": "white",
            "linecolor": "white",
            "ticks": ""
           }
          },
          "title": {
           "x": 0.05
          },
          "xaxis": {
           "automargin": true,
           "gridcolor": "white",
           "linecolor": "white",
           "ticks": "",
           "title": {
            "standoff": 15
           },
           "zerolinecolor": "white",
           "zerolinewidth": 2
          },
          "yaxis": {
           "automargin": true,
           "gridcolor": "white",
           "linecolor": "white",
           "ticks": "",
           "title": {
            "standoff": 15
           },
           "zerolinecolor": "white",
           "zerolinewidth": 2
          }
         }
        },
        "title": {
         "text": "Bigmac price by country"
        },
        "xaxis": {
         "anchor": "y",
         "domain": [
          0,
          1
         ],
         "title": {
          "text": "date"
         }
        },
        "yaxis": {
         "anchor": "x",
         "domain": [
          0,
          1
         ],
         "title": {
          "text": "Bigmac price USD"
         }
        }
       }
      }
     },
     "metadata": {},
     "output_type": "display_data"
    }
   ],
   "source": [
    "fig = px.line(data[data['name'].isin(['Australia', 'United States', 'Colombia', 'Venezuela'])],x='date',y='dollar_price', color='name')\n",
    "fig.layout.title = \"Bigmac price by country\"\n",
    "fig.layout.xaxis.title = \"date\"\n",
    "fig.layout.yaxis.title = \"Bigmac price USD\"\n",
    "fig.show()"
   ]
  },
  {
   "cell_type": "markdown",
   "metadata": {},
   "source": []
  },
  {
   "cell_type": "code",
   "execution_count": 32,
   "metadata": {},
   "outputs": [
    {
     "data": {
      "text/plain": [
       "(22, 18)"
      ]
     },
     "execution_count": 32,
     "metadata": {},
     "output_type": "execute_result"
    }
   ],
   "source": [
    "bigmac_AU.shape"
   ]
  },
  {
   "cell_type": "code",
   "execution_count": 179,
   "metadata": {},
   "outputs": [],
   "source": [
    "x = pd.to_datetime(bigmac_AU['date']).map(dt.datetime.toordinal)\n",
    "x = np.array(x).reshape(-1,1)"
   ]
  },
  {
   "cell_type": "code",
   "execution_count": 180,
   "metadata": {},
   "outputs": [],
   "source": [
    "pf2 = PolynomialFeatures(degree=3)\n",
    "xpoly=pf2.fit_transform(x)"
   ]
  },
  {
   "cell_type": "code",
   "execution_count": 181,
   "metadata": {},
   "outputs": [
    {
     "data": {
      "text/plain": [
       "LinearRegression()"
      ]
     },
     "execution_count": 181,
     "metadata": {},
     "output_type": "execute_result"
    }
   ],
   "source": [
    "model = linear_model.LinearRegression()\n",
    "model.fit(xpoly, bigmac_AU['dollar_price'])"
   ]
  },
  {
   "cell_type": "code",
   "execution_count": 182,
   "metadata": {},
   "outputs": [],
   "source": [
    "march_bigmac = dt.date(2022,3,31)\n",
    "x1 = np.array(march_bigmac.toordinal()).reshape(-1,1)"
   ]
  },
  {
   "cell_type": "code",
   "execution_count": 183,
   "metadata": {},
   "outputs": [],
   "source": [
    "X1poly = pf2.fit_transform(x1)\n",
    "pred = model.predict(X1poly)"
   ]
  },
  {
   "cell_type": "code",
   "execution_count": 184,
   "metadata": {},
   "outputs": [
    {
     "data": {
      "text/plain": [
       "array([4.48888754])"
      ]
     },
     "execution_count": 184,
     "metadata": {},
     "output_type": "execute_result"
    }
   ],
   "source": [
    "pred"
   ]
  },
  {
   "cell_type": "code",
   "execution_count": 185,
   "metadata": {},
   "outputs": [],
   "source": [
    "predicted = model.predict(xpoly)"
   ]
  },
  {
   "cell_type": "code",
   "execution_count": 186,
   "metadata": {},
   "outputs": [
    {
     "data": {
      "application/vnd.plotly.v1+json": {
       "config": {
        "plotlyServerURL": "https://plot.ly"
       },
       "data": [
        {
         "hovertemplate": "variable=wide_variable_0<br>x=%{x}<br>value=%{y}<extra></extra>",
         "legendgroup": "wide_variable_0",
         "line": {
          "color": "#636efa",
          "dash": "solid"
         },
         "marker": {
          "symbol": "circle"
         },
         "mode": "lines",
         "name": "wide_variable_0",
         "orientation": "v",
         "showlegend": true,
         "type": "scatter",
         "x": [
          "2000-04-01",
          "2001-04-01",
          "2002-04-01",
          "2003-04-01",
          "2004-05-01",
          "2005-06-01",
          "2006-01-01",
          "2006-05-01",
          "2007-01-01",
          "2007-06-01",
          "2008-06-01",
          "2009-07-01",
          "2010-01-01",
          "2010-07-01",
          "2011-07-01",
          "2012-01-01",
          "2012-07-01",
          "2013-01-01",
          "2013-07-01",
          "2014-01-01",
          "2014-07-01",
          "2015-01-01",
          "2015-07-01",
          "2016-01-01",
          "2016-07-01",
          "2017-01-01",
          "2017-07-01",
          "2018-01-01",
          "2018-07-01",
          "2019-01-01",
          "2019-07-09",
          "2020-01-14",
          "2020-07-01",
          "2021-01-01",
          "2021-07-01",
          "2022-01-01"
         ],
         "xaxis": "x",
         "y": [
          0.9640396016693558,
          1.3429748653725255,
          1.701222521100135,
          2.038761713534768,
          2.3815230094260187,
          2.699857680923742,
          2.8617107800455415,
          2.94934300006571,
          3.1212792909063864,
          3.2225789918484224,
          3.4533275775102084,
          3.6788514610307175,
          3.7755667702622304,
          3.8655305283609778,
          4.031328976154327,
          4.106986744431197,
          4.176594197386294,
          4.241678521553695,
          4.300511490084318,
          4.355040731574263,
          4.403485540195106,
          4.44744918564902,
          4.485495492408518,
          4.518883028464188,
          4.546658838808071,
          4.569430733219633,
          4.586620450507326,
          4.598795180005254,
          4.605555341258878,
          4.607122392484598,
          4.6031604790150595,
          4.593549462369992,
          4.580169069748081,
          4.560460090153356,
          4.535840858316078,
          4.505492631567904
         ],
         "yaxis": "y"
        },
        {
         "hovertemplate": "variable=wide_variable_1<br>x=%{x}<br>value=%{y}<extra></extra>",
         "legendgroup": "wide_variable_1",
         "line": {
          "color": "#EF553B",
          "dash": "solid"
         },
         "marker": {
          "symbol": "circle"
         },
         "mode": "lines",
         "name": "wide_variable_1",
         "orientation": "v",
         "showlegend": true,
         "type": "scatter",
         "x": [
          "2000-04-01",
          "2001-04-01",
          "2002-04-01",
          "2003-04-01",
          "2004-05-01",
          "2005-06-01",
          "2006-01-01",
          "2006-05-01",
          "2007-01-01",
          "2007-06-01",
          "2008-06-01",
          "2009-07-01",
          "2010-01-01",
          "2010-07-01",
          "2011-07-01",
          "2012-01-01",
          "2012-07-01",
          "2013-01-01",
          "2013-07-01",
          "2014-01-01",
          "2014-07-01",
          "2015-01-01",
          "2015-07-01",
          "2016-01-01",
          "2016-07-01",
          "2017-01-01",
          "2017-07-01",
          "2018-01-01",
          "2018-07-01",
          "2019-01-01",
          "2019-07-09",
          "2020-01-14",
          "2020-07-01",
          "2021-01-01",
          "2021-07-01",
          "2022-01-01"
         ],
         "xaxis": "x",
         "y": [
          1.54166666666667,
          1.51515151515152,
          1.61290322580645,
          1.86335403726708,
          2.27272727272727,
          2.49711870918171,
          2.44214006612564,
          2.43896947911116,
          2.72325780568569,
          2.94871794871795,
          3.36257309941521,
          3.37244541145388,
          3.97787023912944,
          3.83691750028815,
          4.94372400141217,
          4.93656000004245,
          4.68015599908292,
          4.90045499838408,
          4.61986425117506,
          4.47354249877067,
          4.81414500013119,
          4.31870499892076,
          3.92226499999019,
          3.74365500098421,
          4.30473750039754,
          4.27518000105469,
          4.52795500055083,
          4.70613499966375,
          4.51541749999998,
          4.35204500000001,
          4.260105,
          4.45114500000001,
          4.57845000000001,
          4.98474,
          4.79296249999999,
          4.50912000000001
         ],
         "yaxis": "y"
        }
       ],
       "layout": {
        "legend": {
         "title": {
          "text": "variable"
         },
         "tracegroupgap": 0
        },
        "margin": {
         "t": 60
        },
        "template": {
         "data": {
          "bar": [
           {
            "error_x": {
             "color": "#2a3f5f"
            },
            "error_y": {
             "color": "#2a3f5f"
            },
            "marker": {
             "line": {
              "color": "#E5ECF6",
              "width": 0.5
             },
             "pattern": {
              "fillmode": "overlay",
              "size": 10,
              "solidity": 0.2
             }
            },
            "type": "bar"
           }
          ],
          "barpolar": [
           {
            "marker": {
             "line": {
              "color": "#E5ECF6",
              "width": 0.5
             },
             "pattern": {
              "fillmode": "overlay",
              "size": 10,
              "solidity": 0.2
             }
            },
            "type": "barpolar"
           }
          ],
          "carpet": [
           {
            "aaxis": {
             "endlinecolor": "#2a3f5f",
             "gridcolor": "white",
             "linecolor": "white",
             "minorgridcolor": "white",
             "startlinecolor": "#2a3f5f"
            },
            "baxis": {
             "endlinecolor": "#2a3f5f",
             "gridcolor": "white",
             "linecolor": "white",
             "minorgridcolor": "white",
             "startlinecolor": "#2a3f5f"
            },
            "type": "carpet"
           }
          ],
          "choropleth": [
           {
            "colorbar": {
             "outlinewidth": 0,
             "ticks": ""
            },
            "type": "choropleth"
           }
          ],
          "contour": [
           {
            "colorbar": {
             "outlinewidth": 0,
             "ticks": ""
            },
            "colorscale": [
             [
              0,
              "#0d0887"
             ],
             [
              0.1111111111111111,
              "#46039f"
             ],
             [
              0.2222222222222222,
              "#7201a8"
             ],
             [
              0.3333333333333333,
              "#9c179e"
             ],
             [
              0.4444444444444444,
              "#bd3786"
             ],
             [
              0.5555555555555556,
              "#d8576b"
             ],
             [
              0.6666666666666666,
              "#ed7953"
             ],
             [
              0.7777777777777778,
              "#fb9f3a"
             ],
             [
              0.8888888888888888,
              "#fdca26"
             ],
             [
              1,
              "#f0f921"
             ]
            ],
            "type": "contour"
           }
          ],
          "contourcarpet": [
           {
            "colorbar": {
             "outlinewidth": 0,
             "ticks": ""
            },
            "type": "contourcarpet"
           }
          ],
          "heatmap": [
           {
            "colorbar": {
             "outlinewidth": 0,
             "ticks": ""
            },
            "colorscale": [
             [
              0,
              "#0d0887"
             ],
             [
              0.1111111111111111,
              "#46039f"
             ],
             [
              0.2222222222222222,
              "#7201a8"
             ],
             [
              0.3333333333333333,
              "#9c179e"
             ],
             [
              0.4444444444444444,
              "#bd3786"
             ],
             [
              0.5555555555555556,
              "#d8576b"
             ],
             [
              0.6666666666666666,
              "#ed7953"
             ],
             [
              0.7777777777777778,
              "#fb9f3a"
             ],
             [
              0.8888888888888888,
              "#fdca26"
             ],
             [
              1,
              "#f0f921"
             ]
            ],
            "type": "heatmap"
           }
          ],
          "heatmapgl": [
           {
            "colorbar": {
             "outlinewidth": 0,
             "ticks": ""
            },
            "colorscale": [
             [
              0,
              "#0d0887"
             ],
             [
              0.1111111111111111,
              "#46039f"
             ],
             [
              0.2222222222222222,
              "#7201a8"
             ],
             [
              0.3333333333333333,
              "#9c179e"
             ],
             [
              0.4444444444444444,
              "#bd3786"
             ],
             [
              0.5555555555555556,
              "#d8576b"
             ],
             [
              0.6666666666666666,
              "#ed7953"
             ],
             [
              0.7777777777777778,
              "#fb9f3a"
             ],
             [
              0.8888888888888888,
              "#fdca26"
             ],
             [
              1,
              "#f0f921"
             ]
            ],
            "type": "heatmapgl"
           }
          ],
          "histogram": [
           {
            "marker": {
             "pattern": {
              "fillmode": "overlay",
              "size": 10,
              "solidity": 0.2
             }
            },
            "type": "histogram"
           }
          ],
          "histogram2d": [
           {
            "colorbar": {
             "outlinewidth": 0,
             "ticks": ""
            },
            "colorscale": [
             [
              0,
              "#0d0887"
             ],
             [
              0.1111111111111111,
              "#46039f"
             ],
             [
              0.2222222222222222,
              "#7201a8"
             ],
             [
              0.3333333333333333,
              "#9c179e"
             ],
             [
              0.4444444444444444,
              "#bd3786"
             ],
             [
              0.5555555555555556,
              "#d8576b"
             ],
             [
              0.6666666666666666,
              "#ed7953"
             ],
             [
              0.7777777777777778,
              "#fb9f3a"
             ],
             [
              0.8888888888888888,
              "#fdca26"
             ],
             [
              1,
              "#f0f921"
             ]
            ],
            "type": "histogram2d"
           }
          ],
          "histogram2dcontour": [
           {
            "colorbar": {
             "outlinewidth": 0,
             "ticks": ""
            },
            "colorscale": [
             [
              0,
              "#0d0887"
             ],
             [
              0.1111111111111111,
              "#46039f"
             ],
             [
              0.2222222222222222,
              "#7201a8"
             ],
             [
              0.3333333333333333,
              "#9c179e"
             ],
             [
              0.4444444444444444,
              "#bd3786"
             ],
             [
              0.5555555555555556,
              "#d8576b"
             ],
             [
              0.6666666666666666,
              "#ed7953"
             ],
             [
              0.7777777777777778,
              "#fb9f3a"
             ],
             [
              0.8888888888888888,
              "#fdca26"
             ],
             [
              1,
              "#f0f921"
             ]
            ],
            "type": "histogram2dcontour"
           }
          ],
          "mesh3d": [
           {
            "colorbar": {
             "outlinewidth": 0,
             "ticks": ""
            },
            "type": "mesh3d"
           }
          ],
          "parcoords": [
           {
            "line": {
             "colorbar": {
              "outlinewidth": 0,
              "ticks": ""
             }
            },
            "type": "parcoords"
           }
          ],
          "pie": [
           {
            "automargin": true,
            "type": "pie"
           }
          ],
          "scatter": [
           {
            "marker": {
             "colorbar": {
              "outlinewidth": 0,
              "ticks": ""
             }
            },
            "type": "scatter"
           }
          ],
          "scatter3d": [
           {
            "line": {
             "colorbar": {
              "outlinewidth": 0,
              "ticks": ""
             }
            },
            "marker": {
             "colorbar": {
              "outlinewidth": 0,
              "ticks": ""
             }
            },
            "type": "scatter3d"
           }
          ],
          "scattercarpet": [
           {
            "marker": {
             "colorbar": {
              "outlinewidth": 0,
              "ticks": ""
             }
            },
            "type": "scattercarpet"
           }
          ],
          "scattergeo": [
           {
            "marker": {
             "colorbar": {
              "outlinewidth": 0,
              "ticks": ""
             }
            },
            "type": "scattergeo"
           }
          ],
          "scattergl": [
           {
            "marker": {
             "colorbar": {
              "outlinewidth": 0,
              "ticks": ""
             }
            },
            "type": "scattergl"
           }
          ],
          "scattermapbox": [
           {
            "marker": {
             "colorbar": {
              "outlinewidth": 0,
              "ticks": ""
             }
            },
            "type": "scattermapbox"
           }
          ],
          "scatterpolar": [
           {
            "marker": {
             "colorbar": {
              "outlinewidth": 0,
              "ticks": ""
             }
            },
            "type": "scatterpolar"
           }
          ],
          "scatterpolargl": [
           {
            "marker": {
             "colorbar": {
              "outlinewidth": 0,
              "ticks": ""
             }
            },
            "type": "scatterpolargl"
           }
          ],
          "scatterternary": [
           {
            "marker": {
             "colorbar": {
              "outlinewidth": 0,
              "ticks": ""
             }
            },
            "type": "scatterternary"
           }
          ],
          "surface": [
           {
            "colorbar": {
             "outlinewidth": 0,
             "ticks": ""
            },
            "colorscale": [
             [
              0,
              "#0d0887"
             ],
             [
              0.1111111111111111,
              "#46039f"
             ],
             [
              0.2222222222222222,
              "#7201a8"
             ],
             [
              0.3333333333333333,
              "#9c179e"
             ],
             [
              0.4444444444444444,
              "#bd3786"
             ],
             [
              0.5555555555555556,
              "#d8576b"
             ],
             [
              0.6666666666666666,
              "#ed7953"
             ],
             [
              0.7777777777777778,
              "#fb9f3a"
             ],
             [
              0.8888888888888888,
              "#fdca26"
             ],
             [
              1,
              "#f0f921"
             ]
            ],
            "type": "surface"
           }
          ],
          "table": [
           {
            "cells": {
             "fill": {
              "color": "#EBF0F8"
             },
             "line": {
              "color": "white"
             }
            },
            "header": {
             "fill": {
              "color": "#C8D4E3"
             },
             "line": {
              "color": "white"
             }
            },
            "type": "table"
           }
          ]
         },
         "layout": {
          "annotationdefaults": {
           "arrowcolor": "#2a3f5f",
           "arrowhead": 0,
           "arrowwidth": 1
          },
          "autotypenumbers": "strict",
          "coloraxis": {
           "colorbar": {
            "outlinewidth": 0,
            "ticks": ""
           }
          },
          "colorscale": {
           "diverging": [
            [
             0,
             "#8e0152"
            ],
            [
             0.1,
             "#c51b7d"
            ],
            [
             0.2,
             "#de77ae"
            ],
            [
             0.3,
             "#f1b6da"
            ],
            [
             0.4,
             "#fde0ef"
            ],
            [
             0.5,
             "#f7f7f7"
            ],
            [
             0.6,
             "#e6f5d0"
            ],
            [
             0.7,
             "#b8e186"
            ],
            [
             0.8,
             "#7fbc41"
            ],
            [
             0.9,
             "#4d9221"
            ],
            [
             1,
             "#276419"
            ]
           ],
           "sequential": [
            [
             0,
             "#0d0887"
            ],
            [
             0.1111111111111111,
             "#46039f"
            ],
            [
             0.2222222222222222,
             "#7201a8"
            ],
            [
             0.3333333333333333,
             "#9c179e"
            ],
            [
             0.4444444444444444,
             "#bd3786"
            ],
            [
             0.5555555555555556,
             "#d8576b"
            ],
            [
             0.6666666666666666,
             "#ed7953"
            ],
            [
             0.7777777777777778,
             "#fb9f3a"
            ],
            [
             0.8888888888888888,
             "#fdca26"
            ],
            [
             1,
             "#f0f921"
            ]
           ],
           "sequentialminus": [
            [
             0,
             "#0d0887"
            ],
            [
             0.1111111111111111,
             "#46039f"
            ],
            [
             0.2222222222222222,
             "#7201a8"
            ],
            [
             0.3333333333333333,
             "#9c179e"
            ],
            [
             0.4444444444444444,
             "#bd3786"
            ],
            [
             0.5555555555555556,
             "#d8576b"
            ],
            [
             0.6666666666666666,
             "#ed7953"
            ],
            [
             0.7777777777777778,
             "#fb9f3a"
            ],
            [
             0.8888888888888888,
             "#fdca26"
            ],
            [
             1,
             "#f0f921"
            ]
           ]
          },
          "colorway": [
           "#636efa",
           "#EF553B",
           "#00cc96",
           "#ab63fa",
           "#FFA15A",
           "#19d3f3",
           "#FF6692",
           "#B6E880",
           "#FF97FF",
           "#FECB52"
          ],
          "font": {
           "color": "#2a3f5f"
          },
          "geo": {
           "bgcolor": "white",
           "lakecolor": "white",
           "landcolor": "#E5ECF6",
           "showlakes": true,
           "showland": true,
           "subunitcolor": "white"
          },
          "hoverlabel": {
           "align": "left"
          },
          "hovermode": "closest",
          "mapbox": {
           "style": "light"
          },
          "paper_bgcolor": "white",
          "plot_bgcolor": "#E5ECF6",
          "polar": {
           "angularaxis": {
            "gridcolor": "white",
            "linecolor": "white",
            "ticks": ""
           },
           "bgcolor": "#E5ECF6",
           "radialaxis": {
            "gridcolor": "white",
            "linecolor": "white",
            "ticks": ""
           }
          },
          "scene": {
           "xaxis": {
            "backgroundcolor": "#E5ECF6",
            "gridcolor": "white",
            "gridwidth": 2,
            "linecolor": "white",
            "showbackground": true,
            "ticks": "",
            "zerolinecolor": "white"
           },
           "yaxis": {
            "backgroundcolor": "#E5ECF6",
            "gridcolor": "white",
            "gridwidth": 2,
            "linecolor": "white",
            "showbackground": true,
            "ticks": "",
            "zerolinecolor": "white"
           },
           "zaxis": {
            "backgroundcolor": "#E5ECF6",
            "gridcolor": "white",
            "gridwidth": 2,
            "linecolor": "white",
            "showbackground": true,
            "ticks": "",
            "zerolinecolor": "white"
           }
          },
          "shapedefaults": {
           "line": {
            "color": "#2a3f5f"
           }
          },
          "ternary": {
           "aaxis": {
            "gridcolor": "white",
            "linecolor": "white",
            "ticks": ""
           },
           "baxis": {
            "gridcolor": "white",
            "linecolor": "white",
            "ticks": ""
           },
           "bgcolor": "#E5ECF6",
           "caxis": {
            "gridcolor": "white",
            "linecolor": "white",
            "ticks": ""
           }
          },
          "title": {
           "x": 0.05
          },
          "xaxis": {
           "automargin": true,
           "gridcolor": "white",
           "linecolor": "white",
           "ticks": "",
           "title": {
            "standoff": 15
           },
           "zerolinecolor": "white",
           "zerolinewidth": 2
          },
          "yaxis": {
           "automargin": true,
           "gridcolor": "white",
           "linecolor": "white",
           "ticks": "",
           "title": {
            "standoff": 15
           },
           "zerolinecolor": "white",
           "zerolinewidth": 2
          }
         }
        },
        "title": {
         "text": "Bigmac price predicted"
        },
        "xaxis": {
         "anchor": "y",
         "domain": [
          0,
          1
         ],
         "title": {
          "text": "date"
         }
        },
        "yaxis": {
         "anchor": "x",
         "domain": [
          0,
          1
         ],
         "title": {
          "text": "Bigmac price USD"
         }
        }
       }
      }
     },
     "metadata": {},
     "output_type": "display_data"
    }
   ],
   "source": [
    "fig = px.line(x=bigmac_AU['date'],y=[predicted,bigmac_AU['dollar_price']])\n",
    "fig.layout.title = \"Bigmac price predicted\"\n",
    "fig.layout.xaxis.title = \"date\"\n",
    "fig.layout.yaxis.title = \"Bigmac price USD\"\n",
    "fig.show()"
   ]
  },
  {
   "cell_type": "code",
   "execution_count": 211,
   "metadata": {},
   "outputs": [],
   "source": [
    "data_byCountry = data.groupby(['name'])['date'].max().reset_index()\n",
    "most_recent=pd.merge(data,data_byCountry,left_on=['name','date'],right_on=['name','date'])"
   ]
  },
  {
   "cell_type": "code",
   "execution_count": 222,
   "metadata": {},
   "outputs": [],
   "source": [
    "most_recent['price/GDP'] = most_recent['dollar_price'] / most_recent['GDP_dollar']"
   ]
  },
  {
   "cell_type": "code",
   "execution_count": 223,
   "metadata": {},
   "outputs": [
    {
     "data": {
      "text/html": [
       "<div>\n",
       "<style scoped>\n",
       "    .dataframe tbody tr th:only-of-type {\n",
       "        vertical-align: middle;\n",
       "    }\n",
       "\n",
       "    .dataframe tbody tr th {\n",
       "        vertical-align: top;\n",
       "    }\n",
       "\n",
       "    .dataframe thead th {\n",
       "        text-align: right;\n",
       "    }\n",
       "</style>\n",
       "<table border=\"1\" class=\"dataframe\">\n",
       "  <thead>\n",
       "    <tr style=\"text-align: right;\">\n",
       "      <th></th>\n",
       "      <th>name</th>\n",
       "      <th>GDP_dollar</th>\n",
       "      <th>dollar_price</th>\n",
       "      <th>price/GDP</th>\n",
       "    </tr>\n",
       "  </thead>\n",
       "  <tbody>\n",
       "    <tr>\n",
       "      <th>19</th>\n",
       "      <td>Hong Kong</td>\n",
       "      <td>46657.2</td>\n",
       "      <td>2.821399</td>\n",
       "      <td>0.00006</td>\n",
       "    </tr>\n",
       "  </tbody>\n",
       "</table>\n",
       "</div>"
      ],
      "text/plain": [
       "         name  GDP_dollar  dollar_price  price/GDP\n",
       "19  Hong Kong     46657.2      2.821399    0.00006"
      ]
     },
     "execution_count": 223,
     "metadata": {},
     "output_type": "execute_result"
    }
   ],
   "source": [
    "most_recent[['name','GDP_dollar','dollar_price','price/GDP']][most_recent['price/GDP']==most_recent['price/GDP'].min()]"
   ]
  },
  {
   "cell_type": "code",
   "execution_count": 216,
   "metadata": {},
   "outputs": [
    {
     "data": {
      "text/html": [
       "<div>\n",
       "<style scoped>\n",
       "    .dataframe tbody tr th:only-of-type {\n",
       "        vertical-align: middle;\n",
       "    }\n",
       "\n",
       "    .dataframe tbody tr th {\n",
       "        vertical-align: top;\n",
       "    }\n",
       "\n",
       "    .dataframe thead th {\n",
       "        text-align: right;\n",
       "    }\n",
       "</style>\n",
       "<table border=\"1\" class=\"dataframe\">\n",
       "  <thead>\n",
       "    <tr style=\"text-align: right;\">\n",
       "      <th></th>\n",
       "      <th>name</th>\n",
       "      <th>dollar_price</th>\n",
       "    </tr>\n",
       "  </thead>\n",
       "  <tbody>\n",
       "    <tr>\n",
       "      <th>45</th>\n",
       "      <td>Russia</td>\n",
       "      <td>1.743792</td>\n",
       "    </tr>\n",
       "  </tbody>\n",
       "</table>\n",
       "</div>"
      ],
      "text/plain": [
       "      name  dollar_price\n",
       "45  Russia      1.743792"
      ]
     },
     "execution_count": 216,
     "metadata": {},
     "output_type": "execute_result"
    }
   ],
   "source": [
    "most_recent[['name','dollar_price']][most_recent['dollar_price']==most_recent['dollar_price'].min()]"
   ]
  }
 ],
 "metadata": {
  "interpreter": {
   "hash": "2c984459284feed31c9a14003378d74ca09331dfa0d2bca43296a581903f740c"
  },
  "kernelspec": {
   "display_name": "bigmac-env",
   "language": "python",
   "name": "bigmac-env"
  },
  "language_info": {
   "codemirror_mode": {
    "name": "ipython",
    "version": 3
   },
   "file_extension": ".py",
   "mimetype": "text/x-python",
   "name": "python",
   "nbconvert_exporter": "python",
   "pygments_lexer": "ipython3",
   "version": "3.10.2"
  },
  "orig_nbformat": 4
 },
 "nbformat": 4,
 "nbformat_minor": 2
}
